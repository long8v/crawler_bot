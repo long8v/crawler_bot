{
 "cells": [
  {
   "cell_type": "code",
   "execution_count": 1,
   "metadata": {},
   "outputs": [],
   "source": [
    "import re\n",
    "import numpy as np\n",
    "import pandas as pd\n",
    "from tqdm import tqdm\n",
    "from collections import Counter\n",
    "from crawl_utils.bot_utils import *\n",
    "from crawl_utils.html_request import *\n",
    "from crawl_utils.url_extractor import *\n",
    "from crawl_utils.table_parser import *\n",
    "from crawl_utils.column_regularization import *\n",
    "from crawl_utils.create_table import *\n",
    "\n",
    "display_start()\n",
    "NON_PAYMENT = pd.read_csv('file/MERGED_depth_1.csv')\n",
    "NON_PAYMENT = NON_PAYMENT.drop_duplicates(subset='url')\n",
    "visited = set(NON_PAYMENT.url)\n",
    "change_column = pickle_open('file/change_column')"
   ]
  },
  {
   "cell_type": "code",
   "execution_count": 2,
   "metadata": {},
   "outputs": [
    {
     "data": {
      "text/plain": [
       "(216, 5)"
      ]
     },
     "execution_count": 2,
     "metadata": {},
     "output_type": "execute_result"
    }
   ],
   "source": [
    "NON_PAYMENT.shape"
   ]
  },
  {
   "cell_type": "code",
   "execution_count": 38,
   "metadata": {},
   "outputs": [],
   "source": [
    "NON_PAYMENT = pd.read_csv('file/MERGED_depth_2.csv')"
   ]
  },
  {
   "cell_type": "code",
   "execution_count": 39,
   "metadata": {},
   "outputs": [
    {
     "data": {
      "text/plain": [
       "(6772, 6)"
      ]
     },
     "execution_count": 39,
     "metadata": {},
     "output_type": "execute_result"
    }
   ],
   "source": [
    "NON_PAYMENT.shape"
   ]
  },
  {
   "cell_type": "code",
   "execution_count": 40,
   "metadata": {},
   "outputs": [
    {
     "data": {
      "text/html": [
       "<div>\n",
       "<style scoped>\n",
       "    .dataframe tbody tr th:only-of-type {\n",
       "        vertical-align: middle;\n",
       "    }\n",
       "\n",
       "    .dataframe tbody tr th {\n",
       "        vertical-align: top;\n",
       "    }\n",
       "\n",
       "    .dataframe thead th {\n",
       "        text-align: right;\n",
       "    }\n",
       "</style>\n",
       "<table border=\"1\" class=\"dataframe\">\n",
       "  <thead>\n",
       "    <tr style=\"text-align: right;\">\n",
       "      <th></th>\n",
       "      <th>Unnamed: 0</th>\n",
       "      <th>hspt_name</th>\n",
       "      <th>url</th>\n",
       "      <th>depth</th>\n",
       "      <th>text</th>\n",
       "      <th>date</th>\n",
       "    </tr>\n",
       "  </thead>\n",
       "  <tbody>\n",
       "    <tr>\n",
       "      <th>0</th>\n",
       "      <td>129.0</td>\n",
       "      <td>연세사랑병원</td>\n",
       "      <td>http://www.yonserang.com/template/etc/non_pay_...</td>\n",
       "      <td>1</td>\n",
       "      <td>연세사랑병원/비급여진료비이용안내</td>\n",
       "      <td>200320</td>\n",
       "    </tr>\n",
       "    <tr>\n",
       "      <th>1</th>\n",
       "      <td>143.0</td>\n",
       "      <td>연세건우병원</td>\n",
       "      <td>http://www.healthyfriend.co.kr/introduce/be</td>\n",
       "      <td>1</td>\n",
       "      <td>연세건우병원/-비급여</td>\n",
       "      <td>200320</td>\n",
       "    </tr>\n",
       "    <tr>\n",
       "      <th>2</th>\n",
       "      <td>407.0</td>\n",
       "      <td>바른세상병원</td>\n",
       "      <td>https://www.barunsesang.co.kr/guide/unlnsuraLi...</td>\n",
       "      <td>1</td>\n",
       "      <td>바른세상병원/비급여 진료비안내</td>\n",
       "      <td>200320</td>\n",
       "    </tr>\n",
       "    <tr>\n",
       "      <th>3</th>\n",
       "      <td>582.0</td>\n",
       "      <td>나누리수원병원</td>\n",
       "      <td>http://sw.nanoori.co.kr/policy/policy4</td>\n",
       "      <td>1</td>\n",
       "      <td>나누리수원병원/비급여진료비조회</td>\n",
       "      <td>200320</td>\n",
       "    </tr>\n",
       "    <tr>\n",
       "      <th>4</th>\n",
       "      <td>594.0</td>\n",
       "      <td>안산21세기병원</td>\n",
       "      <td>http://www.ansan21.com/guide/article/index.php</td>\n",
       "      <td>1</td>\n",
       "      <td>안산21세기병원/비급여항목</td>\n",
       "      <td>200320</td>\n",
       "    </tr>\n",
       "    <tr>\n",
       "      <th>...</th>\n",
       "      <td>...</td>\n",
       "      <td>...</td>\n",
       "      <td>...</td>\n",
       "      <td>...</td>\n",
       "      <td>...</td>\n",
       "      <td>...</td>\n",
       "    </tr>\n",
       "    <tr>\n",
       "      <th>6767</th>\n",
       "      <td>NaN</td>\n",
       "      <td>보광병원</td>\n",
       "      <td>http://www.hira.or.kr/re/diag/getNpayNotiCsuiS...</td>\n",
       "      <td>1</td>\n",
       "      <td>보광병원/goPage(8)</td>\n",
       "      <td>200325</td>\n",
       "    </tr>\n",
       "    <tr>\n",
       "      <th>6768</th>\n",
       "      <td>NaN</td>\n",
       "      <td>보광병원</td>\n",
       "      <td>http://www.hira.or.kr/re/diag/getNpayNotiCsuiS...</td>\n",
       "      <td>1</td>\n",
       "      <td>보광병원/goPage(9)</td>\n",
       "      <td>200325</td>\n",
       "    </tr>\n",
       "    <tr>\n",
       "      <th>6769</th>\n",
       "      <td>NaN</td>\n",
       "      <td>보광병원</td>\n",
       "      <td>http://www.hira.or.kr/re/diag/getNpayNotiCsuiS...</td>\n",
       "      <td>1</td>\n",
       "      <td>보광병원/goPage(10)</td>\n",
       "      <td>200325</td>\n",
       "    </tr>\n",
       "    <tr>\n",
       "      <th>6770</th>\n",
       "      <td>NaN</td>\n",
       "      <td>보광병원</td>\n",
       "      <td>http://www.hira.or.kr/re/diag/getNpayNotiCsuiS...</td>\n",
       "      <td>1</td>\n",
       "      <td>보광병원/goPage(11)</td>\n",
       "      <td>200325</td>\n",
       "    </tr>\n",
       "    <tr>\n",
       "      <th>6771</th>\n",
       "      <td>NaN</td>\n",
       "      <td>보광병원</td>\n",
       "      <td>http://www.hira.or.kr/re/diag/getNpayNotiCsuiS...</td>\n",
       "      <td>1</td>\n",
       "      <td>보광병원/goPage(12)</td>\n",
       "      <td>200325</td>\n",
       "    </tr>\n",
       "  </tbody>\n",
       "</table>\n",
       "<p>6772 rows × 6 columns</p>\n",
       "</div>"
      ],
      "text/plain": [
       "      Unnamed: 0 hspt_name                                                url  \\\n",
       "0          129.0    연세사랑병원  http://www.yonserang.com/template/etc/non_pay_...   \n",
       "1          143.0    연세건우병원        http://www.healthyfriend.co.kr/introduce/be   \n",
       "2          407.0    바른세상병원  https://www.barunsesang.co.kr/guide/unlnsuraLi...   \n",
       "3          582.0   나누리수원병원             http://sw.nanoori.co.kr/policy/policy4   \n",
       "4          594.0  안산21세기병원     http://www.ansan21.com/guide/article/index.php   \n",
       "...          ...       ...                                                ...   \n",
       "6767         NaN      보광병원  http://www.hira.or.kr/re/diag/getNpayNotiCsuiS...   \n",
       "6768         NaN      보광병원  http://www.hira.or.kr/re/diag/getNpayNotiCsuiS...   \n",
       "6769         NaN      보광병원  http://www.hira.or.kr/re/diag/getNpayNotiCsuiS...   \n",
       "6770         NaN      보광병원  http://www.hira.or.kr/re/diag/getNpayNotiCsuiS...   \n",
       "6771         NaN      보광병원  http://www.hira.or.kr/re/diag/getNpayNotiCsuiS...   \n",
       "\n",
       "      depth               text    date  \n",
       "0         1  연세사랑병원/비급여진료비이용안내  200320  \n",
       "1         1        연세건우병원/-비급여  200320  \n",
       "2         1   바른세상병원/비급여 진료비안내  200320  \n",
       "3         1   나누리수원병원/비급여진료비조회  200320  \n",
       "4         1     안산21세기병원/비급여항목  200320  \n",
       "...     ...                ...     ...  \n",
       "6767      1     보광병원/goPage(8)  200325  \n",
       "6768      1     보광병원/goPage(9)  200325  \n",
       "6769      1    보광병원/goPage(10)  200325  \n",
       "6770      1    보광병원/goPage(11)  200325  \n",
       "6771      1    보광병원/goPage(12)  200325  \n",
       "\n",
       "[6772 rows x 6 columns]"
      ]
     },
     "execution_count": 40,
     "metadata": {},
     "output_type": "execute_result"
    }
   ],
   "source": [
    "NON_PAYMENT"
   ]
  },
  {
   "cell_type": "code",
   "execution_count": 41,
   "metadata": {},
   "outputs": [],
   "source": [
    "regular = set(['비급여', \n",
    "               '>', '»', '다음', '오른',\n",
    "               '약제비', '제증명수수료', '치료재료대', '행위료', '기타', '치료재료', '약제', '행위', '제증명'])"
   ]
  },
  {
   "cell_type": "code",
   "execution_count": 42,
   "metadata": {},
   "outputs": [],
   "source": [
    "digit = re.compile('([0-9])')"
   ]
  },
  {
   "cell_type": "code",
   "execution_count": 43,
   "metadata": {},
   "outputs": [],
   "source": [
    "DIGIT = select_sub_page_by_re(NON_PAYMENT, digit)\n",
    "NEXT = select_sub_page_by_query_list(NON_PAYMENT, regular)\n",
    "NON_PAYMENT = pd.concat([NEXT, DIGIT], axis=0)"
   ]
  },
  {
   "cell_type": "code",
   "execution_count": 44,
   "metadata": {},
   "outputs": [],
   "source": [
    "NEXT = select_sub_page_by_query_list(NON_PAYMENT, regular)"
   ]
  },
  {
   "cell_type": "code",
   "execution_count": 45,
   "metadata": {},
   "outputs": [],
   "source": [
    "NON_PAYMENT = pd.concat([NEXT, DIGIT], axis=0)"
   ]
  },
  {
   "cell_type": "code",
   "execution_count": 51,
   "metadata": {},
   "outputs": [
    {
     "data": {
      "text/html": [
       "<div>\n",
       "<style scoped>\n",
       "    .dataframe tbody tr th:only-of-type {\n",
       "        vertical-align: middle;\n",
       "    }\n",
       "\n",
       "    .dataframe tbody tr th {\n",
       "        vertical-align: top;\n",
       "    }\n",
       "\n",
       "    .dataframe thead th {\n",
       "        text-align: right;\n",
       "    }\n",
       "</style>\n",
       "<table border=\"1\" class=\"dataframe\">\n",
       "  <thead>\n",
       "    <tr style=\"text-align: right;\">\n",
       "      <th></th>\n",
       "      <th>Unnamed: 0</th>\n",
       "      <th>hspt_name</th>\n",
       "      <th>url</th>\n",
       "      <th>depth</th>\n",
       "      <th>text</th>\n",
       "      <th>date</th>\n",
       "    </tr>\n",
       "  </thead>\n",
       "  <tbody>\n",
       "    <tr>\n",
       "      <th>0</th>\n",
       "      <td>129.0</td>\n",
       "      <td>연세사랑병원</td>\n",
       "      <td>http://www.yonserang.com/template/etc/non_pay_...</td>\n",
       "      <td>1</td>\n",
       "      <td>연세사랑병원/비급여진료비이용안내</td>\n",
       "      <td>200320</td>\n",
       "    </tr>\n",
       "    <tr>\n",
       "      <th>1</th>\n",
       "      <td>143.0</td>\n",
       "      <td>연세건우병원</td>\n",
       "      <td>http://www.healthyfriend.co.kr/introduce/be</td>\n",
       "      <td>1</td>\n",
       "      <td>연세건우병원/-비급여</td>\n",
       "      <td>200320</td>\n",
       "    </tr>\n",
       "    <tr>\n",
       "      <th>2</th>\n",
       "      <td>407.0</td>\n",
       "      <td>바른세상병원</td>\n",
       "      <td>https://www.barunsesang.co.kr/guide/unlnsuraLi...</td>\n",
       "      <td>1</td>\n",
       "      <td>바른세상병원/비급여 진료비안내</td>\n",
       "      <td>200320</td>\n",
       "    </tr>\n",
       "    <tr>\n",
       "      <th>3</th>\n",
       "      <td>582.0</td>\n",
       "      <td>나누리수원병원</td>\n",
       "      <td>http://sw.nanoori.co.kr/policy/policy4</td>\n",
       "      <td>1</td>\n",
       "      <td>나누리수원병원/비급여진료비조회</td>\n",
       "      <td>200320</td>\n",
       "    </tr>\n",
       "    <tr>\n",
       "      <th>4</th>\n",
       "      <td>594.0</td>\n",
       "      <td>안산21세기병원</td>\n",
       "      <td>http://www.ansan21.com/guide/article/index.php</td>\n",
       "      <td>1</td>\n",
       "      <td>안산21세기병원/비급여항목</td>\n",
       "      <td>200320</td>\n",
       "    </tr>\n",
       "    <tr>\n",
       "      <th>...</th>\n",
       "      <td>...</td>\n",
       "      <td>...</td>\n",
       "      <td>...</td>\n",
       "      <td>...</td>\n",
       "      <td>...</td>\n",
       "      <td>...</td>\n",
       "    </tr>\n",
       "    <tr>\n",
       "      <th>6767</th>\n",
       "      <td>NaN</td>\n",
       "      <td>보광병원</td>\n",
       "      <td>http://www.hira.or.kr/re/diag/getNpayNotiCsuiS...</td>\n",
       "      <td>1</td>\n",
       "      <td>보광병원/goPage(8)</td>\n",
       "      <td>200325</td>\n",
       "    </tr>\n",
       "    <tr>\n",
       "      <th>6768</th>\n",
       "      <td>NaN</td>\n",
       "      <td>보광병원</td>\n",
       "      <td>http://www.hira.or.kr/re/diag/getNpayNotiCsuiS...</td>\n",
       "      <td>1</td>\n",
       "      <td>보광병원/goPage(9)</td>\n",
       "      <td>200325</td>\n",
       "    </tr>\n",
       "    <tr>\n",
       "      <th>6769</th>\n",
       "      <td>NaN</td>\n",
       "      <td>보광병원</td>\n",
       "      <td>http://www.hira.or.kr/re/diag/getNpayNotiCsuiS...</td>\n",
       "      <td>1</td>\n",
       "      <td>보광병원/goPage(10)</td>\n",
       "      <td>200325</td>\n",
       "    </tr>\n",
       "    <tr>\n",
       "      <th>6770</th>\n",
       "      <td>NaN</td>\n",
       "      <td>보광병원</td>\n",
       "      <td>http://www.hira.or.kr/re/diag/getNpayNotiCsuiS...</td>\n",
       "      <td>1</td>\n",
       "      <td>보광병원/goPage(11)</td>\n",
       "      <td>200325</td>\n",
       "    </tr>\n",
       "    <tr>\n",
       "      <th>6771</th>\n",
       "      <td>NaN</td>\n",
       "      <td>보광병원</td>\n",
       "      <td>http://www.hira.or.kr/re/diag/getNpayNotiCsuiS...</td>\n",
       "      <td>1</td>\n",
       "      <td>보광병원/goPage(12)</td>\n",
       "      <td>200325</td>\n",
       "    </tr>\n",
       "  </tbody>\n",
       "</table>\n",
       "<p>1511 rows × 6 columns</p>\n",
       "</div>"
      ],
      "text/plain": [
       "      Unnamed: 0 hspt_name                                                url  \\\n",
       "0          129.0    연세사랑병원  http://www.yonserang.com/template/etc/non_pay_...   \n",
       "1          143.0    연세건우병원        http://www.healthyfriend.co.kr/introduce/be   \n",
       "2          407.0    바른세상병원  https://www.barunsesang.co.kr/guide/unlnsuraLi...   \n",
       "3          582.0   나누리수원병원             http://sw.nanoori.co.kr/policy/policy4   \n",
       "4          594.0  안산21세기병원     http://www.ansan21.com/guide/article/index.php   \n",
       "...          ...       ...                                                ...   \n",
       "6767         NaN      보광병원  http://www.hira.or.kr/re/diag/getNpayNotiCsuiS...   \n",
       "6768         NaN      보광병원  http://www.hira.or.kr/re/diag/getNpayNotiCsuiS...   \n",
       "6769         NaN      보광병원  http://www.hira.or.kr/re/diag/getNpayNotiCsuiS...   \n",
       "6770         NaN      보광병원  http://www.hira.or.kr/re/diag/getNpayNotiCsuiS...   \n",
       "6771         NaN      보광병원  http://www.hira.or.kr/re/diag/getNpayNotiCsuiS...   \n",
       "\n",
       "      depth               text    date  \n",
       "0         1  연세사랑병원/비급여진료비이용안내  200320  \n",
       "1         1        연세건우병원/-비급여  200320  \n",
       "2         1   바른세상병원/비급여 진료비안내  200320  \n",
       "3         1   나누리수원병원/비급여진료비조회  200320  \n",
       "4         1     안산21세기병원/비급여항목  200320  \n",
       "...     ...                ...     ...  \n",
       "6767      1     보광병원/goPage(8)  200325  \n",
       "6768      1     보광병원/goPage(9)  200325  \n",
       "6769      1    보광병원/goPage(10)  200325  \n",
       "6770      1    보광병원/goPage(11)  200325  \n",
       "6771      1    보광병원/goPage(12)  200325  \n",
       "\n",
       "[1511 rows x 6 columns]"
      ]
     },
     "execution_count": 51,
     "metadata": {},
     "output_type": "execute_result"
    }
   ],
   "source": [
    "NON_PAYMENT"
   ]
  },
  {
   "cell_type": "code",
   "execution_count": 49,
   "metadata": {},
   "outputs": [],
   "source": [
    "NON_PAYMENT = NON_PAYMENT.drop_duplicates()"
   ]
  },
  {
   "cell_type": "code",
   "execution_count": 50,
   "metadata": {},
   "outputs": [],
   "source": [
    "NON_PAYMENT.to_csv('file/regular_NON.csv')"
   ]
  },
  {
   "cell_type": "code",
   "execution_count": 7,
   "metadata": {},
   "outputs": [
    {
     "data": {
      "text/plain": [
       "[('다음', 45),\n",
       " (' 오른쪽', 12),\n",
       " ('다음글', 11),\n",
       " ('다음10개', 10),\n",
       " ('>', 8),\n",
       " ('>>', 7),\n",
       " ('리스트 다음으로', 6),\n",
       " ('»ó¼¼º¸±â', 6),\n",
       " ('다음페이지', 3),\n",
       " ('다음 목록', 3),\n",
       " ('오른쪽 화살표', 3)]"
      ]
     },
     "execution_count": 7,
     "metadata": {},
     "output_type": "execute_result"
    }
   ],
   "source": [
    "Counter([_.split('/')[1] for _ in NON_PAYMENT.text]).most_common(11)"
   ]
  },
  {
   "cell_type": "code",
   "execution_count": null,
   "metadata": {},
   "outputs": [],
   "source": []
  }
 ],
 "metadata": {
  "kernelspec": {
   "display_name": "Python 3",
   "language": "python",
   "name": "python3"
  },
  "language_info": {
   "codemirror_mode": {
    "name": "ipython",
    "version": 3
   },
   "file_extension": ".py",
   "mimetype": "text/x-python",
   "name": "python",
   "nbconvert_exporter": "python",
   "pygments_lexer": "ipython3",
   "version": "3.8.1"
  }
 },
 "nbformat": 4,
 "nbformat_minor": 4
}
