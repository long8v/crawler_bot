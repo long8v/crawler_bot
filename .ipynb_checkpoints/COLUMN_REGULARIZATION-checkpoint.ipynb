{
 "cells": [
  {
   "cell_type": "code",
   "execution_count": 11,
   "metadata": {},
   "outputs": [],
   "source": [
    "import numpy as np\n",
    "import pandas as pd\n",
    "from collections import Counter\n",
    "from crawl_utils.url_extractor import *\n",
    "from crawl_utils.table_parser import *\n",
    "from crawl_utils.html_request import *\n",
    "from crawl_utils.create_table import *\n",
    "from crawl_utils.html_parser import *"
   ]
  },
  {
   "cell_type": "code",
   "execution_count": 12,
   "metadata": {},
   "outputs": [],
   "source": [
    "HSPT_URL = pd.read_csv('HSPT_URL.csv')\n",
    "HSPT_CHILDREN_URL = pd.read_csv('HSPT_CHILDREN_URL_depth_1.csv')"
   ]
  },
  {
   "cell_type": "code",
   "execution_count": null,
   "metadata": {},
   "outputs": [],
   "source": []
  },
  {
   "cell_type": "code",
   "execution_count": 3,
   "metadata": {},
   "outputs": [],
   "source": [
    "visited = set(HSPT_CHILDREN_URL.url)"
   ]
  },
  {
   "cell_type": "code",
   "execution_count": 4,
   "metadata": {},
   "outputs": [],
   "source": [
    "NON_PAYMENT = select_sub_page_by_query(HSPT_CHILDREN_URL, '비급여')"
   ]
  },
  {
   "cell_type": "code",
   "execution_count": 5,
   "metadata": {},
   "outputs": [
    {
     "data": {
      "text/plain": [
       "159                연세사랑병원\n",
       "176                연세건우병원\n",
       "445                바른세상병원\n",
       "619      의료법인나누리의료재단나누리병원\n",
       "651               나누리수원병원\n",
       "               ...       \n",
       "11969               한사랑병원\n",
       "11991              서울우리병원\n",
       "12012              여수한국병원\n",
       "12157               척사랑병원\n",
       "12176         세연마취통증의학과의원\n",
       "Name: hspt_name, Length: 160, dtype: object"
      ]
     },
     "execution_count": 5,
     "metadata": {},
     "output_type": "execute_result"
    }
   ],
   "source": [
    "NON_PAYMENT.hspt_name"
   ]
  },
  {
   "cell_type": "code",
   "execution_count": 6,
   "metadata": {},
   "outputs": [
    {
     "name": "stdout",
     "output_type": "stream",
     "text": [
      "http://www.goodspine.org/content/content.asp?FolderName=community&fileName=community_08\n",
      "http://www.stpeters.co.kr/content/content.asp?FolderName=community&fileName=community_08\n"
     ]
    }
   ],
   "source": [
    "for idx, _ in select_sub_page_by_hspt_name(NON_PAYMENT, '베드로').iterrows():\n",
    "    print(_.url)"
   ]
  },
  {
   "cell_type": "code",
   "execution_count": 7,
   "metadata": {
    "scrolled": true
   },
   "outputs": [
    {
     "name": "stdout",
     "output_type": "stream",
     "text": [
      "404\n",
      "Not Found\n",
      "{'Date': 'Thu, 12 Mar 2020 07:53:18 GMT', 'Server': 'Apache/2.2.3 (CentOS)', 'Content-Length': '313', 'Connection': 'close', 'Content-Type': 'text/html; charset=iso-8859-1'}\n",
      "https://www.sehunghospital.co.kr/sub/treatment/treat05.html?menu=5\n",
      "http://www.scwoori.com/sub03/sub0306.php invalid literal for int() with base 10: '82 width='\n",
      "3\n"
     ]
    }
   ],
   "source": [
    "table_list = {}\n",
    "no_table = set([])\n",
    "error = set([])\n",
    "for idx, row in NON_PAYMENT.iterrows():\n",
    "    try:\n",
    "        table = table_parsing(row.url)\n",
    "        if table:\n",
    "            table_list[\"{}/{}\".format(row.hspt_name, row.text)] = table\n",
    "        else:\n",
    "            no_table.update([row.hspt_name])\n",
    "    except Exception as e:\n",
    "        print(row.url, e)"
   ]
  },
  {
   "cell_type": "code",
   "execution_count": 8,
   "metadata": {},
   "outputs": [
    {
     "data": {
      "text/plain": [
       "240"
      ]
     },
     "execution_count": 8,
     "metadata": {},
     "output_type": "execute_result"
    }
   ],
   "source": [
    "len(set(HSPT_URL.hspt_name))"
   ]
  },
  {
   "cell_type": "code",
   "execution_count": 9,
   "metadata": {},
   "outputs": [
    {
     "data": {
      "text/plain": [
       "63"
      ]
     },
     "execution_count": 9,
     "metadata": {},
     "output_type": "execute_result"
    }
   ],
   "source": [
    "len(set(HSPT_CHILDREN_URL.hspt_name).difference(set(NON_PAYMENT.hspt_name)))"
   ]
  },
  {
   "cell_type": "code",
   "execution_count": 10,
   "metadata": {
    "scrolled": true
   },
   "outputs": [
    {
     "data": {
      "text/plain": [
       "144"
      ]
     },
     "execution_count": 10,
     "metadata": {},
     "output_type": "execute_result"
    }
   ],
   "source": [
    "len(set(NON_PAYMENT.hspt_name))"
   ]
  },
  {
   "cell_type": "code",
   "execution_count": null,
   "metadata": {},
   "outputs": [],
   "source": [
    "len(set(_.split('/')[0] for _ in table_list.keys()))"
   ]
  },
  {
   "cell_type": "code",
   "execution_count": null,
   "metadata": {
    "scrolled": true
   },
   "outputs": [],
   "source": [
    "len(table_list), len([key for key, value in table_list.items() if value])"
   ]
  },
  {
   "cell_type": "code",
   "execution_count": 8,
   "metadata": {
    "scrolled": false
   },
   "outputs": [],
   "source": [
    "column = ['분류', '구분', '명칭', '코드', '비용', '특이사항', '최저비용', '약제비포함여부', '치료재료대포함여부', '최고비용',\n",
    "         '중분류', '소분류']\n",
    "change_column = {c:c for c in column}\n",
    "\n",
    "counter = Counter([c for table in table_list.values() for t in table for c in t.columns]).most_common()\n",
    "column = {'최대':'최고비용','최저': '최저비용', '최고':'최고비용', '최소':'최저비용', \n",
    "          '비고':'특이사항',  '기타':'특이사항', '단위' : '특이사항',\n",
    "          '단가': '비용', '금액':'비용', '가격':'비용', '(원)':'비용',\n",
    "          '수가명칭':'명칭', '내용':'명칭', '비급여명':'명칭', '처방명':'명칭', \n",
    "          '항목':'명칭', '품목':'명칭', '수가명':'명칭', '명':'명칭', '품명':'명칭', '기본항목':'명칭',\n",
    "          '수가':'비용', '일반수가':'비용',\n",
    "          '약제':'약제비포함여부', '약재':'약제비포함여부', \n",
    "          '치료재료':'치료재료대포함여부', '치료대':'치료재료대포함여부', }\n",
    "change_column.update(column)\n",
    "\n",
    "for c, v in counter:\n",
    "    c = str(c)\n",
    "    for col in column:\n",
    "        if len(c) == 1 or len(col) == 1:\n",
    "            continue\n",
    "        if c in col:\n",
    "            if c ==\"\":\n",
    "                continue\n",
    "            change_column[c] = column[col]\n",
    "        if col in c:\n",
    "            change_column[c] = column[col]\n",
    "\n",
    "change_column = dict(filter(lambda e: len(e[0]) < 10 and len(e[0]) > 1, change_column.items()))"
   ]
  },
  {
   "cell_type": "code",
   "execution_count": 9,
   "metadata": {},
   "outputs": [],
   "source": [
    "change_column['제증명 내역'] = '명칭'\n",
    "change_column['기본항목'] = '명칭'\n",
    "change_column['분류/명칭'] = '명칭'\n",
    "change_column['수가명'] = '명칭'\n",
    "change_column['상세 분류'] = '명칭'\n",
    "change_column['세부항목'] = '명칭'\n",
    "change_column['수가코드'] = '특이사항'\n",
    "change_column['수가명칭(한글)'] = '명칭'\n",
    "change_column['최저부가비율'] = '특이사항'\n",
    "change_column['최고가비율'] = '특이사항'\n",
    "change_column['비급여가(원)'] = '비용'\n",
    "change_column['단위'] = '특이사항'"
   ]
  },
  {
   "cell_type": "code",
   "execution_count": 10,
   "metadata": {},
   "outputs": [],
   "source": [
    "gubun = ['제증명료 구분','상급병실료 구분','식대료 구분','이송료 구분','주사료 구분','처치수술료 구분', '처치수술료 구분', '약제료 구분']\n",
    "for gub in gubun:\n",
    "    change_column[gub] = '명칭'"
   ]
  },
  {
   "cell_type": "code",
   "execution_count": 11,
   "metadata": {},
   "outputs": [],
   "source": [
    "def rename_column(table, change_column):\n",
    "    table.columns = list(map(query_re, table.columns))\n",
    "    change_dict = \\\n",
    "    dict(filter(lambda f: f[0] in list(filter(lambda e: e in change_column, table.columns)), \n",
    "                change_column.items()))\n",
    "    table = table.rename(columns = change_dict)\n",
    "    return table"
   ]
  },
  {
   "cell_type": "code",
   "execution_count": 12,
   "metadata": {},
   "outputs": [],
   "source": [
    "def filter_column(table, change_column):\n",
    "    return table[set(filter(lambda e: e in change_column, table.columns))]"
   ]
  },
  {
   "cell_type": "code",
   "execution_count": 13,
   "metadata": {},
   "outputs": [],
   "source": [
    "def change_duplicate_column(cols):\n",
    "    new_col = []\n",
    "    i = 0\n",
    "    dups = list(filter(lambda e: e[1]>1, Counter(cols).items()))\n",
    "    dups = [_[0] for _ in dups]\n",
    "    for _ in cols:\n",
    "        if _ in dups:\n",
    "            if not i:\n",
    "                new_col += [_]\n",
    "                i += 1\n",
    "            else:\n",
    "                new_col += ['중복컬럼_{}'.format(i)]\n",
    "                i += 1\n",
    "        else:\n",
    "            new_col += [_]\n",
    "    return new_col"
   ]
  },
  {
   "cell_type": "code",
   "execution_count": 15,
   "metadata": {
    "scrolled": false
   },
   "outputs": [],
   "source": [
    "null_hspt_list = set([])\n",
    "filtered_df_list = []\n",
    "for hspt, tables in table_list.items():\n",
    "    for table in tables:\n",
    "        filtered_df = filter_column(rename_column(table, change_column), change_column)\n",
    "        filtered_df.columns = change_duplicate_column(filtered_df.columns)\n",
    "        filtered_df = filtered_df.apply(lambda e: [str(_).strip() for _ in e])\n",
    "        if not filtered_df.empty:\n",
    "            filtered_df['병원명'] = hspt.split('/')[0]\n",
    "            filtered_df_list += [filtered_df]\n",
    "        else:\n",
    "            null_hspt_list.update([hspt.split('/')[0]])"
   ]
  },
  {
   "cell_type": "code",
   "execution_count": 16,
   "metadata": {},
   "outputs": [
    {
     "data": {
      "text/plain": [
       "42"
      ]
     },
     "execution_count": 16,
     "metadata": {},
     "output_type": "execute_result"
    }
   ],
   "source": [
    "len(set(null_hspt_list))"
   ]
  },
  {
   "cell_type": "code",
   "execution_count": 17,
   "metadata": {},
   "outputs": [],
   "source": [
    "for _ in filtered_df_list:\n",
    "    if len(set(_.columns)) != len(_.columns):\n",
    "        print(_)"
   ]
  },
  {
   "cell_type": "code",
   "execution_count": 18,
   "metadata": {},
   "outputs": [],
   "source": [
    "final_table = reduce(lambda a, b: pd.concat([a,b], ignore_index=True), filtered_df_list)"
   ]
  },
  {
   "cell_type": "code",
   "execution_count": 19,
   "metadata": {},
   "outputs": [],
   "source": [
    "final_table = final_table.applymap(lambda e: np.nan if e==\"\" else e)\n",
    "final_table = final_table.dropna(how='all')"
   ]
  },
  {
   "cell_type": "code",
   "execution_count": 53,
   "metadata": {},
   "outputs": [
    {
     "data": {
      "text/plain": [
       "104"
      ]
     },
     "execution_count": 53,
     "metadata": {},
     "output_type": "execute_result"
    }
   ],
   "source": [
    "len(set(final_table.병원명))"
   ]
  },
  {
   "cell_type": "code",
   "execution_count": 54,
   "metadata": {},
   "outputs": [
    {
     "data": {
      "text/plain": [
       "(12064, 20)"
      ]
     },
     "execution_count": 54,
     "metadata": {},
     "output_type": "execute_result"
    }
   ],
   "source": [
    "final_table.shape"
   ]
  },
  {
   "cell_type": "code",
   "execution_count": 55,
   "metadata": {},
   "outputs": [
    {
     "name": "stdout",
     "output_type": "stream",
     "text": [
      "<class 'pandas.core.frame.DataFrame'>\n",
      "Int64Index: 12064 entries, 0 to 12063\n",
      "Data columns (total 20 columns):\n",
      " #   Column     Non-Null Count  Dtype \n",
      "---  ------     --------------  ----- \n",
      " 0   최고비용       1593 non-null   object\n",
      " 1   치료재료대포함여부  701 non-null    object\n",
      " 2   구분         2974 non-null   object\n",
      " 3   명칭         11550 non-null  object\n",
      " 4   특이사항       2257 non-null   object\n",
      " 5   분류         5358 non-null   object\n",
      " 6   코드         5179 non-null   object\n",
      " 7   최저비용       2401 non-null   object\n",
      " 8   약제비포함여부    546 non-null    object\n",
      " 9   비용         8520 non-null   object\n",
      " 10  병원명        12064 non-null  object\n",
      " 11  중분류        1290 non-null   object\n",
      " 12  중복컬럼_1     1529 non-null   object\n",
      " 13  소분류        221 non-null    object\n",
      " 14  중복컬럼_2     294 non-null    object\n",
      " 15  중복컬럼_3     288 non-null    object\n",
      " 16  중복컬럼_4     90 non-null     object\n",
      " 17  중복컬럼_5     90 non-null     object\n",
      " 18  중복컬럼_6     90 non-null     object\n",
      " 19  중복컬럼_7     87 non-null     object\n",
      "dtypes: object(20)\n",
      "memory usage: 1.9+ MB\n"
     ]
    }
   ],
   "source": [
    "final_table.info()"
   ]
  },
  {
   "cell_type": "code",
   "execution_count": 56,
   "metadata": {},
   "outputs": [
    {
     "data": {
      "text/plain": [
       "Index(['최고비용', '치료재료대포함여부', '구분', '명칭', '특이사항', '분류', '코드', '최저비용', '약제비포함여부',\n",
       "       '비용', '병원명', '중분류', '중복컬럼_1', '소분류', '중복컬럼_2', '중복컬럼_3', '중복컬럼_4',\n",
       "       '중복컬럼_5', '중복컬럼_6', '중복컬럼_7'],\n",
       "      dtype='object')"
      ]
     },
     "execution_count": 56,
     "metadata": {},
     "output_type": "execute_result"
    }
   ],
   "source": [
    "final_table.columns"
   ]
  },
  {
   "cell_type": "code",
   "execution_count": 57,
   "metadata": {},
   "outputs": [],
   "source": [
    "sort_column = ['병원명', '명칭', '분류', '소분류', '중분류', '중복컬럼_1','중복컬럼_2', '비용', '최저비용', '최고비용', \n",
    "               '코드', '구분', '특이사항', '약제비포함여부',  '치료재료대포함여부']"
   ]
  },
  {
   "cell_type": "code",
   "execution_count": 58,
   "metadata": {},
   "outputs": [
    {
     "data": {
      "text/plain": [
       "104"
      ]
     },
     "execution_count": 58,
     "metadata": {},
     "output_type": "execute_result"
    }
   ],
   "source": [
    "len(set(final_table.병원명))"
   ]
  },
  {
   "cell_type": "code",
   "execution_count": 59,
   "metadata": {},
   "outputs": [],
   "source": [
    "no_name = final_table[final_table[\"명칭\"].isna()]"
   ]
  },
  {
   "cell_type": "code",
   "execution_count": 60,
   "metadata": {},
   "outputs": [],
   "source": [
    "yes_name = final_table[~final_table[\"명칭\"].isna()]"
   ]
  },
  {
   "cell_type": "code",
   "execution_count": 61,
   "metadata": {},
   "outputs": [],
   "source": [
    "yes_cost = final_table.dropna(how='all', subset=['최고비용', '최저비용', '비용'])"
   ]
  },
  {
   "cell_type": "code",
   "execution_count": 62,
   "metadata": {},
   "outputs": [],
   "source": [
    "yes_cost = yes_cost[sort_column]"
   ]
  },
  {
   "cell_type": "code",
   "execution_count": 63,
   "metadata": {},
   "outputs": [
    {
     "data": {
      "text/plain": [
       "95"
      ]
     },
     "execution_count": 63,
     "metadata": {},
     "output_type": "execute_result"
    }
   ],
   "source": [
    "len(set(yes_cost.병원명))"
   ]
  },
  {
   "cell_type": "code",
   "execution_count": 30,
   "metadata": {},
   "outputs": [],
   "source": [
    "yes_cost = yes_cost[sort_column]"
   ]
  },
  {
   "cell_type": "code",
   "execution_count": 31,
   "metadata": {},
   "outputs": [],
   "source": [
    "import time"
   ]
  },
  {
   "cell_type": "code",
   "execution_count": 37,
   "metadata": {},
   "outputs": [],
   "source": [
    "time_str = time.strftime('%y%m%d', time.localtime(time.time()))"
   ]
  },
  {
   "cell_type": "code",
   "execution_count": 33,
   "metadata": {},
   "outputs": [
    {
     "data": {
      "text/plain": [
       "1583999153.5485666"
      ]
     },
     "execution_count": 33,
     "metadata": {},
     "output_type": "execute_result"
    }
   ],
   "source": [
    "time.time()"
   ]
  },
  {
   "cell_type": "code",
   "execution_count": 39,
   "metadata": {},
   "outputs": [],
   "source": [
    "yes_cost.to_csv('yes_cost_{}.csv'.format(time_str), index=None)"
   ]
  },
  {
   "cell_type": "code",
   "execution_count": 342,
   "metadata": {},
   "outputs": [
    {
     "data": {
      "text/html": [
       "<div>\n",
       "<style scoped>\n",
       "    .dataframe tbody tr th:only-of-type {\n",
       "        vertical-align: middle;\n",
       "    }\n",
       "\n",
       "    .dataframe tbody tr th {\n",
       "        vertical-align: top;\n",
       "    }\n",
       "\n",
       "    .dataframe thead th {\n",
       "        text-align: right;\n",
       "    }\n",
       "</style>\n",
       "<table border=\"1\" class=\"dataframe\">\n",
       "  <thead>\n",
       "    <tr style=\"text-align: right;\">\n",
       "      <th></th>\n",
       "      <th>병원명</th>\n",
       "      <th>명칭</th>\n",
       "      <th>명칭_2</th>\n",
       "      <th>분류</th>\n",
       "      <th>소분류</th>\n",
       "      <th>중분류</th>\n",
       "      <th>비용</th>\n",
       "      <th>최저비용</th>\n",
       "      <th>최고비용</th>\n",
       "      <th>코드</th>\n",
       "      <th>구분</th>\n",
       "      <th>특이사항</th>\n",
       "      <th>약제비포함여부</th>\n",
       "      <th>치료재료대포함여부</th>\n",
       "    </tr>\n",
       "  </thead>\n",
       "  <tbody>\n",
       "    <tr>\n",
       "      <th>1000</th>\n",
       "      <td>고도일병원</td>\n",
       "      <td>NaN</td>\n",
       "      <td>NaN</td>\n",
       "      <td>자율신경검사</td>\n",
       "      <td>NaN</td>\n",
       "      <td>검사료</td>\n",
       "      <td>NaN</td>\n",
       "      <td>NaN</td>\n",
       "      <td>50,000</td>\n",
       "      <td>FY894</td>\n",
       "      <td>NaN</td>\n",
       "      <td>NaN</td>\n",
       "      <td>NaN</td>\n",
       "      <td>NaN</td>\n",
       "    </tr>\n",
       "    <tr>\n",
       "      <th>1001</th>\n",
       "      <td>고도일병원</td>\n",
       "      <td>NaN</td>\n",
       "      <td>NaN</td>\n",
       "      <td>하지동맥 경화도검사</td>\n",
       "      <td>NaN</td>\n",
       "      <td>검사료</td>\n",
       "      <td>NaN</td>\n",
       "      <td>NaN</td>\n",
       "      <td>50,000</td>\n",
       "      <td>EZ868</td>\n",
       "      <td>NaN</td>\n",
       "      <td>NaN</td>\n",
       "      <td>NaN</td>\n",
       "      <td>NaN</td>\n",
       "    </tr>\n",
       "    <tr>\n",
       "      <th>1005</th>\n",
       "      <td>고도일병원</td>\n",
       "      <td>NaN</td>\n",
       "      <td>NaN</td>\n",
       "      <td>디퓨젼 스캔</td>\n",
       "      <td>NaN</td>\n",
       "      <td>자기공명영상진단료(MRI)</td>\n",
       "      <td>NaN</td>\n",
       "      <td>NaN</td>\n",
       "      <td>100,000</td>\n",
       "      <td>NaN</td>\n",
       "      <td>NaN</td>\n",
       "      <td>급여인정기준외</td>\n",
       "      <td>NaN</td>\n",
       "      <td>NaN</td>\n",
       "    </tr>\n",
       "    <tr>\n",
       "      <th>1007</th>\n",
       "      <td>고도일병원</td>\n",
       "      <td>NaN</td>\n",
       "      <td>NaN</td>\n",
       "      <td>MRI(두경부)</td>\n",
       "      <td>NaN</td>\n",
       "      <td>자기공명영상진단료(MRI)</td>\n",
       "      <td>NaN</td>\n",
       "      <td>NaN</td>\n",
       "      <td>450,000</td>\n",
       "      <td>HE403</td>\n",
       "      <td>NaN</td>\n",
       "      <td>급여인정기준외</td>\n",
       "      <td>NaN</td>\n",
       "      <td>NaN</td>\n",
       "    </tr>\n",
       "    <tr>\n",
       "      <th>1030</th>\n",
       "      <td>고도일병원</td>\n",
       "      <td>NaN</td>\n",
       "      <td>NaN</td>\n",
       "      <td>MRI (경부혈관)</td>\n",
       "      <td>NaN</td>\n",
       "      <td>자기공명영상진단료(MRI)</td>\n",
       "      <td>NaN</td>\n",
       "      <td>NaN</td>\n",
       "      <td>450,000</td>\n",
       "      <td>NaN</td>\n",
       "      <td>NaN</td>\n",
       "      <td>급여인정기준외</td>\n",
       "      <td>NaN</td>\n",
       "      <td>NaN</td>\n",
       "    </tr>\n",
       "    <tr>\n",
       "      <th>...</th>\n",
       "      <td>...</td>\n",
       "      <td>...</td>\n",
       "      <td>...</td>\n",
       "      <td>...</td>\n",
       "      <td>...</td>\n",
       "      <td>...</td>\n",
       "      <td>...</td>\n",
       "      <td>...</td>\n",
       "      <td>...</td>\n",
       "      <td>...</td>\n",
       "      <td>...</td>\n",
       "      <td>...</td>\n",
       "      <td>...</td>\n",
       "      <td>...</td>\n",
       "    </tr>\n",
       "    <tr>\n",
       "      <th>11222</th>\n",
       "      <td>전주우리병원</td>\n",
       "      <td>NaN</td>\n",
       "      <td>NaN</td>\n",
       "      <td>NaN</td>\n",
       "      <td>NaN</td>\n",
       "      <td>NaN</td>\n",
       "      <td>880,000</td>\n",
       "      <td>NaN</td>\n",
       "      <td>NaN</td>\n",
       "      <td>NaN</td>\n",
       "      <td>NaN</td>\n",
       "      <td>1개</td>\n",
       "      <td>NaN</td>\n",
       "      <td>NaN</td>\n",
       "    </tr>\n",
       "    <tr>\n",
       "      <th>11223</th>\n",
       "      <td>전주우리병원</td>\n",
       "      <td>NaN</td>\n",
       "      <td>NaN</td>\n",
       "      <td>NaN</td>\n",
       "      <td>NaN</td>\n",
       "      <td>NaN</td>\n",
       "      <td>1,550,000</td>\n",
       "      <td>NaN</td>\n",
       "      <td>NaN</td>\n",
       "      <td>NaN</td>\n",
       "      <td>NaN</td>\n",
       "      <td>1개</td>\n",
       "      <td>NaN</td>\n",
       "      <td>NaN</td>\n",
       "    </tr>\n",
       "    <tr>\n",
       "      <th>11224</th>\n",
       "      <td>전주우리병원</td>\n",
       "      <td>NaN</td>\n",
       "      <td>NaN</td>\n",
       "      <td>NaN</td>\n",
       "      <td>NaN</td>\n",
       "      <td>NaN</td>\n",
       "      <td>650,000</td>\n",
       "      <td>NaN</td>\n",
       "      <td>NaN</td>\n",
       "      <td>NaN</td>\n",
       "      <td>NaN</td>\n",
       "      <td>1개</td>\n",
       "      <td>NaN</td>\n",
       "      <td>NaN</td>\n",
       "    </tr>\n",
       "    <tr>\n",
       "      <th>11225</th>\n",
       "      <td>전주우리병원</td>\n",
       "      <td>NaN</td>\n",
       "      <td>NaN</td>\n",
       "      <td>NaN</td>\n",
       "      <td>NaN</td>\n",
       "      <td>NaN</td>\n",
       "      <td>800,000</td>\n",
       "      <td>NaN</td>\n",
       "      <td>NaN</td>\n",
       "      <td>NaN</td>\n",
       "      <td>NaN</td>\n",
       "      <td>1개</td>\n",
       "      <td>NaN</td>\n",
       "      <td>NaN</td>\n",
       "    </tr>\n",
       "    <tr>\n",
       "      <th>11226</th>\n",
       "      <td>전주우리병원</td>\n",
       "      <td>NaN</td>\n",
       "      <td>NaN</td>\n",
       "      <td>NaN</td>\n",
       "      <td>NaN</td>\n",
       "      <td>NaN</td>\n",
       "      <td>1,800,000</td>\n",
       "      <td>NaN</td>\n",
       "      <td>NaN</td>\n",
       "      <td>NaN</td>\n",
       "      <td>NaN</td>\n",
       "      <td>1개</td>\n",
       "      <td>NaN</td>\n",
       "      <td>NaN</td>\n",
       "    </tr>\n",
       "  </tbody>\n",
       "</table>\n",
       "<p>403 rows × 14 columns</p>\n",
       "</div>"
      ],
      "text/plain": [
       "          병원명   명칭 명칭_2          분류  소분류             중분류         비용 최저비용  \\\n",
       "1000   고도일병원   NaN  NaN  자율신경검사      NaN  검사료             NaN        NaN   \n",
       "1001   고도일병원   NaN  NaN  하지동맥 경화도검사  NaN  검사료             NaN        NaN   \n",
       "1005   고도일병원   NaN  NaN  디퓨젼 스캔      NaN  자기공명영상진단료(MRI)  NaN        NaN   \n",
       "1007   고도일병원   NaN  NaN  MRI(두경부)    NaN  자기공명영상진단료(MRI)  NaN        NaN   \n",
       "1030   고도일병원   NaN  NaN  MRI (경부혈관)  NaN  자기공명영상진단료(MRI)  NaN        NaN   \n",
       "...      ...   ...  ...         ...  ...             ...  ...        ...   \n",
       "11222  전주우리병원  NaN  NaN  NaN         NaN  NaN             880,000    NaN   \n",
       "11223  전주우리병원  NaN  NaN  NaN         NaN  NaN             1,550,000  NaN   \n",
       "11224  전주우리병원  NaN  NaN  NaN         NaN  NaN             650,000    NaN   \n",
       "11225  전주우리병원  NaN  NaN  NaN         NaN  NaN             800,000    NaN   \n",
       "11226  전주우리병원  NaN  NaN  NaN         NaN  NaN             1,800,000  NaN   \n",
       "\n",
       "          최고비용     코드   구분     특이사항 약제비포함여부 치료재료대포함여부  \n",
       "1000   50,000   FY894  NaN  NaN      NaN     NaN       \n",
       "1001   50,000   EZ868  NaN  NaN      NaN     NaN       \n",
       "1005   100,000  NaN    NaN  급여인정기준외  NaN     NaN       \n",
       "1007   450,000  HE403  NaN  급여인정기준외  NaN     NaN       \n",
       "1030   450,000  NaN    NaN  급여인정기준외  NaN     NaN       \n",
       "...        ...  ...    ...      ...  ...     ...       \n",
       "11222  NaN      NaN    NaN  1개       NaN     NaN       \n",
       "11223  NaN      NaN    NaN  1개       NaN     NaN       \n",
       "11224  NaN      NaN    NaN  1개       NaN     NaN       \n",
       "11225  NaN      NaN    NaN  1개       NaN     NaN       \n",
       "11226  NaN      NaN    NaN  1개       NaN     NaN       \n",
       "\n",
       "[403 rows x 14 columns]"
      ]
     },
     "execution_count": 342,
     "metadata": {},
     "output_type": "execute_result"
    }
   ],
   "source": [
    "yes_cost[yes_cost[\"명칭\"].isnull()]"
   ]
  },
  {
   "cell_type": "code",
   "execution_count": 275,
   "metadata": {},
   "outputs": [
    {
     "data": {
      "text/plain": [
       "403"
      ]
     },
     "execution_count": 275,
     "metadata": {},
     "output_type": "execute_result"
    }
   ],
   "source": [
    "sum(a.isnull())"
   ]
  },
  {
   "cell_type": "code",
   "execution_count": 216,
   "metadata": {},
   "outputs": [],
   "source": [
    "sort_column = ['병원명', '명칭', '명칭_2', '분류', '소분류', '중분류', '비용', '최저비용', '최고비용', \n",
    "               '코드', '구분', '특이사항', '약제비포함여부',  '치료재료대포함여부']"
   ]
  },
  {
   "cell_type": "code",
   "execution_count": 125,
   "metadata": {
    "scrolled": true
   },
   "outputs": [
    {
     "data": {
      "text/plain": [
       "90"
      ]
     },
     "execution_count": 125,
     "metadata": {},
     "output_type": "execute_result"
    }
   ],
   "source": [
    "len(set(yes_cost.병원명))"
   ]
  },
  {
   "cell_type": "code",
   "execution_count": 123,
   "metadata": {},
   "outputs": [],
   "source": [
    "no_cost = set(final_table.병원명).difference(set((yes_cost.병원명)))"
   ]
  },
  {
   "cell_type": "code",
   "execution_count": 124,
   "metadata": {},
   "outputs": [
    {
     "data": {
      "text/plain": [
       "(95, 90)"
      ]
     },
     "execution_count": 124,
     "metadata": {},
     "output_type": "execute_result"
    }
   ],
   "source": [
    "len(set(yes_name.병원명)), len(set(yes_cost.병원명))"
   ]
  },
  {
   "cell_type": "code",
   "execution_count": null,
   "metadata": {},
   "outputs": [],
   "source": [
    "def get_non_payment_url(query):\n",
    "    for i, _ in select_sub_page_by_hspt_name(NON_PAYMENT, query).iterrows():\n",
    "        return _.url\n",
    "def print_non_payment_url(query):\n",
    "for i, _ in select_sub_page_by_hspt_name(NON_PAYMENT, query).iterrows():\n",
    "    print(_.url)"
   ]
  },
  {
   "cell_type": "code",
   "execution_count": 112,
   "metadata": {},
   "outputs": [
    {
     "name": "stdout",
     "output_type": "stream",
     "text": [
      "1305                      1인실\n",
      "1306       체지방분석검사(일반)-Inbody\n",
      "1307    Influenza A.B(간이법)-독감\n",
      "1308                  족부 압력검사\n",
      "1309                  동맥경화도검사\n",
      "                ...          \n",
      "1619       향후 치료비 추정서(천만원 이상)\n",
      "1620        일반구급차(기본요금)10Km이내\n",
      "1621      일반구급차(10Km초과 후 Km당)\n",
      "1622               구급차 의료인 동행\n",
      "1623               진료기록영상(CD)\n",
      "Name: 명칭, Length: 314, dtype: object\n"
     ]
    }
   ],
   "source": [
    "print(yes_cost[yes_cost[sort_column].병원명 == '휴병원'][\"명칭\"])"
   ]
  },
  {
   "cell_type": "code",
   "execution_count": 113,
   "metadata": {},
   "outputs": [
    {
     "data": {
      "text/plain": [
       "90"
      ]
     },
     "execution_count": 113,
     "metadata": {},
     "output_type": "execute_result"
    }
   ],
   "source": [
    "len(set(yes_cost.병원명))"
   ]
  },
  {
   "cell_type": "code",
   "execution_count": null,
   "metadata": {},
   "outputs": [],
   "source": [
    "for q in list(no_cost):\n",
    "    print_non_payment_url(q)"
   ]
  },
  {
   "cell_type": "code",
   "execution_count": null,
   "metadata": {},
   "outputs": [],
   "source": [
    "len(set(final_table[\"병원명\"]))"
   ]
  },
  {
   "cell_type": "code",
   "execution_count": null,
   "metadata": {
    "scrolled": true
   },
   "outputs": [],
   "source": [
    "visited.update(set(NON_PAYMENT.url))\n",
    "NON_2 = get_sub_pages(NON_PAYMENT, visited)\n",
    "NON_2_df = get_html_table(NON_2, 2)"
   ]
  },
  {
   "cell_type": "code",
   "execution_count": null,
   "metadata": {
    "scrolled": true
   },
   "outputs": [],
   "source": [
    "for idx, row in NON_2_df.iterrows():\n",
    "    table_list[\"{}/{}\".format(row.hspt_name, row.text)] = table_parsing(row.url)"
   ]
  },
  {
   "cell_type": "code",
   "execution_count": null,
   "metadata": {
    "scrolled": true
   },
   "outputs": [],
   "source": [
    "visited.update(set(NON_2_df.url))\n",
    "NON_3 = get_sub_pages(NON_2_df, visited)\n",
    "NON_3_df = get_html_table(NON_3, 3)"
   ]
  },
  {
   "cell_type": "code",
   "execution_count": null,
   "metadata": {
    "scrolled": true
   },
   "outputs": [],
   "source": [
    "visited.update(set(NON_3_df.url))\n",
    "NON_4 = get_sub_pages(NON_3_df, visited)\n",
    "NON_4_df = get_html_table(NON_4, 4)"
   ]
  },
  {
   "cell_type": "code",
   "execution_count": null,
   "metadata": {},
   "outputs": [],
   "source": [
    "visited.update(set(NON_4_df.url))\n",
    "NON_5 = get_sub_pages(NON_4_df, visited)\n",
    "NON_5_df = get_html_table(NON_5, 5)"
   ]
  },
  {
   "cell_type": "code",
   "execution_count": null,
   "metadata": {
    "scrolled": true
   },
   "outputs": [],
   "source": [
    "visited.update(set(NON_5_df.url))\n",
    "NON_6 = get_sub_pages(NON_5_df, visited)\n",
    "NON_6_df = get_html_table(NON_6, 6)"
   ]
  },
  {
   "cell_type": "code",
   "execution_count": null,
   "metadata": {},
   "outputs": [],
   "source": [
    "next_signs = ['>', '>>', '다음']"
   ]
  },
  {
   "cell_type": "code",
   "execution_count": null,
   "metadata": {},
   "outputs": [],
   "source": [
    "NON_5_df"
   ]
  },
  {
   "cell_type": "code",
   "execution_count": null,
   "metadata": {
    "scrolled": true
   },
   "outputs": [],
   "source": [
    "for idx, row in non_2_df.iterrows():\n",
    "    table_list[row.url] = table_parsing(row.url)"
   ]
  },
  {
   "cell_type": "code",
   "execution_count": null,
   "metadata": {},
   "outputs": [],
   "source": [
    "len(table_list)"
   ]
  }
 ],
 "metadata": {
  "kernelspec": {
   "display_name": "Python 3",
   "language": "python",
   "name": "python3"
  },
  "language_info": {
   "codemirror_mode": {
    "name": "ipython",
    "version": 3
   },
   "file_extension": ".py",
   "mimetype": "text/x-python",
   "name": "python",
   "nbconvert_exporter": "python",
   "pygments_lexer": "ipython3",
   "version": "3.8.1"
  }
 },
 "nbformat": 4,
 "nbformat_minor": 4
}
