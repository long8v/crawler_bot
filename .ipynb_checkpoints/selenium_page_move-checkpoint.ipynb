{
 "cells": [
  {
   "cell_type": "code",
   "execution_count": 14,
   "metadata": {},
   "outputs": [],
   "source": [
    "import numpy as np\n",
    "import pandas as pd\n",
    "import pickle\n",
    "from selenium import webdriver\n",
    "from collections import Counter\n",
    "from crawl_utils.url_extractor import *\n",
    "from crawl_utils.table_parser import *\n",
    "from crawl_utils.main_site_extractor import *\n",
    "from crawl_utils.create_table import *\n",
    "from crawl_utils.html_request import *\n",
    "from crawl_utils.column_regularization import *"
   ]
  },
  {
   "cell_type": "code",
   "execution_count": 1,
   "metadata": {},
   "outputs": [],
   "source": [
    "from pyvirtualdisplay import Display"
   ]
  },
  {
   "cell_type": "code",
   "execution_count": 15,
   "metadata": {},
   "outputs": [
    {
     "data": {
      "text/plain": [
       "<Display cmd_param=['Xvfb', '-br', '-nolisten', 'tcp', '-screen', '0', '800x800x24', ':1058'] cmd=['Xvfb', '-br', '-nolisten', 'tcp', '-screen', '0', '800x800x24', ':1058'] oserror=None return_code=None stdout=\"None\" stderr=\"None\" timeout_happened=False>"
      ]
     },
     "execution_count": 15,
     "metadata": {},
     "output_type": "execute_result"
    }
   ],
   "source": [
    "display = Display(visible=0, size=(800,800))\n",
    "display.start()"
   ]
  },
  {
   "cell_type": "code",
   "execution_count": 16,
   "metadata": {},
   "outputs": [],
   "source": [
    "url = 'http://www.healthyfriend.co.kr/introduce/be'"
   ]
  },
  {
   "cell_type": "code",
   "execution_count": 19,
   "metadata": {},
   "outputs": [],
   "source": [
    "def get_driver(url):\n",
    "    display = Display(visible=0, size=(800,800))\n",
    "    display.start()\n",
    "    driver = webdriver.Chrome()\n",
    "    driver.get(url)\n",
    "    driver.quit()\n",
    "    display.stop()\n",
    "    return driver"
   ]
  },
  {
   "cell_type": "code",
   "execution_count": 20,
   "metadata": {},
   "outputs": [
    {
     "data": {
      "text/plain": [
       "<selenium.webdriver.chrome.webdriver.WebDriver (session=\"9ea7cbe26faa3957af0ef8c87e598521\")>"
      ]
     },
     "execution_count": 20,
     "metadata": {},
     "output_type": "execute_result"
    }
   ],
   "source": [
    "get_driver(url)"
   ]
  },
  {
   "cell_type": "code",
   "execution_count": 8,
   "metadata": {},
   "outputs": [],
   "source": [
    "driver = webdriver.Chrome()\n",
    "driver.get(url)"
   ]
  },
  {
   "cell_type": "code",
   "execution_count": 9,
   "metadata": {},
   "outputs": [
    {
     "data": {
      "text/plain": [
       "'http://www.healthyfriend.co.kr/introduce/be'"
      ]
     },
     "execution_count": 9,
     "metadata": {},
     "output_type": "execute_result"
    }
   ],
   "source": [
    "driver.current_url"
   ]
  },
  {
   "cell_type": "code",
   "execution_count": 10,
   "metadata": {},
   "outputs": [],
   "source": [
    "url3 = 'http://xn--vb0bjir1m4wkq9m1kcz50bnkb.kr/?page_id=768'"
   ]
  },
  {
   "cell_type": "code",
   "execution_count": 11,
   "metadata": {},
   "outputs": [
    {
     "data": {
      "text/plain": [
       "[  분류 항목 코드 비용 치료재료대 포함여부 약제비 포함여부 특이사항\n",
       " 0                                     \n",
       " 1                                     ,\n",
       "    상급병실료 차액    특실          AS1Z  250,000   _1 _2\n",
       " 0  상급병실료 차액   1인실          AS1A  190,000        \n",
       " 1  상급병실료 차액  준1인실  ABZ010001005   80,000        ,\n",
       "   분류 항목 코드 비용 치료재료대 포함여부 약제비 포함여부 특이사항\n",
       " 0                                     \n",
       " 1                                     ,\n",
       "     초음파검사료     초음파(진단용)       RSZ01-1   50,000  X X_1  \n",
       " 0   초음파검사료      초음파 2부위       RSZ01-2   70,000  X   X  \n",
       " 1   초음파검사료      초음파 3부위       RSZ01-3   90,000  X   X  \n",
       " 2   초음파검사료  마취용 초음파(하지)       TZX03-2  170,000  X   X  \n",
       " 3   초음파검사료  마취용 초음파(상지)       TZX03-3  150,000  X   X  \n",
       " 4   초음파검사료    초음파(발목관절)  EB4680000001   50,000  X   X  \n",
       " 5   초음파검사료     초음파(고관절)  EB4650000001   60,000  X   X  \n",
       " 6   초음파검사료     초음파(슬관절)  EB4640000001   60,000  X   X  \n",
       " 7   초음파검사료     초음파(주관절)  EB4630000001   60,000  X   X  \n",
       " 8   초음파검사료     초음파(발가락)  EB4620000001   60,000  X   X  \n",
       " 9   초음파검사료     초음파(손가락)  EB4610000001   60,000  X   X  \n",
       " 10  초음파검사료      초음파(일반)  EB4700000001   60,000  X   X  \n",
       " 11                                                     ,\n",
       "   분류 항목 코드 비용 치료재료대 포함여부 약제비 포함여부 특이사항\n",
       " 0                                     \n",
       " 1                                     ,\n",
       "   분류 항목 코드 비용 치료재료대 포함여부 약제비 포함여부 특이사항\n",
       " 0                                     \n",
       " 1                                     ,\n",
       "     이학요법료            증식치료 (사지관절부위)        TMY142   50,000  O O_1  \n",
       " 0   이학요법료     증식치료 DNA 주사 (사지관절부위)      TMY142-1   70,000  O   O  \n",
       " 1   이학요법료  증식치료/사지관절부위/증식치료(DNA주사)  MY1420000002   90,000  O   O  \n",
       " 2   물리치료료                  신장분사치료1        OMM013   20,000  O   O  \n",
       " 3   물리치료료                  신장분사치료2        OMM014   20,000  O   O  \n",
       " 4   물리치료료                신장분사치료2-2      OMM014-2   40,000  O   O  \n",
       " 5   물리치료료           체외충격파 1 (ESWT)      OZES001Z   60,000         \n",
       " 6   물리치료료           체외충격파 2 (ESWT)    OZES001Z-1  100,000         \n",
       " 7   물리치료료           체외충격파 3 (ESWT)    OZES001Z-2   70,000         \n",
       " 8   물리치료료                 신장분사치료 2        OMM014   20,000         \n",
       " 9   물리치료료                 신장분사치료 3      OMM014-1   25,000         \n",
       " 10  물리치료료                     도수치료       OZES009   30,000         \n",
       " 11  물리치료료                    도수치료P      OZES0011   29,000         \n",
       " 12  물리치료료                   도수치료2P      OZES0013   55,000         \n",
       " 13  물리치료료                    도수치료T      OZES0010   20,000         \n",
       " 14  물리치료료                    도수치료E      OZES002Z   15,000         ,\n",
       "   분류 항목 코드 비용 치료재료대 포함여부 약제비 포함여부 특이사항\n",
       " 0                                     \n",
       " 1                                     ,\n",
       "    기타 검사     적외선체열검사(DITI)-한부위    RT004   80,000  X X_1  \n",
       " 0  기타 검사  적외선체열검사(DITI)-두부위 이상    RT006  100,000  X   X  \n",
       " 1  기타 검사                족저압 검사    TZX01           X   X  \n",
       " 2  기타 검사          동작분석 역동적 근전도    TZX02   60,000  X   X  \n",
       " 3  기타 검사      동작분석 역동적 근전도(복합)  TZX02-1  100,000         \n",
       " 4  기타 검사      동작분석 역동적 근전도(하지)  TZX02-2   50,000         \n",
       " 5  기타 검사              리도카인 테스트    TLIDO   20,000  O   O  \n",
       " 6     식대                공기밥 추가     DZA1    1,000         \n",
       " 7     식대                  보호자식     DZA3    6,000         \n",
       " 8     식대              보호자식+공기밥     DZA4    7,000         ,\n",
       "   분류 항목 코드 비용 치료재료대 포함여부 약제비 포함여부 특이사항\n",
       " 0                                     \n",
       " 1                                     ,\n",
       "                        의약품주입여과기 수액세트(FILTER SET, MICRO FILTER SET)  GBM1301BY  \\\n",
       " 0   불투명.투명멸균드레싱 재료 (단순, 건조드레싱류)   스테리 스트립(REINFORCED SKIN CLOSURE)  GBM5003EM   \n",
       " 1       불투명.투명멸균드레싱 재료(드레싱 고정용)                            실리콘 반창고  GBM2008EA   \n",
       " 2       불투명.투명멸균드레싱 재료(드레싱 고정용)                           웰픽스롤 반창고  GBM5101BY   \n",
       " 3                     수술후 유착방지용                     HIRAX INJ. 1mL      GX001   \n",
       " 4                  압박고정용 SPLINT                               발목밴드     GANKLE   \n",
       " 5                  압박고정용 SPLINT                                팔걸이       G900   \n",
       " 6                  압박고정용 SPLINT                                 복대    GBOKDAE   \n",
       " 7                  압박고정용 SPLINT                multi finger splint     TT6157   \n",
       " 8                  압박고정용 SPLINT                       캐스트슈즈(모든사이즈)   TCSHOES5   \n",
       " 9                  압박고정용 SPLINT                 Rebound Air Walker      GAIRC   \n",
       " 10                 압박고정용 SPLINT      Rebound Air Walker Foot Cover     GAIRCC   \n",
       " 11                 압박고정용 SPLINT      Rebound Air Walker Heel Wedge     GAIRCW   \n",
       " 12                 압박고정용 SPLINT        thumb spica splint(엄지 스프린트)     GTHUMB   \n",
       " 13                           기타                         알푸스 인솔(깔창)     GINSOL   \n",
       " 14                           기타                                수선비              \n",
       " 15                           기타                               무지슈즈   GMSHOES1   \n",
       " 16                           기타                               무지밴드      GMUJI   \n",
       " 17                           기타                             지간 실리콘      Gsil2   \n",
       " \n",
       "       5,000   _1 _2  \n",
       " 0     1,500          \n",
       " 1     2,500          \n",
       " 2     2,000          \n",
       " 3   125,000          \n",
       " 4     5,000          \n",
       " 5     3,000          \n",
       " 6     5,000          \n",
       " 7     5,000          \n",
       " 8    10,000          \n",
       " 9   350,000          \n",
       " 10   30,000          \n",
       " 11   40,000          \n",
       " 12   15,000          \n",
       " 13  290,000          \n",
       " 14   83,000          \n",
       " 15   58,000          \n",
       " 16   35,000          \n",
       " 17   30,000          ,\n",
       "   분류 항목 코드 비용 치료재료대 포함여부 약제비 포함여부 특이사항\n",
       " 0                                     \n",
       " 1                                     ,\n",
       "     약제         헬파워솔주  M3325010  30,000   _1 _2\n",
       " 0   약제           DNA  M3312001  90,000        \n",
       " 1   약제         DNA-S  M3312002  50,000        \n",
       " 2   약제      푸르비타플러스주  M3312002  25,000        \n",
       " 3   약제         하이코민주  M3114004  20,000        \n",
       " 4   약제         판비콤프주  M3312003     171        \n",
       " 5   약제   휴온스 아스코르브산주  M3314002     300        \n",
       " 6   약제        신데렐라주사  M3399008  25,000        \n",
       " 7   약제      마이어스 칵테일  M3239002  45,000        \n",
       " 8   약제       비타민D 주사  M3311001  39,000        \n",
       " 9   약제  시카연고(cica20)  M2821000  45,000        \n",
       " 10  약제         비욘세주사  M3399009  25,000        \n",
       " 11  약제          조갑주사     TNAIL  30,000        \n",
       " 12  약제          하이비주  M3312004  20,000        \n",
       " 13  약제        하이비12주  M3114017  25,000        ]"
      ]
     },
     "execution_count": 11,
     "metadata": {},
     "output_type": "execute_result"
    }
   ],
   "source": [
    "table_parsing(url3)"
   ]
  },
  {
   "cell_type": "code",
   "execution_count": 11,
   "metadata": {
    "scrolled": true
   },
   "outputs": [],
   "source": [
    "url2 = 'https://www.barunsesang.co.kr/guide/unlnsuraList.php'"
   ]
  },
  {
   "cell_type": "code",
   "execution_count": 13,
   "metadata": {},
   "outputs": [
    {
     "data": {
      "text/plain": [
       "[        대분류      중분류                                             명칭     코드  \\\n",
       " 0     기본진료료  상급병실료차액                                             특실  AB900   \n",
       " 1     기본진료료  상급병실료차액                                            1인실  AB901   \n",
       " 2     기본진료료  상급병실료차액                                            2인실  AB902   \n",
       " 3     기본진료료  상급병실료차액                                            3인실  AB905   \n",
       " 4       검사료   출혈혈전검사                      혈소판 응집능검사[교류저항혈소판응집] TRAP  BZ078   \n",
       " ..      ...      ...                                            ...    ...   \n",
       " 153      기타       기타  보툴리늄 독소주사요법 Botulinum Toxin Injection Therapy   S057   \n",
       " 154      기타       기타                           상과염-자가 혈소판 풍부 혈장 치료술   EPRP   \n",
       " 155      기타       기타        콘쥬란((Sodium Polynucleotide)을 이용한 관절강내주사  S040M   \n",
       " 156  초음파검사료   초음파검사료                                   SONO(Pelvic)  EB448   \n",
       " 157  초음파검사료   초음파검사료                                    SONO(연부연조직)  EB470   \n",
       " \n",
       "                                           구분       비용 부과비율    최저비용     최고비용  \\\n",
       " 0                               특실 병실차액(6병동)  300,000                         \n",
       " 1                                   1인실 병실차액  230,000                         \n",
       " 2                                   2인실 병실차액  120,000                         \n",
       " 3                                   3인실 병실차액   80,000                         \n",
       " 4                                              48,000                         \n",
       " ..                                       ...      ...  ...     ...      ...   \n",
       " 153                                           410,000                         \n",
       " 154                     상과염-자가 혈소판 풍부 혈장 치료술                        214,070   \n",
       " 155  콘쥬란((Sodium Polynucleotide)을 이용한 관절강내주사                15,000            \n",
       " 156                             SONO(Pelvic)  100,000                         \n",
       " 157                              SONO(연부연조직)   70,000                         \n",
       " \n",
       "     치료재료포함 약제비 포함여부             특이사항  \n",
       " 0                                     \n",
       " 1                                     \n",
       " 2                    2019.7.1.급여로 전환  \n",
       " 3                    2019.7.1.급여로 전환  \n",
       " 4                                     \n",
       " ..     ...      ...              ...  \n",
       " 153                    고시 제2015-174호  \n",
       " 154                            신의료행위  \n",
       " 155                            신의료행위  \n",
       " 156                                   \n",
       " 157                                   \n",
       " \n",
       " [158 rows x 12 columns],\n",
       "       대분류                         중분류                                명칭  \\\n",
       " 0   치료재료대                 창상봉합용 액상접착제                     DERMA FLEX QS   \n",
       " 1   치료재료대                 창상봉합용 액상접착제  SURGISEAL TOPICAL  SKIN ADHESIVE   \n",
       " 2   치료재료대                 창상봉합용 액상접착제                  DERMABOND PRINEO   \n",
       " 3   치료재료대               인체조직유래 2차 가공뼈                ORTHOBLAST ∥ PASTE   \n",
       " 4   치료재료대               인체조직유래 2차 가공뼈                            DEMIOS   \n",
       " ..    ...                         ...                               ...   \n",
       " 92   치료재료                    배액관 고정용판       GM 석션픽스 SET (GM SUTION FIX)   \n",
       " 93  치료재료대                압박고정용 SPLINT                                부목   \n",
       " 94  치료재료대           상과염 - PRS BIO KIT                 상과염 - PRS BIO KIT   \n",
       " 95  치료재료대  재조합골형성단백질(RHBMP-2) 함유 골이식재                          BIO BMP2   \n",
       " 96   치료재료                    배액관 고정용판                        SW-SC Clip   \n",
       " \n",
       "           코드                           구분         비용 부과비율    최저비용    최고비용  \\\n",
       " 0   BB3001DX            더마플랙스(Derma Flex)    120,000                        \n",
       " 1   BB3005QB                   써지씰(조직접착제)    120,000                        \n",
       " 2   BB3006EE             Dermabond Prineo    220,000                        \n",
       " 3   BC0101IE           OrthoBlast II(1cc)    850,000                        \n",
       " 4   BC0101KJ                  DEMIOS(DBM)    850,000                        \n",
       " ..       ...                          ...        ...  ...     ...     ...   \n",
       " 92  BJ1000IP  GM 석션픽스 SET (GM SUTION FIX)     15,000                        \n",
       " 93  BC1221ZS        요통단순보조기 CH021B(허리보호대)     30,000                        \n",
       " 94    PRPKIT            상과염 - PRS BIO KIT                  49,500  55,000   \n",
       " 95  BC0301BU                     BIO BMP2  2,300,000                        \n",
       " 96  BJ1004BX                   SW-SC Clip     15,000                        \n",
       " \n",
       "    치료재료포함 약제비 포함여부    특이사항  \n",
       " 0                           \n",
       " 1                           \n",
       " 2                           \n",
       " 3                           \n",
       " 4                           \n",
       " ..    ...      ...     ...  \n",
       " 92                          \n",
       " 93                          \n",
       " 94                  한시적비급여  \n",
       " 95                          \n",
       " 96                          \n",
       " \n",
       " [97 rows x 12 columns],\n",
       "        대분류     중분류                명칭      코드                     구분      비용  \\\n",
       " 0   제증명수수료  제증명수수료             일반진단서   PDZ01              일반진단서/재발행           \n",
       " 1   제증명수수료  제증명수수료             상해진단서   PDZ02        상해진단서(3주미만)/재발행           \n",
       " 2   제증명수수료  제증명수수료             상해진단서   PDZ02        상해진단서(3주이상)/재발행           \n",
       " 3   제증명수수료  제증명수수료  장애진단서(읍면동사무소제출용)   PDZ07        장애진단서(동사무소)/재발행           \n",
       " 4   제증명수수료  제증명수수료           후유장애진단서   PDZ07            후유장애진단서/재발행           \n",
       " 5   제증명수수료  제증명수수료            병사용진단서    Q006                 병사용진단서  20,000   \n",
       " 6   제증명수수료  제증명수수료               확인서   PDZ09            입·퇴원확인서/재발행           \n",
       " 7   제증명수수료  제증명수수료               확인서   PDZ09              통원확인서/재발행           \n",
       " 8   제증명수수료  제증명수수료               확인서   Q013A                  진료확인서   3,000   \n",
       " 9   제증명수수료  제증명수수료               확인서   PDZ09        의무기록지(5장기준)-1장당   1,000   \n",
       " 10  제증명수수료  제증명수수료               확인서   PDZ09     의무기록지(5장이후 추가 1장당)     100   \n",
       " 11  제증명수수료  제증명수수료               확인서   PDZ09  의무기록지(공공기관  5장기준)-1장당   1,000   \n",
       " 12  제증명수수료  제증명수수료          향후진료비추정서   PDZ14    향후치료비추정서(천만원미만)/재발행           \n",
       " 13  제증명수수료  제증명수수료          향후진료비추정서   PDZ14    향후치료비추정서(천만원이상)/재발행           \n",
       " 14  제증명수수료  제증명수수료             영문진단서   PDE01              영문진단서/재발행           \n",
       " 15  제증명수수료  제증명수수료                                    근로 능력 평가용 진단서  10,000   \n",
       " 16  제증명수수료  제증명수수료                                      상급병실 사용 확인서   1,000   \n",
       " 17  제증명수수료  제증명수수료                                        수술확인서/재발행           \n",
       " 18  제증명수수료  제증명수수료                                  진료비세부산정내역서(재발급)   1,000   \n",
       " 19  제증명수수료  제증명수수료       병사용진단서(재발행)   Q006A            병사용진단서(재발행)   1,000   \n",
       " 20  제증명수수료  제증명수수료       병사용진단서(재발행)   Q006A            병사용진단서(재발행)   1,000   \n",
       " 21  제증명수수료  제증명수수료               확인서  Q013AA             진료확인서(재발행)   1,000   \n",
       " 22  제증명수수료  제증명수수료                                       진료확인서(보험사)  30,000   \n",
       " \n",
       "    부과비율   최저비용     최고비용 치료재료포함 약제비 포함여부 특이사항  \n",
       " 0        1,000   20,000                       \n",
       " 1        1,000  100,000                       \n",
       " 2        1,000  150,000                       \n",
       " 3        1,000   15,000                       \n",
       " 4        1,000  100,000                       \n",
       " 5                                             \n",
       " 6        1,000    3,000                       \n",
       " 7        1,000    3,000                       \n",
       " 8                                             \n",
       " 9                                             \n",
       " 10                                            \n",
       " 11                                            \n",
       " 12       1,000   50,000                       \n",
       " 13       1,000  100,000                       \n",
       " 14       1,000   20,000                       \n",
       " 15                                            \n",
       " 16                                            \n",
       " 17       1,000    3,000                       \n",
       " 18                                            \n",
       " 19                                            \n",
       " 20                                            \n",
       " 21                                            \n",
       " 22                                            ,\n",
       "    대분류 중분류                             명칭         코드 구분       비용 부과비율  \\\n",
       " 0   약제  약제        가다실 프리필드시린지(자궁경부암 예방접종)  655500020     180,000        \n",
       " 1   약제  약제                     구치온주 600mg  653102780      30,000        \n",
       " 2   약제  약제                     네비도 주사 바이알  641106001     270,000        \n",
       " 3   약제  약제               누트리푸신 8.5% 250ml  642400100      30,000        \n",
       " 4   약제  약제                      데카민주250ml  645101170      70,000        \n",
       " ..  ..  ..                            ...        ... ..      ...  ...   \n",
       " 79  약제  약제         안티스타나잘연고(무피로신칼슘수화물) 5g  657401441      22,000        \n",
       " 80  약제  약제     대한멸균생리식염수(생리식염주사액) 110mL/병  645104101       7,500        \n",
       " 81  약제  약제  콘쥬란(Sodium Polynucleotide)2ml     S040MA                    \n",
       " 82  약제  약제                          브리디온주  655501761     180,000        \n",
       " 83  약제  약제                          본디업 주  645906060      46,000        \n",
       " \n",
       "        최저비용 최고비용 치료재료포함 약제비 포함여부   특이사항  \n",
       " 0                                        \n",
       " 1                                        \n",
       " 2                                        \n",
       " 3                                        \n",
       " 4                                        \n",
       " ..      ...  ...    ...      ...    ...  \n",
       " 79                                       \n",
       " 80                                       \n",
       " 81  185,000                       신의료기술  \n",
       " 82                                       \n",
       " 83                                       \n",
       " \n",
       " [84 rows x 12 columns],\n",
       "    대분류 중분류                명칭     코드 구분       비용 부과비율 최저비용 최고비용 치료재료포함  \\\n",
       " 0   기타  기타            공기밥 추가              1,000                         \n",
       " 1   기타  기타       대소변기-가져가는경우   H300       1,350                         \n",
       " 2   기타  기타            보호자 식대  Y9999       6,000                         \n",
       " 3   기타  기타        환의(가져가는경우)             20,000                         \n",
       " 4   기타  기타      CD-COPY(MRI)             10,000                         \n",
       " ..  ..  ..               ...    ... ..      ...  ...  ...  ...    ...   \n",
       " 61  기타  기타   CD-COPY(보험사제출용)             30,000                         \n",
       " 62  기타  기타  CD-COPY(MRI)-재발행             10,000                         \n",
       " 63  기타  기타          마이애미 보조기            180,000                         \n",
       " 64  기타  기타           CD-COPY  E009F      10,000                         \n",
       " 65  기타  기타     USB-COPY(1만원)             10,000                         \n",
       " \n",
       "    약제비 포함여부                               특이사항  \n",
       " 0                                               \n",
       " 1            ※2019.7.1 기존 2,000원에서 1,350원으로 인하  \n",
       " 2                                               \n",
       " 3                                               \n",
       " 4                           ※ 2019-08-19 코드 종료  \n",
       " ..      ...                                ...  \n",
       " 61                          ※ 2018-02-21 코드 종료  \n",
       " 62                          ※ 2018-03-31 코드 종료  \n",
       " 63                                              \n",
       " 64                                              \n",
       " 65                           ※ 2018-03-31 코드종료  \n",
       " \n",
       " [66 rows x 12 columns]]"
      ]
     },
     "execution_count": 13,
     "metadata": {},
     "output_type": "execute_result"
    }
   ],
   "source": [
    "table_parsing(url2)"
   ]
  },
  {
   "cell_type": "code",
   "execution_count": 15,
   "metadata": {},
   "outputs": [],
   "source": [
    "url4 = 'http://gmhosp.co.kr/?c=main'"
   ]
  },
  {
   "cell_type": "code",
   "execution_count": 16,
   "metadata": {},
   "outputs": [
    {
     "data": {
      "text/plain": [
       "('http://www.healthyfriend.co.kr/introduce/be',\n",
       " 'https://www.barunsesang.co.kr/guide/unlnsuraList.php',\n",
       " 'http://xn--vb0bjir1m4wkq9m1kcz50bnkb.kr/?page_id=768',\n",
       " 'http://gmhosp.co.kr/?c=main')"
      ]
     },
     "execution_count": 16,
     "metadata": {},
     "output_type": "execute_result"
    }
   ],
   "source": [
    "url, url2, url3, url4"
   ]
  },
  {
   "cell_type": "code",
   "execution_count": 27,
   "metadata": {},
   "outputs": [
    {
     "data": {
      "text/plain": [
       "'gmhosp'"
      ]
     },
     "execution_count": 27,
     "metadata": {},
     "output_type": "execute_result"
    }
   ],
   "source": [
    "def re_url(url):\n",
    "    return url.replace(\"http://\", \"\").replace(\"https://\", \"\").replace(\"www.\",\"\").split(\".co\")[0].split(\".kr\")[0]"
   ]
  },
  {
   "cell_type": "code",
   "execution_count": 6,
   "metadata": {
    "scrolled": false
   },
   "outputs": [
    {
     "data": {
      "text/plain": [
       "([], {'http://gmhosp.co.kr/?c=main'})"
      ]
     },
     "execution_count": 6,
     "metadata": {},
     "output_type": "execute_result"
    }
   ],
   "source": [
    "sub_pages(url4, visited=set([]))"
   ]
  },
  {
   "cell_type": "code",
   "execution_count": 3,
   "metadata": {},
   "outputs": [],
   "source": [
    "url = 'https://www.cmcseoul.or.kr/common.hospitalguide.non_payment.sp?p=1&s=10&q=%7B%22categoryCd%22%3A%22%22%2C%22itemName%22%3A%22%22%7D'"
   ]
  },
  {
   "cell_type": "code",
   "execution_count": 4,
   "metadata": {},
   "outputs": [],
   "source": [
    "driver = webdriver.Chrome()\n",
    "driver.get(url)"
   ]
  },
  {
   "cell_type": "code",
   "execution_count": 13,
   "metadata": {},
   "outputs": [],
   "source": []
  },
  {
   "cell_type": "code",
   "execution_count": 8,
   "metadata": {},
   "outputs": [],
   "source": [
    "from PIL import Image\n",
    "from io import BytesIO"
   ]
  },
  {
   "cell_type": "code",
   "execution_count": 2,
   "metadata": {},
   "outputs": [],
   "source": [
    "import time"
   ]
  },
  {
   "cell_type": "code",
   "execution_count": 1,
   "metadata": {},
   "outputs": [],
   "source": [
    "import pandas as pd"
   ]
  },
  {
   "cell_type": "code",
   "execution_count": null,
   "metadata": {},
   "outputs": [],
   "source": []
  },
  {
   "cell_type": "code",
   "execution_count": 23,
   "metadata": {},
   "outputs": [
    {
     "ename": "NameError",
     "evalue": "name 'Image' is not defined",
     "output_type": "error",
     "traceback": [
      "\u001b[0;31m---------------------------------------------------------------------------\u001b[0m",
      "\u001b[0;31mNameError\u001b[0m                                 Traceback (most recent call last)",
      "\u001b[0;32m<ipython-input-23-2f699a1481a7>\u001b[0m in \u001b[0;36m<module>\u001b[0;34m\u001b[0m\n\u001b[0;32m----> 1\u001b[0;31m \u001b[0mim\u001b[0m \u001b[0;34m=\u001b[0m \u001b[0mImage\u001b[0m\u001b[0;34m.\u001b[0m\u001b[0mopen\u001b[0m\u001b[0;34m(\u001b[0m\u001b[0mBytesIO\u001b[0m\u001b[0;34m(\u001b[0m\u001b[0mpng\u001b[0m\u001b[0;34m)\u001b[0m\u001b[0;34m)\u001b[0m\u001b[0;34m\u001b[0m\u001b[0;34m\u001b[0m\u001b[0m\n\u001b[0m",
      "\u001b[0;31mNameError\u001b[0m: name 'Image' is not defined"
     ]
    }
   ],
   "source": [
    "im = Image.open(BytesIO(png)) "
   ]
  },
  {
   "cell_type": "code",
   "execution_count": null,
   "metadata": {},
   "outputs": [],
   "source": [
    "\n",
    "\n",
    "driver = webdriver.Firefox()\n",
    "png = fox.get_screenshot_as_png() # saves screenshot of entire page\n",
    "fox.quit()\n",
    "\n",
    "im = Image.open(BytesIO(png)) # uses PIL library to open image in memory\n",
    "\n",
    "left = location['x']\n",
    "top = location['y']\n",
    "right = location['x'] + size['width']\n",
    "bottom = location['y'] + size['height']\n",
    "\n",
    "\n",
    "im = im.crop((left, top, right, bottom)) # defines crop points\n",
    "im.save('screenshot.png') # saves new cropped image"
   ]
  },
  {
   "cell_type": "code",
   "execution_count": 19,
   "metadata": {},
   "outputs": [
    {
     "data": {
      "text/plain": [
       "([], {'http://gmhosp.co.kr/?c=main'})"
      ]
     },
     "execution_count": 19,
     "metadata": {},
     "output_type": "execute_result"
    }
   ],
   "source": [
    "sub(BeautifulSoup(driver.page_source, 'lxml'), driver.current_url)"
   ]
  },
  {
   "cell_type": "code",
   "execution_count": null,
   "metadata": {},
   "outputs": [],
   "source": []
  }
 ],
 "metadata": {
  "kernelspec": {
   "display_name": "Python 3",
   "language": "python",
   "name": "python3"
  },
  "language_info": {
   "codemirror_mode": {
    "name": "ipython",
    "version": 3
   },
   "file_extension": ".py",
   "mimetype": "text/x-python",
   "name": "python",
   "nbconvert_exporter": "python",
   "pygments_lexer": "ipython3",
   "version": "3.8.1"
  }
 },
 "nbformat": 4,
 "nbformat_minor": 4
}
