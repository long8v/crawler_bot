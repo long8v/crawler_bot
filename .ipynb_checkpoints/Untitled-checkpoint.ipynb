{
 "cells": [
  {
   "cell_type": "code",
   "execution_count": 1,
   "metadata": {},
   "outputs": [],
   "source": [
    "from crawl_utils.table_parser import *\n",
    "from crawl_utils.url_extractor import *\n",
    "from crawl_utils.html_request import *\n",
    "from crawl_utils.bot_utils import *\n",
    "from crawl_utils.column_regularization import *"
   ]
  },
  {
   "cell_type": "code",
   "execution_count": 2,
   "metadata": {},
   "outputs": [],
   "source": [
    "url = pd.read_csv('file/HSPT_URL.csv')"
   ]
  },
  {
   "cell_type": "code",
   "execution_count": 3,
   "metadata": {},
   "outputs": [],
   "source": [
    "NON = pd.read_csv('file/MERGED_NON_PAYMENT.csv')\n",
    "cannot = pickle_open('cannot_get')"
   ]
  },
  {
   "cell_type": "code",
   "execution_count": 6,
   "metadata": {},
   "outputs": [],
   "source": [
    "GET = pd.read_csv('file/final_200330.csv')"
   ]
  },
  {
   "cell_type": "code",
   "execution_count": 11,
   "metadata": {},
   "outputs": [],
   "source": [
    "def selenium(url):\n",
    "    try:\n",
    "        driver = get_driver(url)\n",
    "        time.sleep(3)            \n",
    "        soup = BeautifulSoup(driver.page_source, 'lxml')\n",
    "        tables = soup.find_all('table')\n",
    "        if tables:\n",
    "            print('table from {} is stored..'.format(url))\n",
    "            return {url : table_parsing(url)}\n",
    "        save_image(driver, 'image/{}_{}'.format(re_url(url), get_now()))\n",
    "        print('image from {} is saved..'.format(url))\n",
    "    except Exception as e: \n",
    "        print(e, url)"
   ]
  },
  {
   "cell_type": "code",
   "execution_count": 12,
   "metadata": {},
   "outputs": [],
   "source": [
    "display_start()"
   ]
  },
  {
   "cell_type": "code",
   "execution_count": 13,
   "metadata": {
    "scrolled": false
   },
   "outputs": [
    {
     "name": "stdout",
     "output_type": "stream",
     "text": [
      "table from https://www.barunsesang.co.kr/guide/unlnsuraList.php is stored..\n",
      "table from http://www.bonhospital.co.kr/notice/nonpay/index.jsp is stored..\n",
      "table from http://www.goodspine.org/content/content.asp?FolderName=community&fileName=community_08 is stored..\n",
      "table from http://xn--vb0bjir1m4wkq9m1kcz50bnkb.kr/?page_id=768 is stored..\n",
      "table from https://www.champodonamu.com/info/info04.php is stored..\n",
      "table from http://www.sehunghospital.co.kr/sub/treatment/treat05.php?menu=5 is stored..\n",
      "image from http://www.sehunghospital.co.kr/sub/treatment/treat05.html?menu=5 is saved..\n",
      "image from http://www.ahnkang.com/bbs/content.php?id=i02 is saved..\n",
      "table from https://www.himnaera.co.kr/info/info06.html is stored..\n",
      "table from https://www.woorijoint.com/begupyeo.php is stored..\n",
      "table from http://www.gmsaeum.com/bbs/board.php?bo_table=s0205 is stored..\n",
      "table from http://www.wlc.or.kr/content/content.asp?FolderName=clinic&filename=treat_info is stored..\n",
      "table from http://www.saewoori.com/sub03/sub0306-1.php is stored..\n",
      "table from https://www.swoori.com/default/customer/sub8.php is stored..\n",
      "table from http://seoul.barunsesang.co.kr/index.php?idx=c5d12fb463a5ed/c5d143e385870a is stored..\n",
      "table from http://seoul.barunsesang.co.kr/?idx=c5d12fb463a5ed/c5d143e385870a/c5da3c612a5afe is stored..\n",
      "image from http://m.godeun.co.kr/content/content.asp?FolderName=sub02&filename=sub02_04 is saved..\n",
      "table from http://www.djcentum.com/sub05/view/id/21 is stored..\n",
      "table from http://www.sewoori.net/web/info/info_pay.html is stored..\n",
      "table from http://barobone.kr/06_customer/customer04.html is stored..\n",
      "table from http://www.spinewoori.com/bbs/board.php?bo_table=nopay is stored..\n",
      "table from http://www.smilebone.com/page/fee is stored..\n",
      "table from http://www.scwoori.com/sub03/sub0306.php is stored..\n",
      "image from http://www.gbwooridul.co.kr/bbs/board.php?bo_table=bu4 is saved..\n",
      "table from http://busan.wooridul.co.kr/?page_id=5169 is stored..\n",
      "image from http://www.chamhp.com/info3 is saved..\n",
      "table from http://www.inbone.kr/consult/unpaid/index.jsp is stored..\n",
      "table from http://www.inbone.kr/consult/unpaid2/index.jsp is stored..\n",
      "image from https://sjmedi.co.kr/bbs/board.php?bo_table=non_payment&wr_id=2 is saved..\n",
      "table from http://www.linkerhospital.com/document/info3 is stored..\n",
      "table from http://www.stpeters.co.kr/content/content.asp?FolderName=community&fileName=community_08 is stored..\n",
      "table from http://www.centum100.co.kr/non_payment/page02.php is stored..\n",
      "table from http://www.sunsoochon.com/?page_mode=tab&depth=9&sub_depth=7 is stored..\n",
      "table from http://jeonju.wooridul.co.kr/?page_id=3247 is stored..\n",
      "table from http://dongrae.wooridul.co.kr/?page_id=3986 is stored..\n",
      "image from http://www.spinejoint.co.kr/page_pbnO53 is saved..\n",
      "table from http://www.bonehospital.co.kr/document/payment is stored..\n",
      "image from http://www.jointh.com/page/page86 is saved..\n",
      "image from http://hyrmd.or.kr/sub.asp?dept_code=1004006&bbs_form=5&bbs_id=sub4_6 is saved..\n",
      "table from http://www.ojbonhospital.co.kr/intro/non/index.jsp is stored..\n",
      "table from http://egoodh.co.kr/2014/index.php?midName=sogae&right=right9 is stored..\n",
      "table from http://www.icys.kr/bbs/board4 is stored..\n",
      "image from http://www.shimjeong.co.kr/uninsured/ is saved..\n",
      "table from http://www.sarang-plus.com/?id=Policy/Notpayfee is stored..\n",
      "table from http://www.jjwoori.co.kr/page/sub7_10 is stored..\n",
      "image from http://www.bon4567.co.kr/sub.asp?bct=05&mct=06 is saved..\n",
      "table from http://www.hansarang7.com/expenses is stored..\n",
      "table from http://www.seoulwoori.net/infomation.html is stored..\n",
      "table from http://www.pain119.co.kr/homepage.php?homefile=sub_01_12.html is stored..\n",
      "table from http://www.ctlspine.co.kr/board/view.php?tid=124&sid=215&b_code=B_NOTICE&idx=9&category=0&search_category=&searchString=&gotopage=1 is stored..\n",
      "table from http://www.ctlspine.co.kr/content/view.php?tid=124&sid=215&b_code=B_NOTICE&idx=9&category=0&search_category=&searchString=&gotopage=1 is stored..\n",
      "Alert Text: None\n",
      "Message: unexpected alert open: {Alert text : 잘못된 접근입니다.}\n",
      "  (Session info: chrome=80.0.3987.116)\n",
      "  (Driver info: chromedriver=2.41.578700 (2f1ed5f9343c13f73144538f15c00b370eda6706),platform=Linux 5.3.0-42-generic x86_64)\n",
      " http://www.megahospital.co.kr/bbs/download.php?bo_table=n_03&wr_id=43&no=0\n",
      "Alert Text: None\n",
      "Message: unexpected alert open: {Alert text : 잘못된 접근입니다.}\n",
      "  (Session info: chrome=80.0.3987.116)\n",
      "  (Driver info: chromedriver=2.41.578700 (2f1ed5f9343c13f73144538f15c00b370eda6706),platform=Linux 5.3.0-42-generic x86_64)\n",
      " http://www.megahospital.co.kr/bbs/download.php?bo_table=n_03&wr_id=42&no=0\n",
      "Alert Text: None\n",
      "Message: unexpected alert open: {Alert text : 잘못된 접근입니다.}\n",
      "  (Session info: chrome=80.0.3987.116)\n",
      "  (Driver info: chromedriver=2.41.578700 (2f1ed5f9343c13f73144538f15c00b370eda6706),platform=Linux 5.3.0-42-generic x86_64)\n",
      " http://www.megahospital.co.kr/bbs/download.php?bo_table=n_03&wr_id=41&no=0\n",
      "Alert Text: None\n",
      "Message: unexpected alert open: {Alert text : 잘못된 접근입니다.}\n",
      "  (Session info: chrome=80.0.3987.116)\n",
      "  (Driver info: chromedriver=2.41.578700 (2f1ed5f9343c13f73144538f15c00b370eda6706),platform=Linux 5.3.0-42-generic x86_64)\n",
      " http://www.megahospital.co.kr/bbs/download.php?bo_table=n_03&wr_id=40&no=0\n",
      "Alert Text: None\n",
      "Message: unexpected alert open: {Alert text : 잘못된 접근입니다.}\n",
      "  (Session info: chrome=80.0.3987.116)\n",
      "  (Driver info: chromedriver=2.41.578700 (2f1ed5f9343c13f73144538f15c00b370eda6706),platform=Linux 5.3.0-42-generic x86_64)\n",
      " http://www.megahospital.co.kr/bbs/download.php?bo_table=n_03&wr_id=39&no=0\n",
      "table from http://www.egos.kr/Module/MBoard/MBoard.asp?Page=1&PageSize=10&Key=&Keyword=&Gubun=2&SearchCategory=&Divide=&Srno=97501&PState=View is stored..\n",
      "table from http://www.egos.kr/Module/MBoard/MBoard.asp?Page=1&PageSize=10&Key=&Keyword=&Gubun=2&SearchCategory=&Divide=&Srno=97500&PState=View is stored..\n",
      "table from http://www.barun.or.kr/seoul/비급여안내/ is stored..\n",
      "table from http://www.barun.or.kr/jinju/%EB%B9%84%EA%B8%89%EC%97%AC%EC%95%88%EB%82%B4/ is stored..\n",
      "table from http://www.dtcityhospital.com/default/m7/sub01.php?com_board_basic=read_form&com_board_idx=130&sub=01&&com_board_search_code=&com_board_search_value1=&com_board_search_value2=&com_board_page=&&com_board_id=1&&com_board_id=1 is stored..\n",
      "table from http://www.dtcityhospital.com/default/m7/sub01.php?com_board_basic=read_form&com_board_idx=130&&com_board_search_code=&com_board_search_value1=&com_board_search_value2=&com_board_page=&&com_board_id=1&&com_board_id=1 is stored..\n",
      "table from http://www.egos.kr/Module/MBoard/MBoard.asp?Page=1&PageSize=10&Key=&Keyword=&Gubun=2&SearchCategory=&Divide=&Srno=97501&PState=View is stored..\n",
      "table from http://www.barunbone.co.kr/Skin/pay.html is stored..\n",
      "table from http://thetop.kr/faq/%eb%b9%84%ea%b8%89%ec%97%ac-%ed%95%ad%eb%aa%a9%ec%9d%80-%ec%96%b4%eb%96%bb%ea%b2%8c-%eb%90%98%eb%82%98%ec%9a%94/ is stored..\n",
      "Message: missing command parameters\n",
      " nan\n",
      "table from http://www.chamhosp.co.kr/renewal/consultation/consultation08.php is stored..\n",
      "table from http://www.bonehospital.co.kr/document/payment is stored..\n",
      "image from http://www.shoulderfriends.co.kr/fee is saved..\n",
      "Message: missing command parameters\n",
      " nan\n",
      "Message: missing command parameters\n",
      " nan\n",
      "image from http://www.goldmedalclinic.com/information/information_03.htm?num=3 is saved..\n",
      "Message: missing command parameters\n",
      " nan\n",
      "table from https://gangnam.wooridul.co.kr/?page_id=7301 is stored..\n",
      "Message: missing command parameters\n",
      " nan\n",
      "Message: missing command parameters\n",
      " nan\n",
      "Message: missing command parameters\n",
      " nan\n",
      "Message: missing command parameters\n",
      " nan\n",
      "table from http://www.sunhosp.co.kr/TPL/popup_private_Nopay.html is stored..\n",
      "image from http://www.shimjeong.co.kr/uninsured/ is saved..\n",
      "table from http://www.dubalo.com/m/management/board_view.asp?db_name=TB_s6_1_notice&num=45&num2=45&page_num=1&sys=&sort_type_where_1=&sort_type_arrary_1=board_group%20desc,%20board_step%20asc&sort_type_arrary_2=&mode=&search_word=&search_select_part= is stored..\n",
      "table from http://www.tntnhospital.co.kr/non_payment/nowon.html is stored..\n",
      "table from http://www.tntnhospital.co.kr/non_payment/jangan.html is stored..\n",
      "table from http://www.goodssen.co.kr/doc/use06.php is stored..\n",
      "Message: missing command parameters\n",
      " nan\n"
     ]
    },
    {
     "name": "stdout",
     "output_type": "stream",
     "text": [
      "image from http://chukchukns.com/4_3.php is saved..\n",
      "table from http://www.bc21spine.co.kr/index.php?page=pay_list&file=list&mc=681 is stored..\n",
      "table from http://yshospital.net/notice/notice_v.asp?srno=1870259 is stored..\n",
      "table from http://xn--oy2bo1dt3lzdy2eoxb.kr/certifiedpage is stored..\n",
      "table from http://toptk.co.kr/info/nonpay.php is stored..\n",
      "image from http://www.woorispine.com/default/ is saved..\n",
      "image from http://www.woori-hospital.com/ is saved..\n"
     ]
    }
   ],
   "source": [
    "table_list = []\n",
    "for id, _ in select_sub_page_by_hspt_list(NON, cannot).iterrows():\n",
    "    table_list.append(selenium(_.url))"
   ]
  },
  {
   "cell_type": "code",
   "execution_count": null,
   "metadata": {},
   "outputs": [],
   "source": [
    "len(set(NON.hspt_name))"
   ]
  },
  {
   "cell_type": "code",
   "execution_count": null,
   "metadata": {},
   "outputs": [],
   "source": [
    "select_sub_page_by_hspt_list(NON, cannot)"
   ]
  },
  {
   "cell_type": "code",
   "execution_count": null,
   "metadata": {},
   "outputs": [],
   "source": [
    "cannot"
   ]
  },
  {
   "cell_type": "code",
   "execution_count": null,
   "metadata": {},
   "outputs": [],
   "source": [
    "table_list"
   ]
  },
  {
   "cell_type": "code",
   "execution_count": null,
   "metadata": {},
   "outputs": [],
   "source": []
  }
 ],
 "metadata": {
  "kernelspec": {
   "display_name": "Python 3",
   "language": "python",
   "name": "python3"
  },
  "language_info": {
   "codemirror_mode": {
    "name": "ipython",
    "version": 3
   },
   "file_extension": ".py",
   "mimetype": "text/x-python",
   "name": "python",
   "nbconvert_exporter": "python",
   "pygments_lexer": "ipython3",
   "version": "3.8.1"
  }
 },
 "nbformat": 4,
 "nbformat_minor": 4
}
