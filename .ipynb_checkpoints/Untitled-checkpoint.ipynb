{
 "cells": [
  {
   "cell_type": "code",
   "execution_count": 7,
   "metadata": {},
   "outputs": [],
   "source": [
    "from crawl_utils.url_extractor import *\n",
    "from crawl_utils.html_request import *\n",
    "from crawl_utils.bot_utils import *"
   ]
  },
  {
   "cell_type": "code",
   "execution_count": 5,
   "metadata": {},
   "outputs": [],
   "source": [
    "url = 'http://www.hira.or.kr/re/diag/getNpayNotiCsuiSvcFom.do?yadmSbstKey=rFQDQJ7EMZPQJ7dL'\n",
    "parsed = parsing(url)"
   ]
  },
  {
   "cell_type": "code",
   "execution_count": 6,
   "metadata": {
    "scrolled": false
   },
   "outputs": [
    {
     "data": {
      "text/plain": [
       "([(\"fn_setLdivCd('A')\",\n",
       "   'http://www.hira.or.kr/re/diag/getNpayNotiCsuiSvcFom.do?yadmSbstKey=rFQDQJ7EMZPQJ7dL'),\n",
       "  (\"fn_setLdivCd('B')\",\n",
       "   'http://www.hira.or.kr/re/diag/getNpayNotiCsuiSvcFom.do?yadmSbstKey=rFQDQJ7EMZPQJ7dL'),\n",
       "  (\"fn_setLdivCd('C')\",\n",
       "   'http://www.hira.or.kr/re/diag/getNpayNotiCsuiSvcFom.do?yadmSbstKey=rFQDQJ7EMZPQJ7dL'),\n",
       "  (\"fn_setLdivCd('D')\",\n",
       "   'http://www.hira.or.kr/re/diag/getNpayNotiCsuiSvcFom.do?yadmSbstKey=rFQDQJ7EMZPQJ7dL'),\n",
       "  ('fn_setNpayCd()',\n",
       "   'http://www.hira.or.kr/re/diag/getNpayNotiCsuiSvcFom.do?yadmSbstKey=rFQDQJ7EMZPQJ7dL'),\n",
       "  ('goPage(1)',\n",
       "   'http://www.hira.or.kr/re/diag/getNpayNotiCsuiSvcFom.do?yadmSbstKey=rFQDQJ7EMZPQJ7dL'),\n",
       "  ('goPage(2)',\n",
       "   'http://www.hira.or.kr/re/diag/getNpayNotiCsuiSvcFom.do?yadmSbstKey=rFQDQJ7EMZPQJ7dL'),\n",
       "  ('goPage(3)',\n",
       "   'http://www.hira.or.kr/re/diag/getNpayNotiCsuiSvcFom.do?yadmSbstKey=rFQDQJ7EMZPQJ7dL'),\n",
       "  ('goPage(4)',\n",
       "   'http://www.hira.or.kr/re/diag/getNpayNotiCsuiSvcFom.do?yadmSbstKey=rFQDQJ7EMZPQJ7dL'),\n",
       "  ('goPage(5)',\n",
       "   'http://www.hira.or.kr/re/diag/getNpayNotiCsuiSvcFom.do?yadmSbstKey=rFQDQJ7EMZPQJ7dL'),\n",
       "  ('goPage(6)',\n",
       "   'http://www.hira.or.kr/re/diag/getNpayNotiCsuiSvcFom.do?yadmSbstKey=rFQDQJ7EMZPQJ7dL'),\n",
       "  ('goPage(7)',\n",
       "   'http://www.hira.or.kr/re/diag/getNpayNotiCsuiSvcFom.do?yadmSbstKey=rFQDQJ7EMZPQJ7dL'),\n",
       "  ('goPage(8)',\n",
       "   'http://www.hira.or.kr/re/diag/getNpayNotiCsuiSvcFom.do?yadmSbstKey=rFQDQJ7EMZPQJ7dL'),\n",
       "  ('goPage(9)',\n",
       "   'http://www.hira.or.kr/re/diag/getNpayNotiCsuiSvcFom.do?yadmSbstKey=rFQDQJ7EMZPQJ7dL'),\n",
       "  ('goPage(10)',\n",
       "   'http://www.hira.or.kr/re/diag/getNpayNotiCsuiSvcFom.do?yadmSbstKey=rFQDQJ7EMZPQJ7dL'),\n",
       "  ('goPage(11)',\n",
       "   'http://www.hira.or.kr/re/diag/getNpayNotiCsuiSvcFom.do?yadmSbstKey=rFQDQJ7EMZPQJ7dL'),\n",
       "  ('goPage(12)',\n",
       "   'http://www.hira.or.kr/re/diag/getNpayNotiCsuiSvcFom.do?yadmSbstKey=rFQDQJ7EMZPQJ7dL')],\n",
       " set())"
      ]
     },
     "execution_count": 6,
     "metadata": {},
     "output_type": "execute_result"
    }
   ],
   "source": [
    "sub(url)"
   ]
  },
  {
   "cell_type": "code",
   "execution_count": 4,
   "metadata": {},
   "outputs": [
    {
     "ename": "NameError",
     "evalue": "name 'get_table_list' is not defined",
     "output_type": "error",
     "traceback": [
      "\u001b[0;31m---------------------------------------------------------------------------\u001b[0m",
      "\u001b[0;31mNameError\u001b[0m                                 Traceback (most recent call last)",
      "\u001b[0;32m<ipython-input-4-927d777d44da>\u001b[0m in \u001b[0;36m<module>\u001b[0;34m\u001b[0m\n\u001b[0;32m----> 1\u001b[0;31m \u001b[0ma\u001b[0m\u001b[0;34m,\u001b[0m \u001b[0m_\u001b[0m\u001b[0;34m,\u001b[0m \u001b[0m_\u001b[0m \u001b[0;34m=\u001b[0m \u001b[0mget_table_list\u001b[0m\u001b[0;34m(\u001b[0m\u001b[0mpd\u001b[0m\u001b[0;34m.\u001b[0m\u001b[0mread_csv\u001b[0m\u001b[0;34m(\u001b[0m\u001b[0;34m'file/merged_depth_100.csv'\u001b[0m\u001b[0;34m)\u001b[0m\u001b[0;34m[\u001b[0m\u001b[0;34m:\u001b[0m\u001b[0;36m100\u001b[0m\u001b[0;34m]\u001b[0m\u001b[0;34m)\u001b[0m\u001b[0;34m\u001b[0m\u001b[0;34m\u001b[0m\u001b[0m\n\u001b[0m",
      "\u001b[0;31mNameError\u001b[0m: name 'get_table_list' is not defined"
     ]
    }
   ],
   "source": [
    "a, _, _ = get_table_list(pd.read_csv('file/merged_depth_100.csv')[:100])"
   ]
  },
  {
   "cell_type": "code",
   "execution_count": null,
   "metadata": {},
   "outputs": [],
   "source": [
    "change_column = make_change_column(a)"
   ]
  },
  {
   "cell_type": "code",
   "execution_count": null,
   "metadata": {
    "scrolled": false
   },
   "outputs": [],
   "source": [
    "FILTERED_TABLE_LIST, _ = get_filtered_dataframe(a, change_column)"
   ]
  },
  {
   "cell_type": "code",
   "execution_count": null,
   "metadata": {},
   "outputs": [],
   "source": [
    "FINAL_TABLE = get_final_table(FILTERED_TABLE_LIST)"
   ]
  },
  {
   "cell_type": "code",
   "execution_count": null,
   "metadata": {},
   "outputs": [],
   "source": [
    "FINAL_TABLE"
   ]
  },
  {
   "cell_type": "code",
   "execution_count": 8,
   "metadata": {},
   "outputs": [],
   "source": [
    "url = 'http://www.ppuricj.co.kr/info/info05.html'"
   ]
  },
  {
   "cell_type": "code",
   "execution_count": 9,
   "metadata": {},
   "outputs": [
    {
     "data": {
      "text/plain": [
       "([('전체', 'http://www.ppuricj.co.kr/info/info05.html'),\n",
       "  ('', 'http://www.ppuricj.co.kr/info/info05.html?cate1=1'),\n",
       "  ('', 'http://www.ppuricj.co.kr/info/info05.html?cate1=2'),\n",
       "  ('', 'http://www.ppuricj.co.kr/info/info05.html?cate1=3'),\n",
       "  ('', 'http://www.ppuricj.co.kr/info/info05.html?cate1=4'),\n",
       "  ('', 'http://www.ppuricj.co.kr/info/info05.html?cate1=5'),\n",
       "  ('', 'http://www.ppuricj.co.kr/info/info05.html?cate1=6'),\n",
       "  ('void(0)', 'http://www.ppuricj.co.kr/info/info05.html'),\n",
       "  ('void(0)', 'http://www.ppuricj.co.kr/info/info05.html'),\n",
       "  ('void(0)', 'http://www.ppuricj.co.kr/info/info05.html'),\n",
       "  ('void(0)', 'http://www.ppuricj.co.kr/info/info05.html'),\n",
       "  ('병원 이용안내', 'http://www.ppuricj.co.kr/info/info01.html'),\n",
       "  ('오시는 길', 'http://www.ppuricj.co.kr/info/info02.html'),\n",
       "  ('외래진료안내', 'http://www.ppuricj.co.kr/info/info08.html'),\n",
       "  ('병실생활안내', 'http://www.ppuricj.co.kr/info/info09.html'),\n",
       "  ('입퇴원 안내', 'http://www.ppuricj.co.kr/info/info03.html'),\n",
       "  ('서류발급 안내', 'http://www.ppuricj.co.kr/info/info04.html'),\n",
       "  ('비급여 안내', 'http://www.ppuricj.co.kr/info/info05.html'),\n",
       "  ('전문의 상담', 'http://www.ppuricj.co.kr/info/info07.html'),\n",
       "  ('<',\n",
       "   'http://www.ppuricj.co.kr/info/info05.html?page=1&cate1=&cate2=&np_item=&hp_type= '),\n",
       "  ('2',\n",
       "   'http://www.ppuricj.co.kr/info/info05.html?page=2&cate1=&cate2=&np_item=&hp_type= '),\n",
       "  ('3',\n",
       "   'http://www.ppuricj.co.kr/info/info05.html?page=3&cate1=&cate2=&np_item=&hp_type= '),\n",
       "  ('4',\n",
       "   'http://www.ppuricj.co.kr/info/info05.html?page=4&cate1=&cate2=&np_item=&hp_type= '),\n",
       "  ('5',\n",
       "   'http://www.ppuricj.co.kr/info/info05.html?page=5&cate1=&cate2=&np_item=&hp_type= '),\n",
       "  ('>',\n",
       "   'http://www.ppuricj.co.kr/info/info05.html?page=6&cate1=&cate2=&np_item=&hp_type= ')],\n",
       " {'http://www.ppuricj.co.kr/info/info01.html',\n",
       "  'http://www.ppuricj.co.kr/info/info02.html',\n",
       "  'http://www.ppuricj.co.kr/info/info03.html',\n",
       "  'http://www.ppuricj.co.kr/info/info04.html',\n",
       "  'http://www.ppuricj.co.kr/info/info05.html',\n",
       "  'http://www.ppuricj.co.kr/info/info05.html?page=1&cate1=&cate2=&np_item=&hp_type= ',\n",
       "  'http://www.ppuricj.co.kr/info/info05.html?page=2&cate1=&cate2=&np_item=&hp_type= ',\n",
       "  'http://www.ppuricj.co.kr/info/info05.html?page=3&cate1=&cate2=&np_item=&hp_type= ',\n",
       "  'http://www.ppuricj.co.kr/info/info05.html?page=4&cate1=&cate2=&np_item=&hp_type= ',\n",
       "  'http://www.ppuricj.co.kr/info/info05.html?page=5&cate1=&cate2=&np_item=&hp_type= ',\n",
       "  'http://www.ppuricj.co.kr/info/info05.html?page=6&cate1=&cate2=&np_item=&hp_type= ',\n",
       "  'http://www.ppuricj.co.kr/info/info07.html',\n",
       "  'http://www.ppuricj.co.kr/info/info08.html',\n",
       "  'http://www.ppuricj.co.kr/info/info09.html'})"
      ]
     },
     "execution_count": 9,
     "metadata": {},
     "output_type": "execute_result"
    }
   ],
   "source": [
    "sub(url)"
   ]
  },
  {
   "cell_type": "code",
   "execution_count": null,
   "metadata": {},
   "outputs": [],
   "source": []
  }
 ],
 "metadata": {
  "kernelspec": {
   "display_name": "Python 3",
   "language": "python",
   "name": "python3"
  },
  "language_info": {
   "codemirror_mode": {
    "name": "ipython",
    "version": 3
   },
   "file_extension": ".py",
   "mimetype": "text/x-python",
   "name": "python",
   "nbconvert_exporter": "python",
   "pygments_lexer": "ipython3",
   "version": "3.8.1"
  }
 },
 "nbformat": 4,
 "nbformat_minor": 4
}
