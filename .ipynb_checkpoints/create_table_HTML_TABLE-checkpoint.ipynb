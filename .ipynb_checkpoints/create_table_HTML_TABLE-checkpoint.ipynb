{
 "cells": [
  {
   "cell_type": "code",
   "execution_count": 1,
   "metadata": {},
   "outputs": [],
   "source": [
    "import pandas as pd\n",
    "from collections import Counter\n",
    "from crawl_utils.url_extractor import *\n",
    "from crawl_utils.table_parser import *\n",
    "from crawl_utils.html_request import *"
   ]
  },
  {
   "cell_type": "code",
   "execution_count": 2,
   "metadata": {},
   "outputs": [],
   "source": [
    "HSPT_URL = pd.read_csv('HSPT_URL.csv')\n",
    "HSPT_CHILDREN_URL = pd.read_csv('HSPT_CHILDREN_URL_depth_1.csv')"
   ]
  },
  {
   "cell_type": "code",
   "execution_count": 16,
   "metadata": {},
   "outputs": [
    {
     "data": {
      "text/plain": [
       "True"
      ]
     },
     "execution_count": 16,
     "metadata": {},
     "output_type": "execute_result"
    }
   ],
   "source": [
    "visited = set(HSPT_CHILDREN_URL.url)\n",
    "'http://www.healthyfriend.co.kr/member/login' in visited"
   ]
  },
  {
   "cell_type": "code",
   "execution_count": 17,
   "metadata": {},
   "outputs": [],
   "source": [
    "NON_SURGERY = HSPT_CHILDREN_URL[HSPT_CHILDREN_URL['text'].apply(lambda e: '비수술' in e)]"
   ]
  },
  {
   "cell_type": "code",
   "execution_count": 18,
   "metadata": {},
   "outputs": [],
   "source": [
    "HSPT_NON_SURGERY = pd.DataFrame()\n",
    "HSPT_NON_SURGERY['hspt_name'] = NON_SURGERY['hspt_name']\n",
    "HSPT_NON_SURGERY['url'] = NON_SURGERY['url']"
   ]
  },
  {
   "cell_type": "code",
   "execution_count": 19,
   "metadata": {},
   "outputs": [],
   "source": [
    "import hashlib"
   ]
  },
  {
   "cell_type": "code",
   "execution_count": 20,
   "metadata": {},
   "outputs": [],
   "source": [
    "def hash_html(html):\n",
    "    enc = hashlib.md5()\n",
    "    enc.update(html.encode())\n",
    "    encText = enc.hexdigest()\n",
    "    return encText"
   ]
  },
  {
   "cell_type": "code",
   "execution_count": 21,
   "metadata": {
    "scrolled": true
   },
   "outputs": [],
   "source": [
    "NON_SURGERY_2 = get_sub_pages(NON_SURGERY, visited)"
   ]
  },
  {
   "cell_type": "code",
   "execution_count": 22,
   "metadata": {},
   "outputs": [
    {
     "name": "stdout",
     "output_type": "stream",
     "text": [
      "deleted duplicated rows by url : 379 ->  379\n"
     ]
    },
    {
     "data": {
      "text/html": [
       "<div>\n",
       "<style scoped>\n",
       "    .dataframe tbody tr th:only-of-type {\n",
       "        vertical-align: middle;\n",
       "    }\n",
       "\n",
       "    .dataframe tbody tr th {\n",
       "        vertical-align: top;\n",
       "    }\n",
       "\n",
       "    .dataframe thead th {\n",
       "        text-align: right;\n",
       "    }\n",
       "</style>\n",
       "<table border=\"1\" class=\"dataframe\">\n",
       "  <thead>\n",
       "    <tr style=\"text-align: right;\">\n",
       "      <th></th>\n",
       "      <th>hspt_name</th>\n",
       "      <th>url</th>\n",
       "      <th>depth</th>\n",
       "      <th>text</th>\n",
       "      <th>date</th>\n",
       "    </tr>\n",
       "  </thead>\n",
       "  <tbody>\n",
       "    <tr>\n",
       "      <th>0</th>\n",
       "      <td>의료법인나누리의료재단나누리병원</td>\n",
       "      <td>http://www.nanoori.co.kr/nonsurgical/nerve</td>\n",
       "      <td>2</td>\n",
       "      <td>신경가지 치료술</td>\n",
       "      <td>200225</td>\n",
       "    </tr>\n",
       "    <tr>\n",
       "      <th>1</th>\n",
       "      <td>의료법인나누리의료재단나누리병원</td>\n",
       "      <td>http://www.nanoori.co.kr/nonsurgical/physical</td>\n",
       "      <td>2</td>\n",
       "      <td>특수물리치료</td>\n",
       "      <td>200225</td>\n",
       "    </tr>\n",
       "    <tr>\n",
       "      <th>2</th>\n",
       "      <td>의료법인나누리의료재단나누리병원</td>\n",
       "      <td>http://www.nanoori.co.kr/nonsurgical/exercise</td>\n",
       "      <td>2</td>\n",
       "      <td>운동치료</td>\n",
       "      <td>200225</td>\n",
       "    </tr>\n",
       "    <tr>\n",
       "      <th>3</th>\n",
       "      <td>의료법인나누리의료재단나누리병원</td>\n",
       "      <td>http://www.nanoori.co.kr/nonsurgical/electromy...</td>\n",
       "      <td>2</td>\n",
       "      <td>근전도 검사</td>\n",
       "      <td>200225</td>\n",
       "    </tr>\n",
       "    <tr>\n",
       "      <th>4</th>\n",
       "      <td>의료법인나누리의료재단나누리병원</td>\n",
       "      <td>http://www.nanoori.co.kr/spine/waist?is_serger...</td>\n",
       "      <td>2</td>\n",
       "      <td>\\n절개 없이 얇은 관을 통해 치료\\r\\n\\t\\t\\t경막외 신경성형술 (RACZ)\\n</td>\n",
       "      <td>200225</td>\n",
       "    </tr>\n",
       "    <tr>\n",
       "      <th>...</th>\n",
       "      <td>...</td>\n",
       "      <td>...</td>\n",
       "      <td>...</td>\n",
       "      <td>...</td>\n",
       "      <td>...</td>\n",
       "    </tr>\n",
       "    <tr>\n",
       "      <th>4</th>\n",
       "      <td>더조은병원</td>\n",
       "      <td>http://www.joeun4u.com/community/gymnastics/re...</td>\n",
       "      <td>2</td>\n",
       "      <td>신경성형술</td>\n",
       "      <td>200225</td>\n",
       "    </tr>\n",
       "    <tr>\n",
       "      <th>0</th>\n",
       "      <td>문동언마취통증의학과의원</td>\n",
       "      <td>http://www.mpainclinic.com/bbs/content.php?co_...</td>\n",
       "      <td>2</td>\n",
       "      <td>신경성형술</td>\n",
       "      <td>200225</td>\n",
       "    </tr>\n",
       "    <tr>\n",
       "      <th>1</th>\n",
       "      <td>문동언마취통증의학과의원</td>\n",
       "      <td>http://www.mpainclinic.com/bbs/content.php?co_...</td>\n",
       "      <td>2</td>\n",
       "      <td>고주파 수핵 감압술</td>\n",
       "      <td>200225</td>\n",
       "    </tr>\n",
       "    <tr>\n",
       "      <th>2</th>\n",
       "      <td>문동언마취통증의학과의원</td>\n",
       "      <td>http://www.mpainclinic.com/bbs/content.php?co_...</td>\n",
       "      <td>2</td>\n",
       "      <td>추간공내시경레이저술</td>\n",
       "      <td>200225</td>\n",
       "    </tr>\n",
       "    <tr>\n",
       "      <th>3</th>\n",
       "      <td>문동언마취통증의학과의원</td>\n",
       "      <td>http://www.mpainclinic.com/bbs/content.php?co_...</td>\n",
       "      <td>2</td>\n",
       "      <td>경막외 내시경 레이저술</td>\n",
       "      <td>200225</td>\n",
       "    </tr>\n",
       "  </tbody>\n",
       "</table>\n",
       "<p>379 rows × 5 columns</p>\n",
       "</div>"
      ],
      "text/plain": [
       "           hspt_name                                                url  \\\n",
       "0   의료법인나누리의료재단나누리병원         http://www.nanoori.co.kr/nonsurgical/nerve   \n",
       "1   의료법인나누리의료재단나누리병원      http://www.nanoori.co.kr/nonsurgical/physical   \n",
       "2   의료법인나누리의료재단나누리병원      http://www.nanoori.co.kr/nonsurgical/exercise   \n",
       "3   의료법인나누리의료재단나누리병원  http://www.nanoori.co.kr/nonsurgical/electromy...   \n",
       "4   의료법인나누리의료재단나누리병원  http://www.nanoori.co.kr/spine/waist?is_serger...   \n",
       "..               ...                                                ...   \n",
       "4              더조은병원  http://www.joeun4u.com/community/gymnastics/re...   \n",
       "0       문동언마취통증의학과의원  http://www.mpainclinic.com/bbs/content.php?co_...   \n",
       "1       문동언마취통증의학과의원  http://www.mpainclinic.com/bbs/content.php?co_...   \n",
       "2       문동언마취통증의학과의원  http://www.mpainclinic.com/bbs/content.php?co_...   \n",
       "3       문동언마취통증의학과의원  http://www.mpainclinic.com/bbs/content.php?co_...   \n",
       "\n",
       "    depth                                             text    date  \n",
       "0       2                                         신경가지 치료술  200225  \n",
       "1       2                                          특수물리치료   200225  \n",
       "2       2                                             운동치료  200225  \n",
       "3       2                                           근전도 검사  200225  \n",
       "4       2  \\n절개 없이 얇은 관을 통해 치료\\r\\n\\t\\t\\t경막외 신경성형술 (RACZ)\\n  200225  \n",
       "..    ...                                              ...     ...  \n",
       "4       2                                            신경성형술  200225  \n",
       "0       2                                            신경성형술  200225  \n",
       "1       2                                       고주파 수핵 감압술  200225  \n",
       "2       2                                       추간공내시경레이저술  200225  \n",
       "3       2                                     경막외 내시경 레이저술  200225  \n",
       "\n",
       "[379 rows x 5 columns]"
      ]
     },
     "execution_count": 22,
     "metadata": {},
     "output_type": "execute_result"
    }
   ],
   "source": [
    "get_html_table(NON_SURGERY_2, 2)"
   ]
  },
  {
   "cell_type": "code",
   "execution_count": null,
   "metadata": {},
   "outputs": [],
   "source": []
  },
  {
   "cell_type": "code",
   "execution_count": null,
   "metadata": {},
   "outputs": [
    {
     "name": "stdout",
     "output_type": "stream",
     "text": [
      "404\n",
      "Not Found\n",
      "{'Date': 'Tue, 25 Feb 2020 06:19:00 GMT', 'Server': 'Apache/2.2.3 (CentOS)', 'Content-Length': '313', 'Connection': 'close', 'Content-Type': 'text/html; charset=iso-8859-1'}\n",
      "https://www.sehunghospital.co.kr/sub/treatment/treat05.html?menu=5\n",
      "javaScript:guide_06() : Error\n",
      "3\n",
      "javaScript:guide_06() : Error\n",
      "2\n",
      "javaScript:guide_06() : Error\n",
      "1\n",
      "javaScript:guide_06() : Error\n",
      "failed to download javaScript:guide_06()\n"
     ]
    }
   ],
   "source": [
    "html_list = []\n",
    "hash_list = []\n",
    "for idx, link in HSPT_NON_SURGERY.iterrows():\n",
    "    try:\n",
    "        html = parsing(link[\"url\"])\n",
    "    except:\n",
    "        html = ''\n",
    "    hashed_html = hash_html(html)\n",
    "    html_list += [html]\n",
    "    hash_list += [hashed_html]"
   ]
  },
  {
   "cell_type": "code",
   "execution_count": null,
   "metadata": {},
   "outputs": [],
   "source": [
    "len(html_list),len(hash_list)"
   ]
  },
  {
   "cell_type": "code",
   "execution_count": null,
   "metadata": {
    "scrolled": false
   },
   "outputs": [],
   "source": [
    "HSPT_NON_SURGERY[\"url\"]"
   ]
  },
  {
   "cell_type": "code",
   "execution_count": null,
   "metadata": {},
   "outputs": [],
   "source": [
    "HSPT_NON_SURGERY['html'] = html_list\n",
    "HSPT_NON_SURGERY['hash'] = hash_list"
   ]
  },
  {
   "cell_type": "code",
   "execution_count": null,
   "metadata": {},
   "outputs": [],
   "source": [
    "HSPT_NON_SURGERY['html']"
   ]
  },
  {
   "cell_type": "code",
   "execution_count": null,
   "metadata": {},
   "outputs": [],
   "source": [
    "HSPT_CHILDREN_URL = HSPT_CHILDREN_URL[HSPT_CHILDREN_URL['hspt_name']!='바른세상병원']"
   ]
  },
  {
   "cell_type": "code",
   "execution_count": null,
   "metadata": {},
   "outputs": [],
   "source": []
  },
  {
   "cell_type": "code",
   "execution_count": 3,
   "metadata": {},
   "outputs": [],
   "source": [
    "# counter_text = Counter(HSPT_CHILDREN_URL.text)"
   ]
  },
  {
   "cell_type": "code",
   "execution_count": 4,
   "metadata": {},
   "outputs": [],
   "source": [
    "# no_meaning = ['로그인', '로그아웃', '회원가입', '회원탈퇴',\n",
    "#               '길', '예약', '시간표', '협력병원',\n",
    "#               '연혁', '더보기', '상담', '진료안내',\n",
    "#               '고객님', '님', '후기', '인기글', '환자',\n",
    "#               'LOGIN', 'LOGOUT', 'JOIN', 'HOME',\n",
    "#               'MORE', 'ID', 'PW', 'CONTACT',\n",
    "#               'EN', 'RU', 'CHINESE', 'CHN', '中','русский',\n",
    "#               'KOR', \n",
    "#               '전화', '메일', 'MAIL', 'TEL', '번호',\n",
    "#               '주차', '휴진', '센터', '식단', '연휴',\n",
    "#               '\\n', '\\t', '+', '*',\n",
    "#               '개인정보', '이용약관', '수집거부', '증명서',\n",
    "#               '뉴스', 'TV', '방송', '동영상', 'MBC', '언론', \n",
    "#               '보도자료', '미디어', \n",
    "#               '채용', '2020년', '2019년',\n",
    "#               '자세히'\n",
    "#                ]"
   ]
  },
  {
   "cell_type": "code",
   "execution_count": 5,
   "metadata": {
    "scrolled": false
   },
   "outputs": [],
   "source": [
    "# HSPT_CHLDREN_URL_meaning = \\\n",
    "# HSPT_CHILDREN_URL[HSPT_CHILDREN_URL['text']\\\n",
    "#                   .apply(lambda e:\\\n",
    "#                          not any(m.lower() in e.lower() \n",
    "#                                  for m in no_meaning)\n",
    "#                         and len(e) < 20)]"
   ]
  },
  {
   "cell_type": "code",
   "execution_count": 6,
   "metadata": {},
   "outputs": [],
   "source": [
    "# HSPT_CHLDREN_URL_meaning.shape"
   ]
  }
 ],
 "metadata": {
  "kernelspec": {
   "display_name": "Python 3",
   "language": "python",
   "name": "python3"
  },
  "language_info": {
   "codemirror_mode": {
    "name": "ipython",
    "version": 3
   },
   "file_extension": ".py",
   "mimetype": "text/x-python",
   "name": "python",
   "nbconvert_exporter": "python",
   "pygments_lexer": "ipython3",
   "version": "3.8.1"
  }
 },
 "nbformat": 4,
 "nbformat_minor": 4
}
