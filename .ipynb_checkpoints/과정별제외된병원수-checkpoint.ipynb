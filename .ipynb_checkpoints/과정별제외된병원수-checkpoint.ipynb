{
 "cells": [
  {
   "cell_type": "code",
   "execution_count": 1,
   "metadata": {},
   "outputs": [],
   "source": [
    "import pandas as pd\n",
    "import re\n",
    "from collections import Counter\n",
    "from crawl_utils.url_extractor import *\n",
    "from crawl_utils.table_parser import *\n",
    "from crawl_utils.html_request import *\n",
    "from crawl_utils.create_table import *"
   ]
  },
  {
   "cell_type": "code",
   "execution_count": 2,
   "metadata": {},
   "outputs": [],
   "source": [
    "HSPT_URL = pd.read_csv('HSPT_URL.csv')"
   ]
  },
  {
   "cell_type": "code",
   "execution_count": 5,
   "metadata": {},
   "outputs": [
    {
     "data": {
      "text/plain": [
       "(239, 2)"
      ]
     },
     "execution_count": 5,
     "metadata": {},
     "output_type": "execute_result"
    }
   ],
   "source": [
    "HSPT_URL.shape"
   ]
  },
  {
   "cell_type": "code",
   "execution_count": 6,
   "metadata": {},
   "outputs": [
    {
     "data": {
      "text/plain": [
       "(239, 224)"
      ]
     },
     "execution_count": 6,
     "metadata": {},
     "output_type": "execute_result"
    }
   ],
   "source": [
    "len(set(HSPT_URL.hspt_name)), len(set(HSPT_URL.root_url))"
   ]
  },
  {
   "cell_type": "code",
   "execution_count": 7,
   "metadata": {},
   "outputs": [],
   "source": [
    "many_url = {key for key, value in Counter(HSPT_URL.root_url).items() if value>1}"
   ]
  },
  {
   "cell_type": "code",
   "execution_count": 8,
   "metadata": {},
   "outputs": [
    {
     "name": "stdout",
     "output_type": "stream",
     "text": [
      "          hspt_name                         root_url\n",
      "93         서울바른세상병원  http://seoul.barunsesang.co.kr/\n",
      "126  서울바른병원(舊.바른병원)  http://seoul.barunsesang.co.kr/\n",
      "   hspt_name                 root_url\n",
      "9   안산21세기병원  http://www.ansan21.com/\n",
      "48    21세기병원  http://www.ansan21.com/\n",
      "    hspt_name                   root_url\n",
      "92       하이병원  http://www.hihospital.kr/\n",
      "128    일산하이병원  http://www.hihospital.kr/\n",
      "    hspt_name                   root_url\n",
      "159     플러스병원  http://www.himplus.co.kr/\n",
      "192    힘플러스병원  http://www.himplus.co.kr/\n",
      "            hspt_name                   root_url\n",
      "6    의료법인나누리의료재단나누리병원  http://www.nanoori.co.kr/\n",
      "33              나누리병원  http://www.nanoori.co.kr/\n",
      "104        의료법인 나누리병원  http://www.nanoori.co.kr/\n",
      "    hspt_name                      root_url\n",
      "36    굿닥터튼튼병원  http://www.tntnhospital.com/\n",
      "178      튼튼병원  http://www.tntnhospital.com/\n",
      "             hspt_name                               root_url\n",
      "2               목동힘찬병원  https://himchanhospital.com/index.php\n",
      "4       의)상원의료재단부평힘찬병원  https://himchanhospital.com/index.php\n",
      "15  의료법인 상원의료재단 부산힘찬병원  https://himchanhospital.com/index.php\n",
      "34   (의) 상원의료재단 인천힘찬병원  https://himchanhospital.com/index.php\n",
      "43  의료법인 상원의료재단 창원힘찬병원  https://himchanhospital.com/index.php\n",
      "      hspt_name                            root_url\n",
      "168   일산이십일세기병원  https://www.goodoc.co.kr/hospitals\n",
      "209  연세견우정형외과의원  https://www.goodoc.co.kr/hospitals\n",
      "   hspt_name                                   root_url\n",
      "81    강서힘찬병원  https://www.himchanhospital.com/index.php\n",
      "86    강남힘찬병원  https://www.himchanhospital.com/index.php\n",
      "             hspt_name                                       root_url\n",
      "27               메트로병원  https://www.metro-suseong.co.kr/main/main.php\n",
      "135  의료법인춘곡의료재단수성메트로병원  https://www.metro-suseong.co.kr/main/main.php\n",
      "    hspt_name                           root_url\n",
      "30      서울척병원  https://www.seoulchuk.com/main.do\n",
      "184       척병원  https://www.seoulchuk.com/main.do\n"
     ]
    }
   ],
   "source": [
    "for _ in HSPT_URL[HSPT_URL.root_url.apply(lambda e: e in many_url)].groupby('root_url'):\n",
    "    print(_[1])"
   ]
  },
  {
   "cell_type": "code",
   "execution_count": 9,
   "metadata": {},
   "outputs": [],
   "source": [
    "diff = set(HSPT_URL.hspt_name).difference(set(pd.read_csv('HSPT_CHILDREN_URL_depth_1.csv').hspt_name))"
   ]
  },
  {
   "cell_type": "code",
   "execution_count": 10,
   "metadata": {},
   "outputs": [],
   "source": [
    "select_sub_page_by_hspt_list(HSPT_URL, diff).to_csv('cannot_get_sub.csv')"
   ]
  },
  {
   "cell_type": "code",
   "execution_count": 12,
   "metadata": {},
   "outputs": [],
   "source": [
    "non_non = select_sub_page_by_hspt_list(HSPT_URL, diff)"
   ]
  },
  {
   "cell_type": "code",
   "execution_count": 13,
   "metadata": {},
   "outputs": [
    {
     "data": {
      "text/html": [
       "<div>\n",
       "<style scoped>\n",
       "    .dataframe tbody tr th:only-of-type {\n",
       "        vertical-align: middle;\n",
       "    }\n",
       "\n",
       "    .dataframe tbody tr th {\n",
       "        vertical-align: top;\n",
       "    }\n",
       "\n",
       "    .dataframe thead th {\n",
       "        text-align: right;\n",
       "    }\n",
       "</style>\n",
       "<table border=\"1\" class=\"dataframe\">\n",
       "  <thead>\n",
       "    <tr style=\"text-align: right;\">\n",
       "      <th></th>\n",
       "      <th>hspt_name</th>\n",
       "      <th>root_url</th>\n",
       "    </tr>\n",
       "  </thead>\n",
       "  <tbody>\n",
       "    <tr>\n",
       "      <th>4</th>\n",
       "      <td>의)상원의료재단부평힘찬병원</td>\n",
       "      <td>https://himchanhospital.com/index.php</td>\n",
       "    </tr>\n",
       "    <tr>\n",
       "      <th>6</th>\n",
       "      <td>의료법인나누리의료재단나누리병원</td>\n",
       "      <td>http://www.nanoori.co.kr/</td>\n",
       "    </tr>\n",
       "    <tr>\n",
       "      <th>7</th>\n",
       "      <td>제일정형외과병원</td>\n",
       "      <td>http://www.cheilos.com/</td>\n",
       "    </tr>\n",
       "    <tr>\n",
       "      <th>8</th>\n",
       "      <td>나누리수원병원</td>\n",
       "      <td>http://sw.nanoori.co.kr/customer</td>\n",
       "    </tr>\n",
       "    <tr>\n",
       "      <th>9</th>\n",
       "      <td>안산21세기병원</td>\n",
       "      <td>http://www.ansan21.com/</td>\n",
       "    </tr>\n",
       "    <tr>\n",
       "      <th>...</th>\n",
       "      <td>...</td>\n",
       "      <td>...</td>\n",
       "    </tr>\n",
       "    <tr>\n",
       "      <th>230</th>\n",
       "      <td>서울우리병원</td>\n",
       "      <td>http://www.urispine.kr/index.asp</td>\n",
       "    </tr>\n",
       "    <tr>\n",
       "      <th>231</th>\n",
       "      <td>첨단우리병원</td>\n",
       "      <td>http://www.woori-hospital.com/</td>\n",
       "    </tr>\n",
       "    <tr>\n",
       "      <th>233</th>\n",
       "      <td>의료법인 백산의료재단 K마디병원</td>\n",
       "      <td>https://www.kmadi.com/</td>\n",
       "    </tr>\n",
       "    <tr>\n",
       "      <th>234</th>\n",
       "      <td>기둥병원</td>\n",
       "      <td>http://kidunghospital.net/index.asp</td>\n",
       "    </tr>\n",
       "    <tr>\n",
       "      <th>237</th>\n",
       "      <td>초이스병원</td>\n",
       "      <td>http://www.sportsmed.co.kr/</td>\n",
       "    </tr>\n",
       "  </tbody>\n",
       "</table>\n",
       "<p>74 rows × 2 columns</p>\n",
       "</div>"
      ],
      "text/plain": [
       "             hspt_name                               root_url\n",
       "4       의)상원의료재단부평힘찬병원  https://himchanhospital.com/index.php\n",
       "6     의료법인나누리의료재단나누리병원              http://www.nanoori.co.kr/\n",
       "7             제일정형외과병원                http://www.cheilos.com/\n",
       "8              나누리수원병원       http://sw.nanoori.co.kr/customer\n",
       "9             안산21세기병원                http://www.ansan21.com/\n",
       "..                 ...                                    ...\n",
       "230             서울우리병원       http://www.urispine.kr/index.asp\n",
       "231             첨단우리병원         http://www.woori-hospital.com/\n",
       "233  의료법인 백산의료재단 K마디병원                 https://www.kmadi.com/\n",
       "234               기둥병원    http://kidunghospital.net/index.asp\n",
       "237              초이스병원            http://www.sportsmed.co.kr/\n",
       "\n",
       "[74 rows x 2 columns]"
      ]
     },
     "execution_count": 13,
     "metadata": {},
     "output_type": "execute_result"
    }
   ],
   "source": [
    "non_non"
   ]
  },
  {
   "cell_type": "code",
   "execution_count": null,
   "metadata": {
    "scrolled": false
   },
   "outputs": [
    {
     "name": "stdout",
     "output_type": "stream",
     "text": [
      "의)상원의료재단부평힘찬병원 :  js\n",
      "의료법인나누리의료재단나누리병원 :  #\n",
      "제일정형외과병원 :  frame\n",
      "나누리수원병원 :  404\n",
      "안산21세기병원 :  js\n",
      "의료법인 상원의료재단 부산힘찬병원 :  js\n",
      "대전우리병원 :  image\n",
      "MS재건병원 :  frame\n",
      "메트로병원 :  js\n",
      "마디병원 :  js\n",
      "서울척병원 :  js\n",
      "나누리병원 :  js\n",
      "(의) 상원의료재단 인천힘찬병원 :  js\n",
      "굿닥터튼튼병원 :  js\n",
      "의료법인 상원의료재단 강북힘찬병원 :  404\n",
      "의료법인 상원의료재단 창원힘찬병원 :  js\n",
      "21세기병원 :  js\n",
      "더(the)큰병원 :  image\n",
      "분당척병원 :  ?\n",
      "부산센텀병원 :  js\n",
      "평택21세기병원 :  js\n",
      "참튼튼병원 :  js\n",
      "바른유병원 :  frame\n",
      "글로벌튼튼병원 :  ?\n",
      "의료법인 우신향병원 :  forbidden\n",
      "the큰병원 :  ?\n",
      "인천하이병원 :  forbidden\n",
      "바른마디병원 :  js\n",
      "안산튼튼병원 :  js\n",
      "수성한미병원 :  error\n",
      "강남힘찬병원 :  js\n",
      "바로세움병원 :  frame\n",
      "센텀병원 :  table\n",
      "티케이정형외과의원 :  forbidden\n",
      "대전센텀병원 :  js\n",
      "의료법인 나누리병원 :  js\n",
      "두발로정형외과의원 :  js\n",
      "생생병원 :  #\n",
      "전주21세기병원 :  url\n",
      "인천마디병원 :  #\n",
      "서울바른병원(舊.바른병원) :  js\n",
      "의료법인 토마스의료재단 안양윌스기념병원 :  forbidden\n",
      "일산하이병원 :  image\n",
      "좋은아침병원 :  js\n",
      "모두병원 :  image\n",
      "의료법인춘곡의료재단수성메트로병원 :  js\n",
      "무룹병원 :  image\n",
      "부천21세기병원 :  #\n",
      "척척병원 :  js\n",
      "참바른병원 :  forbidden\n",
      "서울대정병원 :  js\n",
      "광주21세기병원 :  table\n",
      "의료법인성베드로병원 :  404\n"
     ]
    }
   ],
   "source": [
    "result = []\n",
    "for hspt in non_non.hspt_name:\n",
    "    driver = webdriver.Chrome()\n",
    "    url = HSPT_URL[HSPT_URL.hspt_name == hspt][\"root_url\"]\n",
    "    driver.get(url.values[0])\n",
    "    text = input('{} :  '.format(hspt))\n",
    "    result.append((hspt, url, text))"
   ]
  },
  {
   "cell_type": "code",
   "execution_count": 14,
   "metadata": {},
   "outputs": [],
   "source": [
    "HSPT_CHILDREN_URL.to_csv('HSPT_CHILDREN_URL_depth_1.csv', index=False)"
   ]
  }
 ],
 "metadata": {
  "kernelspec": {
   "display_name": "Python 3",
   "language": "python",
   "name": "python3"
  },
  "language_info": {
   "codemirror_mode": {
    "name": "ipython",
    "version": 3
   },
   "file_extension": ".py",
   "mimetype": "text/x-python",
   "name": "python",
   "nbconvert_exporter": "python",
   "pygments_lexer": "ipython3",
   "version": "3.8.1"
  }
 },
 "nbformat": 4,
 "nbformat_minor": 4
}
