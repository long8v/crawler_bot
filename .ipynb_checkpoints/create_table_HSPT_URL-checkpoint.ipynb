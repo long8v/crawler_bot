{
 "cells": [
  {
   "cell_type": "markdown",
   "metadata": {},
   "source": [
    "# create_table (1) HSPT_URL"
   ]
  },
  {
   "cell_type": "code",
   "execution_count": 1,
   "metadata": {},
   "outputs": [],
   "source": [
    "import pandas as pd\n",
    "from crawl_utils.url_extractor import *"
   ]
  },
  {
   "cell_type": "code",
   "execution_count": 2,
   "metadata": {},
   "outputs": [],
   "source": [
    "hspt_table = pd.read_csv(\"hspt_list.txt\", delimiter='\\t', header=None)\n",
    "hspt_table.columns = ['hspt_code', 'hspt_name']\n",
    "hspt_table.to_csv('hspt_code.csv', index=None)"
   ]
  },
  {
   "cell_type": "code",
   "execution_count": 3,
   "metadata": {},
   "outputs": [],
   "source": [
    "hspt_table = pd.read_csv('HSPT_CODWE.csv')"
   ]
  },
  {
   "cell_type": "code",
   "execution_count": 61,
   "metadata": {},
   "outputs": [
    {
     "data": {
      "text/plain": [
       "'본브릿지병원'"
      ]
     },
     "execution_count": 61,
     "metadata": {},
     "output_type": "execute_result"
    }
   ],
   "source": [
    "query_re('(本)본브릿지병원')"
   ]
  },
  {
   "cell_type": "code",
   "execution_count": 8,
   "metadata": {},
   "outputs": [],
   "source": [
    "hspt_url = get_main_page_dict(hspt_table['hspt_name'])"
   ]
  },
  {
   "cell_type": "code",
   "execution_count": 9,
   "metadata": {
    "scrolled": true
   },
   "outputs": [
    {
     "name": "stdout",
     "output_type": "stream",
     "text": [
      "의료법인현암의료재단 우리들병원 []\n",
      "이경태정형외과의원 []\n"
     ]
    }
   ],
   "source": [
    "for key, value in hspt_url.items():\n",
    "    if len(value) == 0:\n",
    "        print(key, value)"
   ]
  },
  {
   "cell_type": "code",
   "execution_count": 11,
   "metadata": {
    "scrolled": false
   },
   "outputs": [],
   "source": [
    "hspt_valid_url = get_valid_html(hspt_url)"
   ]
  },
  {
   "cell_type": "code",
   "execution_count": 14,
   "metadata": {},
   "outputs": [
    {
     "data": {
      "text/plain": [
       "[('http://www.yonserang.com', 6), ('http://www.ysloves.com', 4)]"
      ]
     },
     "execution_count": 14,
     "metadata": {},
     "output_type": "execute_result"
    }
   ],
   "source": [
    "sorted(hspt_valid_url[\"연세사랑병원\"], key=lambda e: e[1], reverse=True)"
   ]
  },
  {
   "cell_type": "code",
   "execution_count": 15,
   "metadata": {
    "scrolled": true
   },
   "outputs": [],
   "source": [
    "hspt_sorted_url = {}\n",
    "for key, value in hspt_valid_url.items():\n",
    "    hspt_sorted_url[key] = sorted(hspt_valid_url[key], key=lambda e: e[1], reverse=True)"
   ]
  },
  {
   "cell_type": "code",
   "execution_count": 31,
   "metadata": {},
   "outputs": [
    {
     "data": {
      "text/plain": [
       "[('http://www.yonserang.com', 6), ('http://www.ysloves.com', 4)]"
      ]
     },
     "execution_count": 31,
     "metadata": {},
     "output_type": "execute_result"
    }
   ],
   "source": [
    "hspt_sorted_url['연세사랑병원']"
   ]
  },
  {
   "cell_type": "code",
   "execution_count": 72,
   "metadata": {},
   "outputs": [
    {
     "name": "stdout",
     "output_type": "stream",
     "text": [
      "의료법인현암의료재단 우리들병원 is omitted\n",
      "이경태정형외과의원 is omitted\n"
     ]
    }
   ],
   "source": [
    "hspt_final_url = {}\n",
    "for key, value in hspt_sorted_url.items():\n",
    "    if hspt_valid_url[key]:\n",
    "        hspt_final_url[key] = list(hspt_valid_url[key])[0][0]\n",
    "    else:\n",
    "        try: \n",
    "            hspt_final_url[key] = hspt_url[key][0][0]\n",
    "        except:\n",
    "            print('{} is omitted'.format(key))"
   ]
  },
  {
   "cell_type": "code",
   "execution_count": 67,
   "metadata": {},
   "outputs": [],
   "source": [
    "HSPT_URL = pd.DataFrame()"
   ]
  },
  {
   "cell_type": "code",
   "execution_count": 69,
   "metadata": {},
   "outputs": [],
   "source": [
    "HSPT_URL[\"hspt_code\"] = hspt_final_url.keys()\n",
    "HSPT_URL[\"root_url\"] = hspt_final_url.values()"
   ]
  },
  {
   "cell_type": "code",
   "execution_count": 70,
   "metadata": {},
   "outputs": [
    {
     "data": {
      "text/html": [
       "<div>\n",
       "<style scoped>\n",
       "    .dataframe tbody tr th:only-of-type {\n",
       "        vertical-align: middle;\n",
       "    }\n",
       "\n",
       "    .dataframe tbody tr th {\n",
       "        vertical-align: top;\n",
       "    }\n",
       "\n",
       "    .dataframe thead th {\n",
       "        text-align: right;\n",
       "    }\n",
       "</style>\n",
       "<table border=\"1\" class=\"dataframe\">\n",
       "  <thead>\n",
       "    <tr style=\"text-align: right;\">\n",
       "      <th></th>\n",
       "      <th>hspt_code</th>\n",
       "      <th>root_url</th>\n",
       "    </tr>\n",
       "  </thead>\n",
       "  <tbody>\n",
       "    <tr>\n",
       "      <th>0</th>\n",
       "      <td>연세사랑병원</td>\n",
       "      <td>http://www.yonserang.com</td>\n",
       "    </tr>\n",
       "    <tr>\n",
       "      <th>1</th>\n",
       "      <td>연세건우병원</td>\n",
       "      <td>http://www.healthyfriend.co.kr</td>\n",
       "    </tr>\n",
       "    <tr>\n",
       "      <th>2</th>\n",
       "      <td>목동힘찬병원</td>\n",
       "      <td>https://himchanhospital.com</td>\n",
       "    </tr>\n",
       "    <tr>\n",
       "      <th>3</th>\n",
       "      <td>우리들병원</td>\n",
       "      <td>https://www.wooridul.co.kr</td>\n",
       "    </tr>\n",
       "    <tr>\n",
       "      <th>4</th>\n",
       "      <td>의)상원의료재단부평힘찬병원</td>\n",
       "      <td>https://himchanhospital.com</td>\n",
       "    </tr>\n",
       "    <tr>\n",
       "      <th>...</th>\n",
       "      <td>...</td>\n",
       "      <td>...</td>\n",
       "    </tr>\n",
       "    <tr>\n",
       "      <th>236</th>\n",
       "      <td>강북연세병원</td>\n",
       "      <td>http://www.ysloves.com/</td>\n",
       "    </tr>\n",
       "    <tr>\n",
       "      <th>237</th>\n",
       "      <td>생생병원</td>\n",
       "      <td>http://www.saengsaenghospital.com/</td>\n",
       "    </tr>\n",
       "    <tr>\n",
       "      <th>238</th>\n",
       "      <td>팔팔병원</td>\n",
       "      <td>https://88hospital.com/</td>\n",
       "    </tr>\n",
       "    <tr>\n",
       "      <th>239</th>\n",
       "      <td>케이에스병원</td>\n",
       "      <td>http://www.kshospital.net/</td>\n",
       "    </tr>\n",
       "    <tr>\n",
       "      <th>240</th>\n",
       "      <td>방병원</td>\n",
       "      <td>http://www.ysbang.net/</td>\n",
       "    </tr>\n",
       "  </tbody>\n",
       "</table>\n",
       "<p>241 rows × 2 columns</p>\n",
       "</div>"
      ],
      "text/plain": [
       "          hspt_code                            root_url\n",
       "0            연세사랑병원            http://www.yonserang.com\n",
       "1            연세건우병원      http://www.healthyfriend.co.kr\n",
       "2            목동힘찬병원         https://himchanhospital.com\n",
       "3             우리들병원          https://www.wooridul.co.kr\n",
       "4    의)상원의료재단부평힘찬병원         https://himchanhospital.com\n",
       "..              ...                                 ...\n",
       "236          강북연세병원             http://www.ysloves.com/\n",
       "237            생생병원  http://www.saengsaenghospital.com/\n",
       "238            팔팔병원             https://88hospital.com/\n",
       "239          케이에스병원          http://www.kshospital.net/\n",
       "240             방병원              http://www.ysbang.net/\n",
       "\n",
       "[241 rows x 2 columns]"
      ]
     },
     "execution_count": 70,
     "metadata": {},
     "output_type": "execute_result"
    }
   ],
   "source": [
    "HSPT_URL"
   ]
  },
  {
   "cell_type": "code",
   "execution_count": 73,
   "metadata": {
    "scrolled": true
   },
   "outputs": [],
   "source": [
    "HSPT_URL.to_csv('HSPT_URL.csv', index=False)"
   ]
  }
 ],
 "metadata": {
  "kernelspec": {
   "display_name": "Python 3",
   "language": "python",
   "name": "python3"
  },
  "language_info": {
   "codemirror_mode": {
    "name": "ipython",
    "version": 3
   },
   "file_extension": ".py",
   "mimetype": "text/x-python",
   "name": "python",
   "nbconvert_exporter": "python",
   "pygments_lexer": "ipython3",
   "version": "3.8.1"
  }
 },
 "nbformat": 4,
 "nbformat_minor": 4
}
