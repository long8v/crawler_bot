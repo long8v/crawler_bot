{
 "cells": [
  {
   "cell_type": "code",
   "execution_count": 7,
   "metadata": {},
   "outputs": [],
   "source": [
    "import pandas as pd\n",
    "from crawl_utils.column_regularization import *"
   ]
  },
  {
   "cell_type": "code",
   "execution_count": 8,
   "metadata": {},
   "outputs": [
    {
     "name": "stderr",
     "output_type": "stream",
     "text": [
      " 42%|████▏     | 42/100 [00:43<00:19,  2.90it/s]"
     ]
    },
    {
     "name": "stdout",
     "output_type": "stream",
     "text": [
      "https://www.swoori.com/default/customer/sub8.php list index out of range\n"
     ]
    },
    {
     "name": "stderr",
     "output_type": "stream",
     "text": [
      " 72%|███████▏  | 72/100 [01:22<00:26,  1.05it/s]"
     ]
    },
    {
     "name": "stdout",
     "output_type": "stream",
     "text": [
      "http://www.scwoori.com/sub03/sub0306.php invalid literal for int() with base 10: '82 width='\n"
     ]
    },
    {
     "name": "stderr",
     "output_type": "stream",
     "text": [
      " 85%|████████▌ | 85/100 [01:46<00:25,  1.71s/it]"
     ]
    },
    {
     "name": "stdout",
     "output_type": "stream",
     "text": [
      "http://www.linkerhospital.com/document/info3 list index out of range\n"
     ]
    },
    {
     "name": "stderr",
     "output_type": "stream",
     "text": [
      "100%|██████████| 100/100 [02:04<00:00,  1.24s/it]\n"
     ]
    }
   ],
   "source": [
    "a, _, _ = get_table_list(pd.read_csv('file/merged_depth_100.csv')[:100])"
   ]
  },
  {
   "cell_type": "code",
   "execution_count": 9,
   "metadata": {},
   "outputs": [],
   "source": [
    "change_column = make_change_column(a)"
   ]
  },
  {
   "cell_type": "code",
   "execution_count": 10,
   "metadata": {
    "scrolled": false
   },
   "outputs": [],
   "source": [
    "FILTERED_TABLE_LIST, _ = get_filtered_dataframe(a, change_column)"
   ]
  },
  {
   "cell_type": "code",
   "execution_count": 11,
   "metadata": {},
   "outputs": [],
   "source": [
    "FINAL_TABLE = get_final_table(FILTERED_TABLE_LIST)"
   ]
  },
  {
   "cell_type": "code",
   "execution_count": 12,
   "metadata": {},
   "outputs": [
    {
     "data": {
      "text/html": [
       "<div>\n",
       "<style scoped>\n",
       "    .dataframe tbody tr th:only-of-type {\n",
       "        vertical-align: middle;\n",
       "    }\n",
       "\n",
       "    .dataframe tbody tr th {\n",
       "        vertical-align: top;\n",
       "    }\n",
       "\n",
       "    .dataframe thead th {\n",
       "        text-align: right;\n",
       "    }\n",
       "</style>\n",
       "<table border=\"1\" class=\"dataframe\">\n",
       "  <thead>\n",
       "    <tr style=\"text-align: right;\">\n",
       "      <th></th>\n",
       "      <th>병원명</th>\n",
       "      <th>명칭</th>\n",
       "      <th>분류</th>\n",
       "      <th>소분류</th>\n",
       "      <th>중분류</th>\n",
       "      <th>중복컬럼_1</th>\n",
       "      <th>비용</th>\n",
       "      <th>최저비용</th>\n",
       "      <th>최고비용</th>\n",
       "      <th>코드</th>\n",
       "      <th>구분</th>\n",
       "      <th>특이사항</th>\n",
       "      <th>약제비포함여부</th>\n",
       "      <th>치료재료대포함여부</th>\n",
       "    </tr>\n",
       "  </thead>\n",
       "  <tbody>\n",
       "    <tr>\n",
       "      <th>0</th>\n",
       "      <td>연세사랑병원</td>\n",
       "      <td>병실료차액</td>\n",
       "      <td>상급병실료차액</td>\n",
       "      <td>NaN</td>\n",
       "      <td>NaN</td>\n",
       "      <td>NaN</td>\n",
       "      <td>190,000</td>\n",
       "      <td></td>\n",
       "      <td></td>\n",
       "      <td>AB9000</td>\n",
       "      <td>1인실</td>\n",
       "      <td></td>\n",
       "      <td></td>\n",
       "      <td></td>\n",
       "    </tr>\n",
       "    <tr>\n",
       "      <th>1</th>\n",
       "      <td>연세건우병원</td>\n",
       "      <td>FLOSEAL</td>\n",
       "      <td>투약 및 주사료</td>\n",
       "      <td>NaN</td>\n",
       "      <td>NaN</td>\n",
       "      <td>NaN</td>\n",
       "      <td>₩800,000</td>\n",
       "      <td>NaN</td>\n",
       "      <td>NaN</td>\n",
       "      <td>646601401</td>\n",
       "      <td>NaN</td>\n",
       "      <td></td>\n",
       "      <td>NaN</td>\n",
       "      <td>NaN</td>\n",
       "    </tr>\n",
       "    <tr>\n",
       "      <th>2</th>\n",
       "      <td>연세건우병원</td>\n",
       "      <td>네큐팜주사액(40mg/4ml)(네포팜염산염)-하나제약</td>\n",
       "      <td>투약 및 주사료</td>\n",
       "      <td>NaN</td>\n",
       "      <td>NaN</td>\n",
       "      <td>NaN</td>\n",
       "      <td>₩16,606</td>\n",
       "      <td>NaN</td>\n",
       "      <td>NaN</td>\n",
       "      <td>657805301</td>\n",
       "      <td>NaN</td>\n",
       "      <td>무통주사 약제</td>\n",
       "      <td>NaN</td>\n",
       "      <td>NaN</td>\n",
       "    </tr>\n",
       "    <tr>\n",
       "      <th>3</th>\n",
       "      <td>연세건우병원</td>\n",
       "      <td>로우칼정</td>\n",
       "      <td>투약 및 주사료</td>\n",
       "      <td>NaN</td>\n",
       "      <td>NaN</td>\n",
       "      <td>NaN</td>\n",
       "      <td>₩161</td>\n",
       "      <td>NaN</td>\n",
       "      <td>NaN</td>\n",
       "      <td>649500530</td>\n",
       "      <td>NaN</td>\n",
       "      <td></td>\n",
       "      <td>NaN</td>\n",
       "      <td>NaN</td>\n",
       "    </tr>\n",
       "    <tr>\n",
       "      <th>4</th>\n",
       "      <td>연세건우병원</td>\n",
       "      <td>로우칼캡슐</td>\n",
       "      <td>투약 및 주사료</td>\n",
       "      <td>NaN</td>\n",
       "      <td>NaN</td>\n",
       "      <td>NaN</td>\n",
       "      <td>₩161</td>\n",
       "      <td>NaN</td>\n",
       "      <td>NaN</td>\n",
       "      <td>649500540</td>\n",
       "      <td>NaN</td>\n",
       "      <td></td>\n",
       "      <td>NaN</td>\n",
       "      <td>NaN</td>\n",
       "    </tr>\n",
       "    <tr>\n",
       "      <th>...</th>\n",
       "      <td>...</td>\n",
       "      <td>...</td>\n",
       "      <td>...</td>\n",
       "      <td>...</td>\n",
       "      <td>...</td>\n",
       "      <td>...</td>\n",
       "      <td>...</td>\n",
       "      <td>...</td>\n",
       "      <td>...</td>\n",
       "      <td>...</td>\n",
       "      <td>...</td>\n",
       "      <td>...</td>\n",
       "      <td>...</td>\n",
       "      <td>...</td>\n",
       "    </tr>\n",
       "    <tr>\n",
       "      <th>7380</th>\n",
       "      <td>건누리병원</td>\n",
       "      <td>지속적대퇴신경통증자가조절법(LZ062)급여전환</td>\n",
       "      <td>NaN</td>\n",
       "      <td>NaN</td>\n",
       "      <td>NaN</td>\n",
       "      <td>NaN</td>\n",
       "      <td>50,000</td>\n",
       "      <td>NaN</td>\n",
       "      <td>NaN</td>\n",
       "      <td>NaN</td>\n",
       "      <td>행위료</td>\n",
       "      <td>NaN</td>\n",
       "      <td>NaN</td>\n",
       "      <td>NaN</td>\n",
       "    </tr>\n",
       "    <tr>\n",
       "      <th>7381</th>\n",
       "      <td>건누리병원</td>\n",
       "      <td>지속적사각근간상박신경총통증자가조절법(LZ062)급여전환</td>\n",
       "      <td>NaN</td>\n",
       "      <td>NaN</td>\n",
       "      <td>NaN</td>\n",
       "      <td>NaN</td>\n",
       "      <td>50,000</td>\n",
       "      <td>NaN</td>\n",
       "      <td>NaN</td>\n",
       "      <td>NaN</td>\n",
       "      <td>행위료</td>\n",
       "      <td>NaN</td>\n",
       "      <td>NaN</td>\n",
       "      <td>NaN</td>\n",
       "    </tr>\n",
       "    <tr>\n",
       "      <th>7382</th>\n",
       "      <td>건누리병원</td>\n",
       "      <td>체외충격파술ESWT(1회)SZ084</td>\n",
       "      <td>NaN</td>\n",
       "      <td>NaN</td>\n",
       "      <td>NaN</td>\n",
       "      <td>NaN</td>\n",
       "      <td>60,000</td>\n",
       "      <td>NaN</td>\n",
       "      <td>NaN</td>\n",
       "      <td>NaN</td>\n",
       "      <td>행위료</td>\n",
       "      <td>NaN</td>\n",
       "      <td>NaN</td>\n",
       "      <td>NaN</td>\n",
       "    </tr>\n",
       "    <tr>\n",
       "      <th>7383</th>\n",
       "      <td>건누리병원</td>\n",
       "      <td>도수치료MX122</td>\n",
       "      <td>NaN</td>\n",
       "      <td>NaN</td>\n",
       "      <td>NaN</td>\n",
       "      <td>NaN</td>\n",
       "      <td>80,000</td>\n",
       "      <td>NaN</td>\n",
       "      <td>NaN</td>\n",
       "      <td>NaN</td>\n",
       "      <td>행위료</td>\n",
       "      <td>NaN</td>\n",
       "      <td>NaN</td>\n",
       "      <td>NaN</td>\n",
       "    </tr>\n",
       "    <tr>\n",
       "      <th>7384</th>\n",
       "      <td>건누리병원</td>\n",
       "      <td>도수치료(야간)MX122</td>\n",
       "      <td>NaN</td>\n",
       "      <td>NaN</td>\n",
       "      <td>NaN</td>\n",
       "      <td>NaN</td>\n",
       "      <td>90,000</td>\n",
       "      <td>NaN</td>\n",
       "      <td>NaN</td>\n",
       "      <td>NaN</td>\n",
       "      <td>행위료</td>\n",
       "      <td>NaN</td>\n",
       "      <td>NaN</td>\n",
       "      <td>NaN</td>\n",
       "    </tr>\n",
       "  </tbody>\n",
       "</table>\n",
       "<p>7385 rows × 14 columns</p>\n",
       "</div>"
      ],
      "text/plain": [
       "         병원명                              명칭        분류  소분류  중분류 중복컬럼_1  \\\n",
       "0     연세사랑병원                           병실료차액   상급병실료차액  NaN  NaN    NaN   \n",
       "1     연세건우병원                         FLOSEAL  투약 및 주사료  NaN  NaN    NaN   \n",
       "2     연세건우병원   네큐팜주사액(40mg/4ml)(네포팜염산염)-하나제약  투약 및 주사료  NaN  NaN    NaN   \n",
       "3     연세건우병원                            로우칼정  투약 및 주사료  NaN  NaN    NaN   \n",
       "4     연세건우병원                           로우칼캡슐  투약 및 주사료  NaN  NaN    NaN   \n",
       "...      ...                             ...       ...  ...  ...    ...   \n",
       "7380   건누리병원       지속적대퇴신경통증자가조절법(LZ062)급여전환       NaN  NaN  NaN    NaN   \n",
       "7381   건누리병원  지속적사각근간상박신경총통증자가조절법(LZ062)급여전환       NaN  NaN  NaN    NaN   \n",
       "7382   건누리병원             체외충격파술ESWT(1회)SZ084       NaN  NaN  NaN    NaN   \n",
       "7383   건누리병원                       도수치료MX122       NaN  NaN  NaN    NaN   \n",
       "7384   건누리병원                   도수치료(야간)MX122       NaN  NaN  NaN    NaN   \n",
       "\n",
       "            비용 최저비용 최고비용         코드   구분     특이사항 약제비포함여부 치료재료대포함여부  \n",
       "0      190,000               AB9000  1인실                             \n",
       "1     ₩800,000  NaN  NaN  646601401  NaN              NaN       NaN  \n",
       "2      ₩16,606  NaN  NaN  657805301  NaN  무통주사 약제     NaN       NaN  \n",
       "3         ₩161  NaN  NaN  649500530  NaN              NaN       NaN  \n",
       "4         ₩161  NaN  NaN  649500540  NaN              NaN       NaN  \n",
       "...        ...  ...  ...        ...  ...      ...     ...       ...  \n",
       "7380    50,000  NaN  NaN        NaN  행위료      NaN     NaN       NaN  \n",
       "7381    50,000  NaN  NaN        NaN  행위료      NaN     NaN       NaN  \n",
       "7382    60,000  NaN  NaN        NaN  행위료      NaN     NaN       NaN  \n",
       "7383    80,000  NaN  NaN        NaN  행위료      NaN     NaN       NaN  \n",
       "7384    90,000  NaN  NaN        NaN  행위료      NaN     NaN       NaN  \n",
       "\n",
       "[7385 rows x 14 columns]"
      ]
     },
     "execution_count": 12,
     "metadata": {},
     "output_type": "execute_result"
    }
   ],
   "source": [
    "FINAL_TABLE"
   ]
  },
  {
   "cell_type": "code",
   "execution_count": null,
   "metadata": {},
   "outputs": [],
   "source": []
  }
 ],
 "metadata": {
  "kernelspec": {
   "display_name": "Python 3",
   "language": "python",
   "name": "python3"
  },
  "language_info": {
   "codemirror_mode": {
    "name": "ipython",
    "version": 3
   },
   "file_extension": ".py",
   "mimetype": "text/x-python",
   "name": "python",
   "nbconvert_exporter": "python",
   "pygments_lexer": "ipython3",
   "version": "3.8.1"
  }
 },
 "nbformat": 4,
 "nbformat_minor": 4
}
