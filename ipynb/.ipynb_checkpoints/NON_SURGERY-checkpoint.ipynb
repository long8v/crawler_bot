{
 "cells": [
  {
   "cell_type": "code",
   "execution_count": 1,
   "metadata": {},
   "outputs": [
    {
     "ename": "ModuleNotFoundError",
     "evalue": "No module named 'crawl_utils'",
     "output_type": "error",
     "traceback": [
      "\u001b[0;31m---------------------------------------------------------------------------\u001b[0m",
      "\u001b[0;31mModuleNotFoundError\u001b[0m                       Traceback (most recent call last)",
      "\u001b[0;32m<ipython-input-1-92c90ba94b81>\u001b[0m in \u001b[0;36m<module>\u001b[0;34m\u001b[0m\n\u001b[1;32m      1\u001b[0m \u001b[0;32mimport\u001b[0m \u001b[0mpandas\u001b[0m \u001b[0;32mas\u001b[0m \u001b[0mpd\u001b[0m\u001b[0;34m\u001b[0m\u001b[0;34m\u001b[0m\u001b[0m\n\u001b[1;32m      2\u001b[0m \u001b[0;32mfrom\u001b[0m \u001b[0mcollections\u001b[0m \u001b[0;32mimport\u001b[0m \u001b[0mCounter\u001b[0m\u001b[0;34m\u001b[0m\u001b[0;34m\u001b[0m\u001b[0m\n\u001b[0;32m----> 3\u001b[0;31m \u001b[0;32mfrom\u001b[0m \u001b[0mcrawl_utils\u001b[0m\u001b[0;34m.\u001b[0m\u001b[0murl_extractor\u001b[0m \u001b[0;32mimport\u001b[0m \u001b[0;34m*\u001b[0m\u001b[0;34m\u001b[0m\u001b[0;34m\u001b[0m\u001b[0m\n\u001b[0m\u001b[1;32m      4\u001b[0m \u001b[0;32mfrom\u001b[0m \u001b[0mcrawl_utils\u001b[0m\u001b[0;34m.\u001b[0m\u001b[0mtable_parser\u001b[0m \u001b[0;32mimport\u001b[0m \u001b[0;34m*\u001b[0m\u001b[0;34m\u001b[0m\u001b[0;34m\u001b[0m\u001b[0m\n\u001b[1;32m      5\u001b[0m \u001b[0;32mfrom\u001b[0m \u001b[0mcrawl_utils\u001b[0m\u001b[0;34m.\u001b[0m\u001b[0mhtml_request\u001b[0m \u001b[0;32mimport\u001b[0m \u001b[0;34m*\u001b[0m\u001b[0;34m\u001b[0m\u001b[0;34m\u001b[0m\u001b[0m\n",
      "\u001b[0;31mModuleNotFoundError\u001b[0m: No module named 'crawl_utils'"
     ]
    }
   ],
   "source": [
    "import pandas as pd\n",
    "from collections import Counter\n",
    "from crawl_utils.url_extractor import *\n",
    "from crawl_utils.table_parser import *\n",
    "from crawl_utils.html_request import *\n",
    "from crawl_utils.create_table import *\n",
    "from crawl_utils.html_parser import *"
   ]
  },
  {
   "cell_type": "code",
   "execution_count": 2,
   "metadata": {},
   "outputs": [],
   "source": [
    "HSPT_URL = pd.read_csv('HSPT_URL.csv')\n",
    "HSPT_CHILDREN_URL = pd.read_csv('HSPT_CHILDREN_URL_depth_1.csv')"
   ]
  },
  {
   "cell_type": "code",
   "execution_count": 3,
   "metadata": {},
   "outputs": [],
   "source": [
    "visited = set(HSPT_CHILDREN_URL.url)"
   ]
  },
  {
   "cell_type": "code",
   "execution_count": 4,
   "metadata": {},
   "outputs": [],
   "source": [
    "NON_SURGERY = select_sub_page_by_query(HSPT_CHILDREN_URL, '비수술')"
   ]
  },
  {
   "cell_type": "code",
   "execution_count": 9,
   "metadata": {},
   "outputs": [
    {
     "data": {
      "text/plain": [
       "101"
      ]
     },
     "execution_count": 9,
     "metadata": {},
     "output_type": "execute_result"
    }
   ],
   "source": [
    "len(set(NON_SURGERY.hspt_name))"
   ]
  },
  {
   "cell_type": "code",
   "execution_count": 10,
   "metadata": {},
   "outputs": [
    {
     "data": {
      "text/html": [
       "<div>\n",
       "<style scoped>\n",
       "    .dataframe tbody tr th:only-of-type {\n",
       "        vertical-align: middle;\n",
       "    }\n",
       "\n",
       "    .dataframe tbody tr th {\n",
       "        vertical-align: top;\n",
       "    }\n",
       "\n",
       "    .dataframe thead th {\n",
       "        text-align: right;\n",
       "    }\n",
       "</style>\n",
       "<table border=\"1\" class=\"dataframe\">\n",
       "  <thead>\n",
       "    <tr style=\"text-align: right;\">\n",
       "      <th></th>\n",
       "      <th>hspt_name</th>\n",
       "      <th>url</th>\n",
       "      <th>depth</th>\n",
       "      <th>text</th>\n",
       "      <th>date</th>\n",
       "    </tr>\n",
       "  </thead>\n",
       "  <tbody>\n",
       "    <tr>\n",
       "      <th>42</th>\n",
       "      <td>연세사랑병원</td>\n",
       "      <td>http://www.yonserang.com/template/joint/spine_...</td>\n",
       "      <td>1</td>\n",
       "      <td>연세사랑병원/비수술적 요법</td>\n",
       "      <td>200313</td>\n",
       "    </tr>\n",
       "    <tr>\n",
       "      <th>1112</th>\n",
       "      <td>바른세상병원</td>\n",
       "      <td>https://www.barunsesang.co.kr/clinic/clinic_vi...</td>\n",
       "      <td>1</td>\n",
       "      <td>바른세상병원/비수술 치료</td>\n",
       "      <td>200313</td>\n",
       "    </tr>\n",
       "    <tr>\n",
       "      <th>1160</th>\n",
       "      <td>바른세상병원</td>\n",
       "      <td>https://www.barunsesang.co.kr/clinic/clinic_vi...</td>\n",
       "      <td>1</td>\n",
       "      <td>바른세상병원/비수술치료</td>\n",
       "      <td>200313</td>\n",
       "    </tr>\n",
       "    <tr>\n",
       "      <th>1295</th>\n",
       "      <td>의료법인나누리의료재단나누리병원</td>\n",
       "      <td>http://gs.nanoori.co.kr/nonsurgical/nerve</td>\n",
       "      <td>1</td>\n",
       "      <td>의료법인나누리의료재단나누리병원/비수술</td>\n",
       "      <td>200313</td>\n",
       "    </tr>\n",
       "    <tr>\n",
       "      <th>1386</th>\n",
       "      <td>나누리수원병원</td>\n",
       "      <td>http://sw.nanoori.co.kr/nonsurgical/nerve</td>\n",
       "      <td>1</td>\n",
       "      <td>나누리수원병원/비수술</td>\n",
       "      <td>200313</td>\n",
       "    </tr>\n",
       "    <tr>\n",
       "      <th>...</th>\n",
       "      <td>...</td>\n",
       "      <td>...</td>\n",
       "      <td>...</td>\n",
       "      <td>...</td>\n",
       "      <td>...</td>\n",
       "    </tr>\n",
       "    <tr>\n",
       "      <th>25179</th>\n",
       "      <td>척사랑병원</td>\n",
       "      <td>https://www.spinelove.com/link/functional-intr...</td>\n",
       "      <td>1</td>\n",
       "      <td>척사랑병원/척추비수술치료</td>\n",
       "      <td>200313</td>\n",
       "    </tr>\n",
       "    <tr>\n",
       "      <th>25207</th>\n",
       "      <td>세연마취통증의학과의원</td>\n",
       "      <td>http://www.pain119.co.kr/homepage.php?homefile...</td>\n",
       "      <td>1</td>\n",
       "      <td>세연마취통증의학과의원/비수술 치료</td>\n",
       "      <td>200313</td>\n",
       "    </tr>\n",
       "    <tr>\n",
       "      <th>25258</th>\n",
       "      <td>세연마취통증의학과의원</td>\n",
       "      <td>http://www.pain119.co.kr/homepage.php?homefile...</td>\n",
       "      <td>1</td>\n",
       "      <td>세연마취통증의학과의원/\\n수술의 부작용 부담없이\\n비수술치료\\nview\\n</td>\n",
       "      <td>200313</td>\n",
       "    </tr>\n",
       "    <tr>\n",
       "      <th>25305</th>\n",
       "      <td>문동언마취통증의학과의원</td>\n",
       "      <td>http://www.mpainclinic.com/bbs/content.php?co_...</td>\n",
       "      <td>1</td>\n",
       "      <td>문동언마취통증의학과의원/척추 비수술 치료</td>\n",
       "      <td>200313</td>\n",
       "    </tr>\n",
       "    <tr>\n",
       "      <th>25321</th>\n",
       "      <td>문동언마취통증의학과의원</td>\n",
       "      <td>http://www.mpainclinic.com/bbs/content.php?co_...</td>\n",
       "      <td>1</td>\n",
       "      <td>문동언마취통증의학과의원/\\n\\n척추비수술치료\\n\\n</td>\n",
       "      <td>200313</td>\n",
       "    </tr>\n",
       "  </tbody>\n",
       "</table>\n",
       "<p>223 rows × 5 columns</p>\n",
       "</div>"
      ],
      "text/plain": [
       "              hspt_name                                                url  \\\n",
       "42               연세사랑병원  http://www.yonserang.com/template/joint/spine_...   \n",
       "1112             바른세상병원  https://www.barunsesang.co.kr/clinic/clinic_vi...   \n",
       "1160             바른세상병원  https://www.barunsesang.co.kr/clinic/clinic_vi...   \n",
       "1295   의료법인나누리의료재단나누리병원          http://gs.nanoori.co.kr/nonsurgical/nerve   \n",
       "1386            나누리수원병원          http://sw.nanoori.co.kr/nonsurgical/nerve   \n",
       "...                 ...                                                ...   \n",
       "25179             척사랑병원  https://www.spinelove.com/link/functional-intr...   \n",
       "25207       세연마취통증의학과의원  http://www.pain119.co.kr/homepage.php?homefile...   \n",
       "25258       세연마취통증의학과의원  http://www.pain119.co.kr/homepage.php?homefile...   \n",
       "25305      문동언마취통증의학과의원  http://www.mpainclinic.com/bbs/content.php?co_...   \n",
       "25321      문동언마취통증의학과의원  http://www.mpainclinic.com/bbs/content.php?co_...   \n",
       "\n",
       "       depth                                       text    date  \n",
       "42         1                             연세사랑병원/비수술적 요법  200313  \n",
       "1112       1                              바른세상병원/비수술 치료  200313  \n",
       "1160       1                               바른세상병원/비수술치료  200313  \n",
       "1295       1                       의료법인나누리의료재단나누리병원/비수술  200313  \n",
       "1386       1                                나누리수원병원/비수술  200313  \n",
       "...      ...                                        ...     ...  \n",
       "25179      1                              척사랑병원/척추비수술치료  200313  \n",
       "25207      1                         세연마취통증의학과의원/비수술 치료  200313  \n",
       "25258      1  세연마취통증의학과의원/\\n수술의 부작용 부담없이\\n비수술치료\\nview\\n  200313  \n",
       "25305      1                     문동언마취통증의학과의원/척추 비수술 치료  200313  \n",
       "25321      1               문동언마취통증의학과의원/\\n\\n척추비수술치료\\n\\n  200313  \n",
       "\n",
       "[223 rows x 5 columns]"
      ]
     },
     "execution_count": 10,
     "metadata": {},
     "output_type": "execute_result"
    }
   ],
   "source": [
    "NON_SURGERY"
   ]
  },
  {
   "cell_type": "code",
   "execution_count": 15,
   "metadata": {},
   "outputs": [
    {
     "data": {
      "text/plain": [
       "(78, 5)"
      ]
     },
     "execution_count": 15,
     "metadata": {},
     "output_type": "execute_result"
    }
   ],
   "source": [
    "select_sub_page_by_hspt_name(HSPT_CHILDREN_URL, '서울스타병원').shape"
   ]
  },
  {
   "cell_type": "code",
   "execution_count": null,
   "metadata": {},
   "outputs": [],
   "source": []
  }
 ],
 "metadata": {
  "kernelspec": {
   "display_name": "Python 3",
   "language": "python",
   "name": "python3"
  },
  "language_info": {
   "codemirror_mode": {
    "name": "ipython",
    "version": 3
   },
   "file_extension": ".py",
   "mimetype": "text/x-python",
   "name": "python",
   "nbconvert_exporter": "python",
   "pygments_lexer": "ipython3",
   "version": "3.8.1"
  }
 },
 "nbformat": 4,
 "nbformat_minor": 4
}
