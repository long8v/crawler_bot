{
 "cells": [
  {
   "cell_type": "code",
   "execution_count": 1,
   "metadata": {},
   "outputs": [],
   "source": [
    "import numpy as np\n",
    "import pandas as pd\n",
    "import time\n",
    "from collections import Counter\n",
    "from crawl_utils.url_extractor import *\n",
    "from crawl_utils.table_parser import *\n",
    "from crawl_utils.html_request import *\n",
    "from crawl_utils.create_table import *\n",
    "from crawl_utils.bot_utils import *\n",
    "from crawl_utils.column_regularization import *"
   ]
  },
  {
   "cell_type": "code",
   "execution_count": 34,
   "metadata": {},
   "outputs": [],
   "source": [
    "hspt_code = pd.read_csv('HSPT_CODE.csv')"
   ]
  },
  {
   "cell_type": "code",
   "execution_count": 21,
   "metadata": {},
   "outputs": [],
   "source": [
    "hspt_url = pd.read_csv('MERGED_HSPT_URL.csv')"
   ]
  },
  {
   "cell_type": "code",
   "execution_count": 28,
   "metadata": {},
   "outputs": [],
   "source": [
    "hspt_child = pd.read_csv('HSPT_CHILDREN_URL_depth_1.csv')"
   ]
  },
  {
   "cell_type": "code",
   "execution_count": 22,
   "metadata": {},
   "outputs": [],
   "source": [
    "non = pd.read_csv('MERGED_NON_PAYMENT.csv')"
   ]
  },
  {
   "cell_type": "code",
   "execution_count": 2,
   "metadata": {},
   "outputs": [],
   "source": [
    "nonpay = pd.read_csv('final_200320.csv')"
   ]
  },
  {
   "cell_type": "code",
   "execution_count": 31,
   "metadata": {},
   "outputs": [
    {
     "data": {
      "text/html": [
       "<div>\n",
       "<style scoped>\n",
       "    .dataframe tbody tr th:only-of-type {\n",
       "        vertical-align: middle;\n",
       "    }\n",
       "\n",
       "    .dataframe tbody tr th {\n",
       "        vertical-align: top;\n",
       "    }\n",
       "\n",
       "    .dataframe thead th {\n",
       "        text-align: right;\n",
       "    }\n",
       "</style>\n",
       "<table border=\"1\" class=\"dataframe\">\n",
       "  <thead>\n",
       "    <tr style=\"text-align: right;\">\n",
       "      <th></th>\n",
       "      <th>Unnamed: 0</th>\n",
       "      <th>hspt_name</th>\n",
       "      <th>url</th>\n",
       "    </tr>\n",
       "  </thead>\n",
       "  <tbody>\n",
       "    <tr>\n",
       "      <th>0</th>\n",
       "      <td>0</td>\n",
       "      <td>연세사랑병원</td>\n",
       "      <td>http://www.yonserang.com/template/main/main.php</td>\n",
       "    </tr>\n",
       "    <tr>\n",
       "      <th>1</th>\n",
       "      <td>1</td>\n",
       "      <td>연세건우병원</td>\n",
       "      <td>http://www.healthyfriend.co.kr/</td>\n",
       "    </tr>\n",
       "    <tr>\n",
       "      <th>2</th>\n",
       "      <td>2</td>\n",
       "      <td>목동힘찬병원</td>\n",
       "      <td>https://himchanhospital.com/index.php/br/notic...</td>\n",
       "    </tr>\n",
       "    <tr>\n",
       "      <th>3</th>\n",
       "      <td>3</td>\n",
       "      <td>우리들병원</td>\n",
       "      <td>https://www.wooridul.co.kr/</td>\n",
       "    </tr>\n",
       "    <tr>\n",
       "      <th>4</th>\n",
       "      <td>4</td>\n",
       "      <td>의)상원의료재단부평힘찬병원</td>\n",
       "      <td>https://himchanhospital.com/index.php/br/notic...</td>\n",
       "    </tr>\n",
       "    <tr>\n",
       "      <th>...</th>\n",
       "      <td>...</td>\n",
       "      <td>...</td>\n",
       "      <td>...</td>\n",
       "    </tr>\n",
       "    <tr>\n",
       "      <th>234</th>\n",
       "      <td>234</td>\n",
       "      <td>기둥병원</td>\n",
       "      <td>http://www.kidunghospital.net/index.asp</td>\n",
       "    </tr>\n",
       "    <tr>\n",
       "      <th>235</th>\n",
       "      <td>235</td>\n",
       "      <td>척사랑병원</td>\n",
       "      <td>http://www.spinelove.com/</td>\n",
       "    </tr>\n",
       "    <tr>\n",
       "      <th>236</th>\n",
       "      <td>236</td>\n",
       "      <td>세연마취통증의학과의원</td>\n",
       "      <td>http://www.pain119.co.kr/</td>\n",
       "    </tr>\n",
       "    <tr>\n",
       "      <th>237</th>\n",
       "      <td>237</td>\n",
       "      <td>초이스병원</td>\n",
       "      <td>http://www.sportsmed.co.kr/</td>\n",
       "    </tr>\n",
       "    <tr>\n",
       "      <th>238</th>\n",
       "      <td>238</td>\n",
       "      <td>문동언마취통증의학과의원</td>\n",
       "      <td>http://www.mpainclinic.com/</td>\n",
       "    </tr>\n",
       "  </tbody>\n",
       "</table>\n",
       "<p>239 rows × 3 columns</p>\n",
       "</div>"
      ],
      "text/plain": [
       "     Unnamed: 0       hspt_name  \\\n",
       "0             0          연세사랑병원   \n",
       "1             1          연세건우병원   \n",
       "2             2          목동힘찬병원   \n",
       "3             3           우리들병원   \n",
       "4             4  의)상원의료재단부평힘찬병원   \n",
       "..          ...             ...   \n",
       "234         234            기둥병원   \n",
       "235         235           척사랑병원   \n",
       "236         236     세연마취통증의학과의원   \n",
       "237         237           초이스병원   \n",
       "238         238    문동언마취통증의학과의원   \n",
       "\n",
       "                                                   url  \n",
       "0      http://www.yonserang.com/template/main/main.php  \n",
       "1                      http://www.healthyfriend.co.kr/  \n",
       "2    https://himchanhospital.com/index.php/br/notic...  \n",
       "3                          https://www.wooridul.co.kr/  \n",
       "4    https://himchanhospital.com/index.php/br/notic...  \n",
       "..                                                 ...  \n",
       "234            http://www.kidunghospital.net/index.asp  \n",
       "235                          http://www.spinelove.com/  \n",
       "236                          http://www.pain119.co.kr/  \n",
       "237                        http://www.sportsmed.co.kr/  \n",
       "238                        http://www.mpainclinic.com/  \n",
       "\n",
       "[239 rows x 3 columns]"
      ]
     },
     "execution_count": 31,
     "metadata": {},
     "output_type": "execute_result"
    }
   ],
   "source": [
    "hspt_url"
   ]
  },
  {
   "cell_type": "code",
   "execution_count": null,
   "metadata": {},
   "outputs": [],
   "source": [
    "datetime."
   ]
  },
  {
   "cell_type": "code",
   "execution_count": 38,
   "metadata": {
    "scrolled": false
   },
   "outputs": [
    {
     "data": {
      "text/plain": [
       "(243, 239, 230, 203, 193, 121)"
      ]
     },
     "execution_count": 38,
     "metadata": {},
     "output_type": "execute_result"
    }
   ],
   "source": [
    "len(set(hspt_code.hspt_name)),\\\n",
    "len(set(hspt_url.hspt_name)),\\\n",
    "len(set(hspt_url.url)),\\\n",
    "len(set(hspt_child.hspt_name)),\\\n",
    "len(set(non.hspt_name)),\\\n",
    "len(set(nonpay.병원명))"
   ]
  },
  {
   "cell_type": "code",
   "execution_count": 5,
   "metadata": {},
   "outputs": [],
   "source": [
    "yescost = get_yes_cost(nonpay)"
   ]
  },
  {
   "cell_type": "code",
   "execution_count": 11,
   "metadata": {},
   "outputs": [],
   "source": [
    "yesname = get_yes_name(yescost)"
   ]
  },
  {
   "cell_type": "code",
   "execution_count": 13,
   "metadata": {
    "scrolled": true
   },
   "outputs": [
    {
     "data": {
      "text/plain": [
       "((25397, 14), (25208, 14), (24925, 14))"
      ]
     },
     "execution_count": 13,
     "metadata": {},
     "output_type": "execute_result"
    }
   ],
   "source": [
    "nonpay.shape, yescost.shape, yes_name.shape"
   ]
  },
  {
   "cell_type": "code",
   "execution_count": 18,
   "metadata": {},
   "outputs": [
    {
     "data": {
      "text/plain": [
       "(121, 121, 119)"
      ]
     },
     "execution_count": 18,
     "metadata": {},
     "output_type": "execute_result"
    }
   ],
   "source": [
    "len(set(nonpay.병원명)), len(set(yescost.병원명)), len(set(yesname.병원명))"
   ]
  },
  {
   "cell_type": "code",
   "execution_count": null,
   "metadata": {},
   "outputs": [],
   "source": [
    "CODE = pd.read_csv('HSPT_CODE.csv')\n",
    "TABLE = pd.read_csv('yes_cost_200312.csv')"
   ]
  },
  {
   "cell_type": "code",
   "execution_count": null,
   "metadata": {},
   "outputs": [],
   "source": [
    "CODE.columns = ['병원코드', '병원명']"
   ]
  },
  {
   "cell_type": "code",
   "execution_count": null,
   "metadata": {},
   "outputs": [],
   "source": []
  }
 ],
 "metadata": {
  "kernelspec": {
   "display_name": "Python 3",
   "language": "python",
   "name": "python3"
  },
  "language_info": {
   "codemirror_mode": {
    "name": "ipython",
    "version": 3
   },
   "file_extension": ".py",
   "mimetype": "text/x-python",
   "name": "python",
   "nbconvert_exporter": "python",
   "pygments_lexer": "ipython3",
   "version": "3.8.1"
  }
 },
 "nbformat": 4,
 "nbformat_minor": 4
}
