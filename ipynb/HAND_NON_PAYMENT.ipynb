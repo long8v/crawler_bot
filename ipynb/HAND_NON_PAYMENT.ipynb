{
 "cells": [
  {
   "cell_type": "code",
   "execution_count": 1,
   "metadata": {},
   "outputs": [],
   "source": [
    "import numpy as np\n",
    "import pandas as pd\n",
    "import pickle\n",
    "from collections import Counter\n",
    "from crawl_utils.url_extractor import *\n",
    "from crawl_utils.table_parser import *\n",
    "from crawl_utils.main_site_extractor import *\n",
    "from crawl_utils.create_table import *\n",
    "from crawl_utils.html_request import *\n",
    "from crawl_utils.column_regularization import *"
   ]
  },
  {
   "cell_type": "code",
   "execution_count": 2,
   "metadata": {},
   "outputs": [],
   "source": [
    "full = pd.read_csv('HSPT_CHILDREN_URL_depth_1.csv')"
   ]
  },
  {
   "cell_type": "code",
   "execution_count": 3,
   "metadata": {},
   "outputs": [],
   "source": [
    "non_pay = pd.read_csv('MERGED_NON_PAYMENT.csv')"
   ]
  },
  {
   "cell_type": "code",
   "execution_count": 4,
   "metadata": {},
   "outputs": [
    {
     "data": {
      "text/html": [
       "<div>\n",
       "<style scoped>\n",
       "    .dataframe tbody tr th:only-of-type {\n",
       "        vertical-align: middle;\n",
       "    }\n",
       "\n",
       "    .dataframe tbody tr th {\n",
       "        vertical-align: top;\n",
       "    }\n",
       "\n",
       "    .dataframe thead th {\n",
       "        text-align: right;\n",
       "    }\n",
       "</style>\n",
       "<table border=\"1\" class=\"dataframe\">\n",
       "  <thead>\n",
       "    <tr style=\"text-align: right;\">\n",
       "      <th></th>\n",
       "      <th>Unnamed: 0</th>\n",
       "      <th>hspt_name</th>\n",
       "      <th>url</th>\n",
       "      <th>depth</th>\n",
       "      <th>text</th>\n",
       "      <th>date</th>\n",
       "      <th>Unnamed: 0.1</th>\n",
       "    </tr>\n",
       "  </thead>\n",
       "  <tbody>\n",
       "    <tr>\n",
       "      <th>0</th>\n",
       "      <td>129</td>\n",
       "      <td>연세사랑병원</td>\n",
       "      <td>http://www.yonserang.com/template/etc/non_pay_...</td>\n",
       "      <td>1</td>\n",
       "      <td>연세사랑병원/비급여진료비이용안내</td>\n",
       "      <td>200320</td>\n",
       "      <td>NaN</td>\n",
       "    </tr>\n",
       "    <tr>\n",
       "      <th>1</th>\n",
       "      <td>143</td>\n",
       "      <td>연세건우병원</td>\n",
       "      <td>http://www.healthyfriend.co.kr/introduce/be</td>\n",
       "      <td>1</td>\n",
       "      <td>연세건우병원/-비급여</td>\n",
       "      <td>200320</td>\n",
       "      <td>NaN</td>\n",
       "    </tr>\n",
       "    <tr>\n",
       "      <th>2</th>\n",
       "      <td>407</td>\n",
       "      <td>바른세상병원</td>\n",
       "      <td>https://www.barunsesang.co.kr/guide/unlnsuraLi...</td>\n",
       "      <td>1</td>\n",
       "      <td>바른세상병원/비급여 진료비안내</td>\n",
       "      <td>200320</td>\n",
       "      <td>NaN</td>\n",
       "    </tr>\n",
       "    <tr>\n",
       "      <th>3</th>\n",
       "      <td>582</td>\n",
       "      <td>나누리수원병원</td>\n",
       "      <td>http://sw.nanoori.co.kr/policy/policy4</td>\n",
       "      <td>1</td>\n",
       "      <td>나누리수원병원/비급여진료비조회</td>\n",
       "      <td>200320</td>\n",
       "      <td>NaN</td>\n",
       "    </tr>\n",
       "    <tr>\n",
       "      <th>4</th>\n",
       "      <td>594</td>\n",
       "      <td>안산21세기병원</td>\n",
       "      <td>http://www.ansan21.com/guide/article/index.php</td>\n",
       "      <td>1</td>\n",
       "      <td>안산21세기병원/비급여항목</td>\n",
       "      <td>200320</td>\n",
       "      <td>NaN</td>\n",
       "    </tr>\n",
       "    <tr>\n",
       "      <th>...</th>\n",
       "      <td>...</td>\n",
       "      <td>...</td>\n",
       "      <td>...</td>\n",
       "      <td>...</td>\n",
       "      <td>...</td>\n",
       "      <td>...</td>\n",
       "      <td>...</td>\n",
       "    </tr>\n",
       "    <tr>\n",
       "      <th>196</th>\n",
       "      <td>27</td>\n",
       "      <td>코끼리휴병원</td>\n",
       "      <td>0</td>\n",
       "      <td>1</td>\n",
       "      <td>비급여_수작업기입</td>\n",
       "      <td>200317</td>\n",
       "      <td>27.0</td>\n",
       "    </tr>\n",
       "    <tr>\n",
       "      <th>197</th>\n",
       "      <td>28</td>\n",
       "      <td>순천하나병원</td>\n",
       "      <td>0</td>\n",
       "      <td>1</td>\n",
       "      <td>비급여_수작업기입</td>\n",
       "      <td>200317</td>\n",
       "      <td>28.0</td>\n",
       "    </tr>\n",
       "    <tr>\n",
       "      <th>198</th>\n",
       "      <td>29</td>\n",
       "      <td>선정형외과의원</td>\n",
       "      <td>0</td>\n",
       "      <td>1</td>\n",
       "      <td>비급여_수작업기입</td>\n",
       "      <td>200317</td>\n",
       "      <td>29.0</td>\n",
       "    </tr>\n",
       "    <tr>\n",
       "      <th>199</th>\n",
       "      <td>30</td>\n",
       "      <td>심정병원</td>\n",
       "      <td>http://www.shimjeong.co.kr/uninsured/</td>\n",
       "      <td>1</td>\n",
       "      <td>비급여_수작업기입</td>\n",
       "      <td>200317</td>\n",
       "      <td>30.0</td>\n",
       "    </tr>\n",
       "    <tr>\n",
       "      <th>200</th>\n",
       "      <td>31</td>\n",
       "      <td>조앤조병원</td>\n",
       "      <td>0</td>\n",
       "      <td>1</td>\n",
       "      <td>비급여_수작업기입</td>\n",
       "      <td>200317</td>\n",
       "      <td>31.0</td>\n",
       "    </tr>\n",
       "  </tbody>\n",
       "</table>\n",
       "<p>201 rows × 7 columns</p>\n",
       "</div>"
      ],
      "text/plain": [
       "     Unnamed: 0 hspt_name                                                url  \\\n",
       "0           129    연세사랑병원  http://www.yonserang.com/template/etc/non_pay_...   \n",
       "1           143    연세건우병원        http://www.healthyfriend.co.kr/introduce/be   \n",
       "2           407    바른세상병원  https://www.barunsesang.co.kr/guide/unlnsuraLi...   \n",
       "3           582   나누리수원병원             http://sw.nanoori.co.kr/policy/policy4   \n",
       "4           594  안산21세기병원     http://www.ansan21.com/guide/article/index.php   \n",
       "..          ...       ...                                                ...   \n",
       "196          27    코끼리휴병원                                                  0   \n",
       "197          28    순천하나병원                                                  0   \n",
       "198          29   선정형외과의원                                                  0   \n",
       "199          30      심정병원              http://www.shimjeong.co.kr/uninsured/   \n",
       "200          31     조앤조병원                                                  0   \n",
       "\n",
       "     depth               text    date  Unnamed: 0.1  \n",
       "0        1  연세사랑병원/비급여진료비이용안내  200320           NaN  \n",
       "1        1        연세건우병원/-비급여  200320           NaN  \n",
       "2        1   바른세상병원/비급여 진료비안내  200320           NaN  \n",
       "3        1   나누리수원병원/비급여진료비조회  200320           NaN  \n",
       "4        1     안산21세기병원/비급여항목  200320           NaN  \n",
       "..     ...                ...     ...           ...  \n",
       "196      1          비급여_수작업기입  200317          27.0  \n",
       "197      1          비급여_수작업기입  200317          28.0  \n",
       "198      1          비급여_수작업기입  200317          29.0  \n",
       "199      1          비급여_수작업기입  200317          30.0  \n",
       "200      1          비급여_수작업기입  200317          31.0  \n",
       "\n",
       "[201 rows x 7 columns]"
      ]
     },
     "execution_count": 4,
     "metadata": {},
     "output_type": "execute_result"
    }
   ],
   "source": [
    "non_pay"
   ]
  },
  {
   "cell_type": "code",
   "execution_count": 5,
   "metadata": {},
   "outputs": [
    {
     "data": {
      "text/plain": [
       "203"
      ]
     },
     "execution_count": 5,
     "metadata": {},
     "output_type": "execute_result"
    }
   ],
   "source": [
    "len(set(full.hspt_name))"
   ]
  },
  {
   "cell_type": "code",
   "execution_count": 7,
   "metadata": {},
   "outputs": [],
   "source": [
    "non_non = set(full.hspt_name).difference(set(non_pay.hspt_name))"
   ]
  },
  {
   "cell_type": "code",
   "execution_count": 15,
   "metadata": {},
   "outputs": [],
   "source": [
    "URL = pd.read_csv('MERGED_HSPT_URL.csv')"
   ]
  },
  {
   "cell_type": "code",
   "execution_count": 16,
   "metadata": {},
   "outputs": [
    {
     "data": {
      "text/html": [
       "<div>\n",
       "<style scoped>\n",
       "    .dataframe tbody tr th:only-of-type {\n",
       "        vertical-align: middle;\n",
       "    }\n",
       "\n",
       "    .dataframe tbody tr th {\n",
       "        vertical-align: top;\n",
       "    }\n",
       "\n",
       "    .dataframe thead th {\n",
       "        text-align: right;\n",
       "    }\n",
       "</style>\n",
       "<table border=\"1\" class=\"dataframe\">\n",
       "  <thead>\n",
       "    <tr style=\"text-align: right;\">\n",
       "      <th></th>\n",
       "      <th>Unnamed: 0</th>\n",
       "      <th>hspt_name</th>\n",
       "      <th>url</th>\n",
       "    </tr>\n",
       "  </thead>\n",
       "  <tbody>\n",
       "    <tr>\n",
       "      <th>0</th>\n",
       "      <td>0</td>\n",
       "      <td>연세사랑병원</td>\n",
       "      <td>http://www.yonserang.com/template/main/main.php</td>\n",
       "    </tr>\n",
       "    <tr>\n",
       "      <th>1</th>\n",
       "      <td>1</td>\n",
       "      <td>연세건우병원</td>\n",
       "      <td>http://www.healthyfriend.co.kr/</td>\n",
       "    </tr>\n",
       "    <tr>\n",
       "      <th>2</th>\n",
       "      <td>2</td>\n",
       "      <td>목동힘찬병원</td>\n",
       "      <td>https://himchanhospital.com/index.php/br/notic...</td>\n",
       "    </tr>\n",
       "    <tr>\n",
       "      <th>3</th>\n",
       "      <td>3</td>\n",
       "      <td>우리들병원</td>\n",
       "      <td>https://www.wooridul.co.kr/</td>\n",
       "    </tr>\n",
       "    <tr>\n",
       "      <th>4</th>\n",
       "      <td>4</td>\n",
       "      <td>의)상원의료재단부평힘찬병원</td>\n",
       "      <td>https://himchanhospital.com/index.php/br/notic...</td>\n",
       "    </tr>\n",
       "    <tr>\n",
       "      <th>...</th>\n",
       "      <td>...</td>\n",
       "      <td>...</td>\n",
       "      <td>...</td>\n",
       "    </tr>\n",
       "    <tr>\n",
       "      <th>234</th>\n",
       "      <td>234</td>\n",
       "      <td>기둥병원</td>\n",
       "      <td>http://www.kidunghospital.net/index.asp</td>\n",
       "    </tr>\n",
       "    <tr>\n",
       "      <th>235</th>\n",
       "      <td>235</td>\n",
       "      <td>척사랑병원</td>\n",
       "      <td>http://www.spinelove.com/</td>\n",
       "    </tr>\n",
       "    <tr>\n",
       "      <th>236</th>\n",
       "      <td>236</td>\n",
       "      <td>세연마취통증의학과의원</td>\n",
       "      <td>http://www.pain119.co.kr/</td>\n",
       "    </tr>\n",
       "    <tr>\n",
       "      <th>237</th>\n",
       "      <td>237</td>\n",
       "      <td>초이스병원</td>\n",
       "      <td>http://www.sportsmed.co.kr/</td>\n",
       "    </tr>\n",
       "    <tr>\n",
       "      <th>238</th>\n",
       "      <td>238</td>\n",
       "      <td>문동언마취통증의학과의원</td>\n",
       "      <td>http://www.mpainclinic.com/</td>\n",
       "    </tr>\n",
       "  </tbody>\n",
       "</table>\n",
       "<p>239 rows × 3 columns</p>\n",
       "</div>"
      ],
      "text/plain": [
       "     Unnamed: 0       hspt_name  \\\n",
       "0             0          연세사랑병원   \n",
       "1             1          연세건우병원   \n",
       "2             2          목동힘찬병원   \n",
       "3             3           우리들병원   \n",
       "4             4  의)상원의료재단부평힘찬병원   \n",
       "..          ...             ...   \n",
       "234         234            기둥병원   \n",
       "235         235           척사랑병원   \n",
       "236         236     세연마취통증의학과의원   \n",
       "237         237           초이스병원   \n",
       "238         238    문동언마취통증의학과의원   \n",
       "\n",
       "                                                   url  \n",
       "0      http://www.yonserang.com/template/main/main.php  \n",
       "1                      http://www.healthyfriend.co.kr/  \n",
       "2    https://himchanhospital.com/index.php/br/notic...  \n",
       "3                          https://www.wooridul.co.kr/  \n",
       "4    https://himchanhospital.com/index.php/br/notic...  \n",
       "..                                                 ...  \n",
       "234            http://www.kidunghospital.net/index.asp  \n",
       "235                          http://www.spinelove.com/  \n",
       "236                          http://www.pain119.co.kr/  \n",
       "237                        http://www.sportsmed.co.kr/  \n",
       "238                        http://www.mpainclinic.com/  \n",
       "\n",
       "[239 rows x 3 columns]"
      ]
     },
     "execution_count": 16,
     "metadata": {},
     "output_type": "execute_result"
    }
   ],
   "source": [
    "URL"
   ]
  },
  {
   "cell_type": "code",
   "execution_count": 17,
   "metadata": {},
   "outputs": [],
   "source": [
    "from selenium import webdriver"
   ]
  },
  {
   "cell_type": "code",
   "execution_count": 19,
   "metadata": {},
   "outputs": [
    {
     "data": {
      "text/plain": [
       "37"
      ]
     },
     "execution_count": 19,
     "metadata": {},
     "output_type": "execute_result"
    }
   ],
   "source": [
    "len(non_non)"
   ]
  },
  {
   "cell_type": "code",
   "execution_count": 20,
   "metadata": {},
   "outputs": [
    {
     "name": "stdout",
     "output_type": "stream",
     "text": [
      "의료법인정애의료재단서울초이스병원 있으면 링크, 없으면 0, 기타 특이사항 https://www.drchois.co.kr/uninsuralist1\n",
      "의료법인나누리의료재단나누리병원 있으면 링크, 없으면 0, 기타 특이사항 http://www.nanoori.co.kr/gn/policy/policy4\n",
      "청라국제병원 있으면 링크, 없으면 0, 기타 특이사항 http://www.jsjhospital.co.kr/cscenter/medical_info.php\n",
      "두발로정형외과의원 있으면 링크, 없으면 0, 기타 특이사항 \n",
      "공주현대병원 있으면 링크, 없으면 0, 기타 특이사항 http://kjhd.co.kr/bbs/board.php?bo_table=unpaid&wr_id=1\n",
      "노원참튼튼병원 있으면 링크, 없으면 0, 기타 특이사항 http://www.tntnhospital.co.kr/non_payment/nowon.html\n",
      "가톨릭병원 있으면 링크, 없으면 0, 기타 특이사항 https://www.cmcseoul.or.kr/common.hospitalguide.non_payment.sp?p=1&s=10&q=%7B%22categoryCd%22%3A%22%22%2C%22itemName%22%3A%22%22%7D\n",
      "세계로병원 있으면 링크, 없으면 0, 기타 특이사항 \n",
      "참튼튼병원 있으면 링크, 없으면 0, 기타 특이사항 http://www.tntnhospital.co.kr/non_payment/jangan.html\n",
      "활기찬병원 있으면 링크, 없으면 0, 기타 특이사항 http://vivahospital.co.kr/wpage/comm/comm_06.php?bbs_no=1387&bbs_code=10001&bbs_cate=&sypage=&page=1&search=&keyword=&symode=view\n",
      "의료법인 상원의료재단 창원힘찬병원 있으면 링크, 없으면 0, 기타 특이사항 https://himchanhospital.com/index.php/br/paylist/27/br_cd/8#a\n",
      "의료법인 상원의료재단 강북힘찬병원 있으면 링크, 없으면 0, 기타 특이사항 https://himchanhospital.com/index.php/br/paylist/27/br_cd/2#a\n",
      "강남힘찬병원 있으면 링크, 없으면 0, 기타 특이사항 https://www.himchanhospital.com/index.php/br/paylist/27/br_cd/1#a\n",
      "의료법인 상원의료재단 부산힘찬병원 있으면 링크, 없으면 0, 기타 특이사항 https://himchanhospital.com/index.php/br/paylist/27/br_cd/7#a\n",
      "대찬병원 있으면 링크, 없으면 0, 기타 특이사항 \n",
      "굳센병원 있으면 링크, 없으면 0, 기타 특이사항 http://www.goodssen.co.kr/doc/use06.php\n",
      "플러스병원 있으면 링크, 없으면 0, 기타 특이사항 https://plushospital.com/html/popup_bigeupyu.html\n",
      "(의) 상원의료재단 인천힘찬병원 있으면 링크, 없으면 0, 기타 특이사항 https://himchanhospital.com/index.php/br/paylist/27/br_cd/6#a\n",
      "인천마디병원 있으면 링크, 없으면 0, 기타 특이사항 http://www.incheonmadi.com/sub/sub02_06.php\n",
      "의료법인고려의료재단부산고려병원 있으면 링크, 없으면 0, 기타 특이사항 http://www.hira.or.kr/re/diag/getNpayNotiCsuiSvcFom.do?yadmSbstKey=os3aeInxAapLU8Az\n",
      "든든한병원 있으면 링크, 없으면 0, 기타 특이사항 https://www.ddhhospital.com/doc/non_payment.php\n",
      "분당척병원 있으면 링크, 없으면 0, 기타 특이사항 \n",
      "서울척척신경외과의원 있으면 링크, 없으면 0, 기타 특이사항 \n",
      "김찬병원 있으면 링크, 없으면 0, 기타 특이사항 \n",
      "오병원 있으면 링크, 없으면 0, 기타 특이사항 \n",
      "the큰병원 있으면 링크, 없으면 0, 기타 특이사항 http://ghgrandhospital.com/Module/Uninsured/Uninsured.asp\n",
      "부천21세기병원 있으면 링크, 없으면 0, 기타 특이사항 http://www.bc21spine.co.kr/index.php?page=pay_list&file=list&mc=681\n",
      "의)상원의료재단부평힘찬병원 있으면 링크, 없으면 0, 기타 특이사항 https://himchanhospital.com/index.php/br/paylist/27/br_cd/5#a\n",
      "연세다움병원 있으면 링크, 없으면 0, 기타 특이사항 \n",
      "미래병원 있으면 링크, 없으면 0, 기타 특이사항 \n",
      "스마튼병원 있으면 링크, 없으면 0, 기타 특이사항 http://smartonhosp.co.kr/skin/mon/mon_01.html\n",
      "제주우리병원 있으면 링크, 없으면 0, 기타 특이사항 http://xn--oy2bo1dt3lzdy2eoxb.kr/certifiedpage\n",
      "티케이정형외과의원 있으면 링크, 없으면 0, 기타 특이사항 http://toptk.co.kr/info/nonpay.php\n",
      "바로선병원 있으면 링크, 없으면 0, 기타 특이사항 http://www.barosun.net/index.php?page=html&mc=0507\n",
      "더(the)큰병원 있으면 링크, 없으면 0, 기타 특이사항 http://www.grandhospital.com/Module/NopayBoard/NopayBoardUserList.asp\n",
      "서울척병원 있으면 링크, 없으면 0, 기타 특이사항 https://www.seoulchuk.com/info/excluded/list.do\n",
      "세바른병원 있으면 링크, 없으면 0, 기타 특이사항 http://bs.sebarun.com/006/005.php\n"
     ]
    }
   ],
   "source": [
    "result = []\n",
    "for hspt in non_non:\n",
    "    driver = webdriver.Chrome()\n",
    "    url = URL[URL.hspt_name == hspt][\"url\"]\n",
    "    driver.get(url.values[0])\n",
    "    text = input('{} 있으면 링크, 없으면 0, 기타 특이사항 '.format(hspt))\n",
    "    result.append((hspt, url, text))"
   ]
  },
  {
   "cell_type": "code",
   "execution_count": 28,
   "metadata": {},
   "outputs": [],
   "source": [
    "hand = pd.DataFrame()"
   ]
  },
  {
   "cell_type": "code",
   "execution_count": 29,
   "metadata": {},
   "outputs": [],
   "source": [
    "hand_len = len(list(zip(*result))[0])"
   ]
  },
  {
   "cell_type": "code",
   "execution_count": 30,
   "metadata": {},
   "outputs": [],
   "source": [
    "hand['text'] = ['비급여_수작업기입' for _ in range(hand_len)]\n",
    "hand['url'] = list(zip(*result))[2]\n",
    "hand['depth'] = [1 for _ in range(hand_len)]\n",
    "hand['hspt_name'] = list(zip(*result))[0]\n",
    "hand['date'] = ['200320' for _ in range(hand_len)]"
   ]
  },
  {
   "cell_type": "code",
   "execution_count": 31,
   "metadata": {},
   "outputs": [],
   "source": [
    "hand.to_csv('hand_non_payment_2.csv')"
   ]
  },
  {
   "cell_type": "code",
   "execution_count": 50,
   "metadata": {},
   "outputs": [
    {
     "data": {
      "text/plain": [
       "Counter({'https://www.himchanhospital.com/index.php/br/paylist/27/br_cd/3#a': 1,\n",
       "         '0': 15,\n",
       "         'url': 5,\n",
       "         'http://www.barunbone.co.kr/Skin/pay.html': 1,\n",
       "         'http://www.jsnohsong.com/bbs/board.php?bo_table=0211': 1,\n",
       "         'http://www.hira.or.kr/re/diag/getNpayNotiCsuiSvcFom.do?yadmSbstKey=6meP7DgQFD4FHdxX': 1,\n",
       "         'http://www.chamhosp.co.kr/renewal/consultation/consultation08.php': 1,\n",
       "         'http://www.shoulderfriends.co.kr/fee': 1,\n",
       "         'https://himchanhospital.com/index.php/br/paylist/27/br_cd/4#a': 1,\n",
       "         'http://www.goldmedalclinic.com/information/information_03.htm?num=3': 1,\n",
       "         'http://www.bogang.co.kr/front/price.php': 1,\n",
       "         'http://www.woorichuck.net/_kor/developer/m_board/m_board.asp?tb_nm=tbl_notice&m_mode=view&pds_no=20150121104815932975904&PageNo=1&category=&req_year=&req_no=&req_ref=&req_step=&req_lev=': 1,\n",
       "         'image': 1,\n",
       "         'http://www.shimjeong.co.kr/uninsured/': 1})"
      ]
     },
     "execution_count": 50,
     "metadata": {},
     "output_type": "execute_result"
    }
   ],
   "source": [
    "Counter(hand.url)"
   ]
  },
  {
   "cell_type": "code",
   "execution_count": 41,
   "metadata": {
    "scrolled": false
   },
   "outputs": [
    {
     "data": {
      "text/plain": [
       "(('강서힘찬병원',\n",
       "  '척탑병원',\n",
       "  '이지정형외과의원',\n",
       "  '바른본병원',\n",
       "  '서울제일병원',\n",
       "  'JS노송병원',\n",
       "  '새움병원',\n",
       "  '으뜸병원',\n",
       "  '굿병원',\n",
       "  '서울스타병원',\n",
       "  '대전본병원',\n",
       "  '참조은병원',\n",
       "  '본병원',\n",
       "  '연세견우정형외과의원',\n",
       "  '우리병원',\n",
       "  '목동힘찬병원',\n",
       "  '의료법인 백산의료재단 K마디병원',\n",
       "  '청주프라임병원',\n",
       "  '금메달 정형외과의원',\n",
       "  '전주21세기병원',\n",
       "  '우리들병원',\n",
       "  '마디척정형외과의원',\n",
       "  '좋은아침병원',\n",
       "  '(의)서봉의료재단 보강병원',\n",
       "  '참바로병원',\n",
       "  '우리척병원',\n",
       "  '천안21세기병원',\n",
       "  '코끼리휴병원',\n",
       "  '순천하나병원',\n",
       "  '선정형외과의원',\n",
       "  '심정병원',\n",
       "  '조앤조병원'),\n",
       " ('https://www.himchanhospital.com/index.php/br/paylist/27/br_cd/3#a',\n",
       "  '0',\n",
       "  'url',\n",
       "  'http://www.barunbone.co.kr/Skin/pay.html',\n",
       "  '0',\n",
       "  'http://www.jsnohsong.com/bbs/board.php?bo_table=0211',\n",
       "  '0',\n",
       "  '0',\n",
       "  'url',\n",
       "  'http://www.hira.or.kr/re/diag/getNpayNotiCsuiSvcFom.do?yadmSbstKey=6meP7DgQFD4FHdxX',\n",
       "  'url',\n",
       "  'http://www.chamhosp.co.kr/renewal/consultation/consultation08.php',\n",
       "  '0',\n",
       "  'http://www.shoulderfriends.co.kr/fee',\n",
       "  '0',\n",
       "  'https://himchanhospital.com/index.php/br/paylist/27/br_cd/4#a',\n",
       "  'url',\n",
       "  '0',\n",
       "  'http://www.goldmedalclinic.com/information/information_03.htm?num=3',\n",
       "  'url',\n",
       "  '0',\n",
       "  '0',\n",
       "  '0',\n",
       "  'http://www.bogang.co.kr/front/price.php',\n",
       "  '0',\n",
       "  'http://www.woorichuck.net/_kor/developer/m_board/m_board.asp?tb_nm=tbl_notice&m_mode=view&pds_no=20150121104815932975904&PageNo=1&category=&req_year=&req_no=&req_ref=&req_step=&req_lev=',\n",
       "  'image',\n",
       "  '0',\n",
       "  '0',\n",
       "  '0',\n",
       "  'http://www.shimjeong.co.kr/uninsured/',\n",
       "  '0'))"
      ]
     },
     "execution_count": 41,
     "metadata": {},
     "output_type": "execute_result"
    }
   ],
   "source": [
    "list(zip(*result))[0], list(zip(*result))[2]"
   ]
  },
  {
   "cell_type": "code",
   "execution_count": 6,
   "metadata": {},
   "outputs": [],
   "source": [
    "non_pay_sub = [drop_duplicate_by_column(df, \"url\") for df in non_pay_sub]"
   ]
  },
  {
   "cell_type": "code",
   "execution_count": 7,
   "metadata": {},
   "outputs": [],
   "source": [
    "NON_PAYMENT_2 = concat_from_list(non_pay_sub)"
   ]
  },
  {
   "cell_type": "code",
   "execution_count": 8,
   "metadata": {},
   "outputs": [
    {
     "data": {
      "text/plain": [
       "19"
      ]
     },
     "execution_count": 8,
     "metadata": {},
     "output_type": "execute_result"
    }
   ],
   "source": [
    "len(set(NON_PAYMENT_2.hspt_name))"
   ]
  },
  {
   "cell_type": "code",
   "execution_count": 9,
   "metadata": {},
   "outputs": [],
   "source": [
    "table_list = {}\n",
    "no_table = set([])\n",
    "error = set([])\n",
    "for idx, row in NON_PAYMENT_2.iterrows():\n",
    "    try:\n",
    "        table = table_parsing(row.url)\n",
    "        if table:\n",
    "            table_list[\"{}/{}\".format(row.hspt_name, row.text)] = table\n",
    "        else:\n",
    "            no_table.update([row.hspt_name])\n",
    "    except Exception as e:\n",
    "        print(row.url, e)"
   ]
  },
  {
   "cell_type": "code",
   "execution_count": 10,
   "metadata": {},
   "outputs": [
    {
     "data": {
      "text/plain": [
       "15"
      ]
     },
     "execution_count": 10,
     "metadata": {},
     "output_type": "execute_result"
    }
   ],
   "source": [
    "len(set(_.split('/')[0] for _ in table_list.keys()))"
   ]
  },
  {
   "cell_type": "code",
   "execution_count": 11,
   "metadata": {},
   "outputs": [],
   "source": [
    "change_column = pickle_open('change_column')"
   ]
  },
  {
   "cell_type": "code",
   "execution_count": 12,
   "metadata": {},
   "outputs": [],
   "source": [
    "filtered_df_list, _ = get_filtered_dataframe(table_list)"
   ]
  },
  {
   "cell_type": "code",
   "execution_count": 13,
   "metadata": {},
   "outputs": [],
   "source": [
    "final_table = get_final_table(filtered_df_list)"
   ]
  },
  {
   "cell_type": "code",
   "execution_count": 16,
   "metadata": {},
   "outputs": [
    {
     "data": {
      "text/plain": [
       "11"
      ]
     },
     "execution_count": 16,
     "metadata": {},
     "output_type": "execute_result"
    }
   ],
   "source": [
    "len(set(final_table.병원명))"
   ]
  },
  {
   "cell_type": "code",
   "execution_count": 17,
   "metadata": {},
   "outputs": [],
   "source": [
    "yes_cost = final_table.dropna(how='all', subset=['최고비용', '최저비용', '비용'])"
   ]
  },
  {
   "cell_type": "code",
   "execution_count": 18,
   "metadata": {},
   "outputs": [
    {
     "data": {
      "text/plain": [
       "10"
      ]
     },
     "execution_count": 18,
     "metadata": {},
     "output_type": "execute_result"
    }
   ],
   "source": [
    "len(set(yes_cost.병원명))"
   ]
  },
  {
   "cell_type": "code",
   "execution_count": 24,
   "metadata": {},
   "outputs": [
    {
     "data": {
      "text/html": [
       "<div>\n",
       "<style scoped>\n",
       "    .dataframe tbody tr th:only-of-type {\n",
       "        vertical-align: middle;\n",
       "    }\n",
       "\n",
       "    .dataframe tbody tr th {\n",
       "        vertical-align: top;\n",
       "    }\n",
       "\n",
       "    .dataframe thead th {\n",
       "        text-align: right;\n",
       "    }\n",
       "</style>\n",
       "<table border=\"1\" class=\"dataframe\">\n",
       "  <thead>\n",
       "    <tr style=\"text-align: right;\">\n",
       "      <th></th>\n",
       "      <th>병원명</th>\n",
       "      <th>명칭</th>\n",
       "      <th>분류</th>\n",
       "      <th>소분류</th>\n",
       "      <th>중분류</th>\n",
       "      <th>중복컬럼_1</th>\n",
       "      <th>비용</th>\n",
       "      <th>최저비용</th>\n",
       "      <th>최고비용</th>\n",
       "      <th>코드</th>\n",
       "      <th>구분</th>\n",
       "      <th>특이사항</th>\n",
       "      <th>약제비포함여부</th>\n",
       "      <th>치료재료대포함여부</th>\n",
       "    </tr>\n",
       "  </thead>\n",
       "  <tbody>\n",
       "    <tr>\n",
       "      <th>1260</th>\n",
       "      <td>의료법인고려의료재단부산고려병원</td>\n",
       "      <td>NaN</td>\n",
       "      <td>NaN</td>\n",
       "      <td>NaN</td>\n",
       "      <td>NaN</td>\n",
       "      <td>NaN</td>\n",
       "      <td>NaN</td>\n",
       "      <td></td>\n",
       "      <td></td>\n",
       "      <td>NaN</td>\n",
       "      <td>NaN</td>\n",
       "      <td></td>\n",
       "      <td>NaN</td>\n",
       "      <td>NaN</td>\n",
       "    </tr>\n",
       "    <tr>\n",
       "      <th>1261</th>\n",
       "      <td>의료법인고려의료재단부산고려병원</td>\n",
       "      <td>NaN</td>\n",
       "      <td>NaN</td>\n",
       "      <td>NaN</td>\n",
       "      <td>NaN</td>\n",
       "      <td>NaN</td>\n",
       "      <td>NaN</td>\n",
       "      <td></td>\n",
       "      <td></td>\n",
       "      <td>NaN</td>\n",
       "      <td>NaN</td>\n",
       "      <td></td>\n",
       "      <td>NaN</td>\n",
       "      <td>NaN</td>\n",
       "    </tr>\n",
       "    <tr>\n",
       "      <th>1262</th>\n",
       "      <td>의료법인고려의료재단부산고려병원</td>\n",
       "      <td>NaN</td>\n",
       "      <td>NaN</td>\n",
       "      <td>NaN</td>\n",
       "      <td>NaN</td>\n",
       "      <td>NaN</td>\n",
       "      <td>NaN</td>\n",
       "      <td></td>\n",
       "      <td></td>\n",
       "      <td>NaN</td>\n",
       "      <td>NaN</td>\n",
       "      <td></td>\n",
       "      <td>NaN</td>\n",
       "      <td>NaN</td>\n",
       "    </tr>\n",
       "    <tr>\n",
       "      <th>1263</th>\n",
       "      <td>의료법인고려의료재단부산고려병원</td>\n",
       "      <td>NaN</td>\n",
       "      <td>NaN</td>\n",
       "      <td>NaN</td>\n",
       "      <td>NaN</td>\n",
       "      <td>NaN</td>\n",
       "      <td>NaN</td>\n",
       "      <td></td>\n",
       "      <td></td>\n",
       "      <td>NaN</td>\n",
       "      <td>NaN</td>\n",
       "      <td></td>\n",
       "      <td>NaN</td>\n",
       "      <td>NaN</td>\n",
       "    </tr>\n",
       "    <tr>\n",
       "      <th>1264</th>\n",
       "      <td>의료법인고려의료재단부산고려병원</td>\n",
       "      <td>NaN</td>\n",
       "      <td>NaN</td>\n",
       "      <td>NaN</td>\n",
       "      <td>NaN</td>\n",
       "      <td>NaN</td>\n",
       "      <td>NaN</td>\n",
       "      <td></td>\n",
       "      <td></td>\n",
       "      <td>NaN</td>\n",
       "      <td>NaN</td>\n",
       "      <td>편측기준</td>\n",
       "      <td>NaN</td>\n",
       "      <td>NaN</td>\n",
       "    </tr>\n",
       "    <tr>\n",
       "      <th>...</th>\n",
       "      <td>...</td>\n",
       "      <td>...</td>\n",
       "      <td>...</td>\n",
       "      <td>...</td>\n",
       "      <td>...</td>\n",
       "      <td>...</td>\n",
       "      <td>...</td>\n",
       "      <td>...</td>\n",
       "      <td>...</td>\n",
       "      <td>...</td>\n",
       "      <td>...</td>\n",
       "      <td>...</td>\n",
       "      <td>...</td>\n",
       "      <td>...</td>\n",
       "    </tr>\n",
       "    <tr>\n",
       "      <th>1392</th>\n",
       "      <td>의료법인고려의료재단부산고려병원</td>\n",
       "      <td>NaN</td>\n",
       "      <td>NaN</td>\n",
       "      <td>NaN</td>\n",
       "      <td>NaN</td>\n",
       "      <td>NaN</td>\n",
       "      <td>NaN</td>\n",
       "      <td></td>\n",
       "      <td></td>\n",
       "      <td>NaN</td>\n",
       "      <td>NaN</td>\n",
       "      <td></td>\n",
       "      <td>NaN</td>\n",
       "      <td>NaN</td>\n",
       "    </tr>\n",
       "    <tr>\n",
       "      <th>1393</th>\n",
       "      <td>의료법인고려의료재단부산고려병원</td>\n",
       "      <td>NaN</td>\n",
       "      <td>NaN</td>\n",
       "      <td>NaN</td>\n",
       "      <td>NaN</td>\n",
       "      <td>NaN</td>\n",
       "      <td>NaN</td>\n",
       "      <td></td>\n",
       "      <td></td>\n",
       "      <td>NaN</td>\n",
       "      <td>NaN</td>\n",
       "      <td></td>\n",
       "      <td>NaN</td>\n",
       "      <td>NaN</td>\n",
       "    </tr>\n",
       "    <tr>\n",
       "      <th>1394</th>\n",
       "      <td>의료법인고려의료재단부산고려병원</td>\n",
       "      <td>NaN</td>\n",
       "      <td>NaN</td>\n",
       "      <td>NaN</td>\n",
       "      <td>NaN</td>\n",
       "      <td>NaN</td>\n",
       "      <td>NaN</td>\n",
       "      <td></td>\n",
       "      <td></td>\n",
       "      <td>NaN</td>\n",
       "      <td>NaN</td>\n",
       "      <td></td>\n",
       "      <td>NaN</td>\n",
       "      <td>NaN</td>\n",
       "    </tr>\n",
       "    <tr>\n",
       "      <th>1395</th>\n",
       "      <td>의료법인고려의료재단부산고려병원</td>\n",
       "      <td>NaN</td>\n",
       "      <td>NaN</td>\n",
       "      <td>NaN</td>\n",
       "      <td>NaN</td>\n",
       "      <td>NaN</td>\n",
       "      <td>NaN</td>\n",
       "      <td></td>\n",
       "      <td></td>\n",
       "      <td>NaN</td>\n",
       "      <td>NaN</td>\n",
       "      <td></td>\n",
       "      <td>NaN</td>\n",
       "      <td>NaN</td>\n",
       "    </tr>\n",
       "    <tr>\n",
       "      <th>1396</th>\n",
       "      <td>의료법인고려의료재단부산고려병원</td>\n",
       "      <td>NaN</td>\n",
       "      <td>NaN</td>\n",
       "      <td>NaN</td>\n",
       "      <td>NaN</td>\n",
       "      <td>NaN</td>\n",
       "      <td>NaN</td>\n",
       "      <td></td>\n",
       "      <td></td>\n",
       "      <td>NaN</td>\n",
       "      <td>NaN</td>\n",
       "      <td></td>\n",
       "      <td>NaN</td>\n",
       "      <td>NaN</td>\n",
       "    </tr>\n",
       "  </tbody>\n",
       "</table>\n",
       "<p>137 rows × 14 columns</p>\n",
       "</div>"
      ],
      "text/plain": [
       "                   병원명   명칭   분류  소분류  중분류 중복컬럼_1   비용 최저비용 최고비용   코드   구분  \\\n",
       "1260  의료법인고려의료재단부산고려병원  NaN  NaN  NaN  NaN    NaN  NaN            NaN  NaN   \n",
       "1261  의료법인고려의료재단부산고려병원  NaN  NaN  NaN  NaN    NaN  NaN            NaN  NaN   \n",
       "1262  의료법인고려의료재단부산고려병원  NaN  NaN  NaN  NaN    NaN  NaN            NaN  NaN   \n",
       "1263  의료법인고려의료재단부산고려병원  NaN  NaN  NaN  NaN    NaN  NaN            NaN  NaN   \n",
       "1264  의료법인고려의료재단부산고려병원  NaN  NaN  NaN  NaN    NaN  NaN            NaN  NaN   \n",
       "...                ...  ...  ...  ...  ...    ...  ...  ...  ...  ...  ...   \n",
       "1392  의료법인고려의료재단부산고려병원  NaN  NaN  NaN  NaN    NaN  NaN            NaN  NaN   \n",
       "1393  의료법인고려의료재단부산고려병원  NaN  NaN  NaN  NaN    NaN  NaN            NaN  NaN   \n",
       "1394  의료법인고려의료재단부산고려병원  NaN  NaN  NaN  NaN    NaN  NaN            NaN  NaN   \n",
       "1395  의료법인고려의료재단부산고려병원  NaN  NaN  NaN  NaN    NaN  NaN            NaN  NaN   \n",
       "1396  의료법인고려의료재단부산고려병원  NaN  NaN  NaN  NaN    NaN  NaN            NaN  NaN   \n",
       "\n",
       "      특이사항 약제비포함여부 치료재료대포함여부  \n",
       "1260           NaN       NaN  \n",
       "1261           NaN       NaN  \n",
       "1262           NaN       NaN  \n",
       "1263           NaN       NaN  \n",
       "1264  편측기준     NaN       NaN  \n",
       "...    ...     ...       ...  \n",
       "1392           NaN       NaN  \n",
       "1393           NaN       NaN  \n",
       "1394           NaN       NaN  \n",
       "1395           NaN       NaN  \n",
       "1396           NaN       NaN  \n",
       "\n",
       "[137 rows x 14 columns]"
      ]
     },
     "execution_count": 24,
     "metadata": {},
     "output_type": "execute_result"
    }
   ],
   "source": [
    "yes_cost[yes_cost.병원명 == '의료법인고려의료재단부산고려병원']"
   ]
  },
  {
   "cell_type": "code",
   "execution_count": 19,
   "metadata": {},
   "outputs": [],
   "source": [
    "yes_cost.to_csv('yes_cost_0316.csv')"
   ]
  },
  {
   "cell_type": "code",
   "execution_count": null,
   "metadata": {},
   "outputs": [],
   "source": []
  }
 ],
 "metadata": {
  "kernelspec": {
   "display_name": "Python 3",
   "language": "python",
   "name": "python3"
  },
  "language_info": {
   "codemirror_mode": {
    "name": "ipython",
    "version": 3
   },
   "file_extension": ".py",
   "mimetype": "text/x-python",
   "name": "python",
   "nbconvert_exporter": "python",
   "pygments_lexer": "ipython3",
   "version": "3.8.1"
  }
 },
 "nbformat": 4,
 "nbformat_minor": 4
}
