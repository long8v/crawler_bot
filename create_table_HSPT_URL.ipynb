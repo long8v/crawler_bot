{
 "cells": [
  {
   "cell_type": "markdown",
   "metadata": {},
   "source": [
    "# create_table (1) HSPT_URL"
   ]
  },
  {
   "cell_type": "code",
   "execution_count": 1,
   "metadata": {},
   "outputs": [],
   "source": [
    "import pandas as pd\n",
    "from crawl_utils.url_extractor import *"
   ]
  },
  {
   "cell_type": "code",
   "execution_count": 2,
   "metadata": {},
   "outputs": [],
   "source": [
    "# hspt_table = pd.read_csv(\"hspt_list.txt\", delimiter='\\t', header=None)\n",
    "# hspt_table.columns = ['hspt_code', 'hspt_name']\n",
    "# hspt_table.to_csv('hspt_code.csv', index=None)"
   ]
  },
  {
   "cell_type": "code",
   "execution_count": 3,
   "metadata": {},
   "outputs": [],
   "source": [
    "hspt_table = pd.read_csv('HSPT_CODE.csv')"
   ]
  },
  {
   "cell_type": "code",
   "execution_count": 87,
   "metadata": {},
   "outputs": [
    {
     "data": {
      "text/plain": [
       "'본브릿지병원'"
      ]
     },
     "execution_count": 87,
     "metadata": {},
     "output_type": "execute_result"
    }
   ],
   "source": [
    "query_re('(本)본브릿지병원')"
   ]
  },
  {
   "cell_type": "code",
   "execution_count": 8,
   "metadata": {},
   "outputs": [],
   "source": [
    "hspt_url = get_main_page_dict(hspt_table['hspt_name'])"
   ]
  },
  {
   "cell_type": "code",
   "execution_count": 94,
   "metadata": {},
   "outputs": [
    {
     "data": {
      "text/plain": [
       "(262, 243)"
      ]
     },
     "execution_count": 94,
     "metadata": {},
     "output_type": "execute_result"
    }
   ],
   "source": [
    "len(set(hspt_table.hspt_code)), len(set(hspt_table.hspt_name))"
   ]
  },
  {
   "cell_type": "code",
   "execution_count": 11,
   "metadata": {
    "scrolled": false
   },
   "outputs": [],
   "source": [
    "hspt_valid_url = get_valid_html(hspt_url)"
   ]
  },
  {
   "cell_type": "code",
   "execution_count": 14,
   "metadata": {},
   "outputs": [
    {
     "data": {
      "text/plain": [
       "[('http://www.yonserang.com', 6), ('http://www.ysloves.com', 4)]"
      ]
     },
     "execution_count": 14,
     "metadata": {},
     "output_type": "execute_result"
    }
   ],
   "source": [
    "sorted(hspt_valid_url[\"연세사랑병원\"], key=lambda e: e[1], reverse=True)"
   ]
  },
  {
   "cell_type": "code",
   "execution_count": 15,
   "metadata": {
    "scrolled": true
   },
   "outputs": [],
   "source": [
    "hspt_sorted_url = {}\n",
    "for key, value in hspt_valid_url.items():\n",
    "    hspt_sorted_url[key] = sorted(hspt_valid_url[key], key=lambda e: e[1], reverse=True)"
   ]
  },
  {
   "cell_type": "code",
   "execution_count": 31,
   "metadata": {},
   "outputs": [
    {
     "data": {
      "text/plain": [
       "[('http://www.yonserang.com', 6), ('http://www.ysloves.com', 4)]"
      ]
     },
     "execution_count": 31,
     "metadata": {},
     "output_type": "execute_result"
    }
   ],
   "source": [
    "hspt_sorted_url['연세사랑병원']"
   ]
  },
  {
   "cell_type": "code",
   "execution_count": 72,
   "metadata": {},
   "outputs": [
    {
     "name": "stdout",
     "output_type": "stream",
     "text": [
      "의료법인현암의료재단 우리들병원 is omitted\n",
      "이경태정형외과의원 is omitted\n"
     ]
    }
   ],
   "source": [
    "hspt_final_url = {}\n",
    "for key, value in hspt_sorted_url.items():\n",
    "    if hspt_valid_url[key]:\n",
    "        hspt_final_url[key] = list(hspt_valid_url[key])[0][0]\n",
    "    else:\n",
    "        try: \n",
    "            hspt_final_url[key] = hspt_url[key][0][0]\n",
    "        except:\n",
    "            print('{} is omitted'.format(key))"
   ]
  },
  {
   "cell_type": "code",
   "execution_count": 78,
   "metadata": {},
   "outputs": [],
   "source": [
    "HSPT_URL = pd.DataFrame()\n",
    "HSPT_URL[\"hspt_name\"] = hspt_final_url.keys()\n",
    "HSPT_URL[\"root_url\"] = hspt_final_url.values()\n",
    "HSPT_URL.to_csv('HSPT_URL.csv', index=False)"
   ]
  },
  {
   "cell_type": "code",
   "execution_count": 79,
   "metadata": {},
   "outputs": [],
   "source": [
    "HSPT_URL[\"hspt_name\"] = hspt_final_url.keys()\n",
    "HSPT_URL[\"root_url\"] = hspt_final_url.values()"
   ]
  },
  {
   "cell_type": "code",
   "execution_count": 81,
   "metadata": {
    "scrolled": true
   },
   "outputs": [],
   "source": [
    "HSPT_URL.to_csv('HSPT_URL.csv', index=False)"
   ]
  },
  {
   "cell_type": "code",
   "execution_count": null,
   "metadata": {},
   "outputs": [],
   "source": []
  }
 ],
 "metadata": {
  "kernelspec": {
   "display_name": "Python 3",
   "language": "python",
   "name": "python3"
  },
  "language_info": {
   "codemirror_mode": {
    "name": "ipython",
    "version": 3
   },
   "file_extension": ".py",
   "mimetype": "text/x-python",
   "name": "python",
   "nbconvert_exporter": "python",
   "pygments_lexer": "ipython3",
   "version": "3.8.1"
  }
 },
 "nbformat": 4,
 "nbformat_minor": 4
}
