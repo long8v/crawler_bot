{
 "cells": [
  {
   "cell_type": "code",
   "execution_count": 68,
   "metadata": {},
   "outputs": [],
   "source": [
    "import numpy as np\n",
    "import pandas as pd\n",
    "import pickle\n",
    "from collections import Counter\n",
    "from crawl_utils.url_extractor import *\n",
    "from crawl_utils.table_parser import *\n",
    "from crawl_utils.main_site_extractor import *\n",
    "from crawl_utils.html_request import *\n",
    "from crawl_utils.create_table import *\n",
    "from crawl_utils.html_parser import *\n",
    "from crawl_utils.column_regularization import *"
   ]
  },
  {
   "cell_type": "code",
   "execution_count": 69,
   "metadata": {},
   "outputs": [],
   "source": [
    "cannot_get = pd.read_csv('why_cannot_get_url_2.csv')"
   ]
  },
  {
   "cell_type": "code",
   "execution_count": 73,
   "metadata": {},
   "outputs": [],
   "source": [
    "whynot = {key: value for key, value in cannot_get.groupby('whynot')}"
   ]
  },
  {
   "cell_type": "code",
   "execution_count": 77,
   "metadata": {
    "scrolled": false
   },
   "outputs": [
    {
     "data": {
      "text/plain": [
       "[('js', 35),\n",
       " ('forbidden', 9),\n",
       " ('frame', 7),\n",
       " ('image', 5),\n",
       " ('#', 4),\n",
       " ('ok', 4),\n",
       " ('flash', 3),\n",
       " ('url', 3),\n",
       " ('map > area', 1),\n",
       " ('new domain', 1),\n",
       " ('table', 1),\n",
       " ('글자깨짐', 1)]"
      ]
     },
     "execution_count": 77,
     "metadata": {},
     "output_type": "execute_result"
    }
   ],
   "source": [
    "Counter(whynot).most_common()"
   ]
  },
  {
   "cell_type": "code",
   "execution_count": 71,
   "metadata": {},
   "outputs": [
    {
     "name": "stdout",
     "output_type": "stream",
     "text": [
      "http://egoodh.co.kr/2014/\n",
      "[('창원센텀병원 홈', 'http://egoodh.co.kr/2014'), ('병원소개', 'http://egoodh.co.kr/2014/index.php?midName=sogae&right='), ('척추 관절질환', 'http://egoodh.co.kr/2014/index.php?midName=sick&right='), ('척추치료', 'http://egoodh.co.kr/2014/index.php?midName=spine&right='), ('관절치료', 'http://egoodh.co.kr/2014/index.php?midName=joint&right='), ('진료사례', 'http://egoodh.co.kr/2014/index.php?midName=tboard&right=list&tboard=22&tsite=8'), ('온라인상담', 'http://egoodh.co.kr/2014/index.php?midName=board&index=2&tboard=2'), ('어깨질환', 'http://egoodh.co.kr/2014/index.php?midName=sick&right=right3'), ('공지사항', 'http://egoodh.co.kr/2014/index.php?midName=tboard&right=list&tboard=1&tsite=8'), ('11/26 (화), 11/27 (수), 1..', 'http://egoodh.co.kr/2014/index.php?midName=tboard&right=view&&boardMode=view&index=talk&tboard=1&tsite=8&tBoardNo=6313'), ('10/09 (수) 한글날 휴진안..', 'http://egoodh.co.kr/2014/index.php?midName=tboard&right=view&&boardMode=view&index=talk&tboard=1&tsite=8&tBoardNo=6312'), ('추석연휴 진료안내', 'http://egoodh.co.kr/2014/index.php?midName=tboard&right=view&&boardMode=view&index=talk&tboard=1&tsite=8&tBoardNo=6309'), ('진료시간', 'http://egoodh.co.kr/2014/index.php?midName=sogae&right=right5'), ('블로그', 'http://egoodh.co.kr/2014/index.php?midName=tboard&right=list&tboard=1&tsite=1'), ('언론보도', 'http://egoodh.co.kr/2014/index.php?midName=tboard&right=list&tboard=2&tsite=8'), ('오시는 길', 'http://egoodh.co.kr/2014/index.php?midName=sogae&right=right4'), ('비급여항목', 'http://egoodh.co.kr/2014/index.php?midName=sogae&right=right9'), ('로그인', 'http://egoodh.co.kr/2014/index.php?midName=log&right=check')]\n"
     ]
    }
   ],
   "source": [
    "for _ in whynot['table'].url:\n",
    "    print(_)\n",
    "    i, j = sub_pages(_, visited=set())\n",
    "    print(i)"
   ]
  },
  {
   "cell_type": "code",
   "execution_count": null,
   "metadata": {},
   "outputs": [],
   "source": []
  }
 ],
 "metadata": {
  "kernelspec": {
   "display_name": "Python 3",
   "language": "python",
   "name": "python3"
  },
  "language_info": {
   "codemirror_mode": {
    "name": "ipython",
    "version": 3
   },
   "file_extension": ".py",
   "mimetype": "text/x-python",
   "name": "python",
   "nbconvert_exporter": "python",
   "pygments_lexer": "ipython3",
   "version": "3.8.1"
  }
 },
 "nbformat": 4,
 "nbformat_minor": 4
}
