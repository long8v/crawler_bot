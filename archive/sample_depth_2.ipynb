{
 "cells": [
  {
   "cell_type": "code",
   "execution_count": 7,
   "metadata": {},
   "outputs": [],
   "source": [
    "from crawl_utils.url_extractor import *\n",
    "from crawl_utils.table_parser import *\n",
    "from crawl_utils.html_request import *"
   ]
  },
  {
   "cell_type": "code",
   "execution_count": 2,
   "metadata": {},
   "outputs": [],
   "source": [
    "HSPT_LIST = [\"부민병원\"] #, \"연세건우병원\", \"목동힘찬병원\", \"우리들병원\", \"의)상원의료재단부평힘찬병원\", \"바른세상병원\", \"의료법인 인당의료재단 부민병원\", \"의료법인나누리의료재단나누리병원\",\n",
    "#             \"제일정형외과병원\", \"나누리수원병원\", \"안산21세기병원\", \"대찬병원\", \"미래병원\", \"뿌리병원\",\"연세본사랑병원\", \"바로병원\", \"의료법인 상원의료재단 부산힘찬병원\", \"달려라병원\",\n",
    "#             \"의료법인 토마스의료재단 윌스기념병원\", \"에이스병원\"] "
   ]
  },
  {
   "cell_type": "markdown",
   "metadata": {},
   "source": [
    "# get depth 2 url only with unpaid table"
   ]
  },
  {
   "cell_type": "code",
   "execution_count": 38,
   "metadata": {},
   "outputs": [],
   "source": [
    "HSPT_LIST = [\"달려라병원\"]"
   ]
  },
  {
   "cell_type": "code",
   "execution_count": 39,
   "metadata": {
    "scrolled": false
   },
   "outputs": [
    {
     "name": "stdout",
     "output_type": "stream",
     "text": [
      "['달려라병원']\n",
      "HSPT_URL: {'달려라병원': [('http://www.hospitalrun.co.kr/', '달려라병원'), ('http://www.hospitalrun.co.kr/medical/doctor', '달려라 의료진 - 달려라병원')]}\n",
      "HSPT_URL_VALID: {'달려라병원': {'http://www.hospitalrun.co.kr'}}\n",
      "247 ->  186\n",
      "    hspt                                             url  depth     text\n",
      "0  달려라병원       http://www.hospitalrun.co.kr/member/login      1      로그인\n",
      "2  달려라병원   http://www.hospitalrun.co.kr/customer/consult      1     고객센터\n",
      "3  달려라병원  http://www.hospitalrun.co.kr/hospital/location      1     오시는길\n",
      "4  달려라병원     http://www.hospitalrun.co.kr/medical/doctor      1  달려라 의료진\n",
      "5  달려라병원              http://www.hospitalrun.co.kr/neck/      1     목ㆍ허리\n"
     ]
    }
   ],
   "source": [
    "print(HSPT_LIST)\n",
    "HSPT_URL = get_main_page_dict(HSPT_LIST)\n",
    "print('HSPT_URL:', HSPT_URL)\n",
    "HSPT_URL_VALID = get_valid_html(HSPT_URL)\n",
    "print('HSPT_URL_VALID:', HSPT_URL_VALID)\n",
    "main_sub_url = get_sub_pages(HSPT_URL_VALID)\n",
    "HSPT_CHILDREN_URL_list = get_html_table(main_sub_url)\n",
    "HSPT_CHILDREN_URL = concat_from_list(HSPT_CHILDREN_URL_list)\n",
    "HSPT_CHILDREN_URL = drop_duplicate_by_column(HSPT_CHILDREN_URL, \"url\")\n",
    "print(HSPT_CHILDREN_URL.head())"
   ]
  },
  {
   "cell_type": "code",
   "execution_count": 40,
   "metadata": {},
   "outputs": [
    {
     "data": {
      "text/plain": [
       "246    http://www.hospitalrun.co.kr/rule/no-insure\n",
       "Name: url, dtype: object"
      ]
     },
     "execution_count": 40,
     "metadata": {},
     "output_type": "execute_result"
    }
   ],
   "source": [
    "HSPT_CHILDREN_URL[HSPT_CHILDREN_URL[\"text\"].apply(lambda e : '비급여' in e)][\"url\"]"
   ]
  },
  {
   "cell_type": "code",
   "execution_count": 41,
   "metadata": {},
   "outputs": [],
   "source": [
    "zipped = zip(HSPT_CHILDREN_URL['hspt'] + '/' + HSPT_CHILDREN_URL['text'],  HSPT_CHILDREN_URL['url'])"
   ]
  },
  {
   "cell_type": "code",
   "execution_count": 42,
   "metadata": {},
   "outputs": [],
   "source": [
    "HSPT_URL_VALID_2 = {url_text: [url] for url_text, url in zipped}"
   ]
  },
  {
   "cell_type": "code",
   "execution_count": 36,
   "metadata": {
    "scrolled": false
   },
   "outputs": [
    {
     "data": {
      "text/plain": [
       "{'바로병원/병원장인사말': ['http://www.baro119.co.kr/sub/page/company/1/1'],\n",
       " '바로병원/경영이념': ['http://www.baro119.co.kr/sub/page/company/1/2'],\n",
       " '바로병원/의료진소개': ['http://www.baro119.co.kr/sub/page/company/1/3'],\n",
       " '바로병원/층별안내': ['http://www.baro119.co.kr/sub/page/company/1/4'],\n",
       " '바로병원/의료장비소개': ['http://www.baro119.co.kr/bbs/board.php?bo_table=company1_5_1'],\n",
       " '바로병원/사회공헌활동': ['http://www.baro119.co.kr/sub/page/company/1/6'],\n",
       " '바로병원/찾아오시는길': ['http://www.baro119.co.kr/sub/page/company/1/7'],\n",
       " '바로병원/진료안내': ['http://www.baro119.co.kr/sub/page/medical/2/1'],\n",
       " '바로병원/전문의상담': ['http://www.baro119.co.kr/bbs/board.php?bo_table=medical2'],\n",
       " '바로병원/비급여항목': ['http://www.baro119.co.kr/bbs/board.php?bo_table=medical3'],\n",
       " '바로병원/인터넷서류발급': ['http://www.baro119.co.kr/sub/page/medical/2/4'],\n",
       " '바로병원/연말정산신청': ['http://www.baro119.co.kr/bbs/board.php?bo_table=medical5'],\n",
       " '바로병원/관절치료센터': ['http://www.baro119.co.kr/sub/page/joint/3/1'],\n",
       " '바로병원/관절비수술치료': ['http://www.baro119.co.kr/sub/page/joint/3/2'],\n",
       " '바로병원/관절강화운동': ['http://www.baro119.co.kr/sub/page/joint/3/3'],\n",
       " '바로병원/관절/척추질환영상': ['http://www.baro119.co.kr/bbs/board.php?bo_table=spine3'],\n",
       " '바로병원/관절질환': ['http://www.baro119.co.kr/sub/page/joint/3/5'],\n",
       " '바로병원/척추/고관절센터': ['http://www.baro119.co.kr/sub/page/spine/4/1'],\n",
       " '바로병원/척추비수술치료': ['http://www.baro119.co.kr/sub/page/spine/4/2'],\n",
       " '바로병원/척추강화운동': ['http://www.baro119.co.kr/sub/page/spine/4/3'],\n",
       " '바로병원/성장클리닉': ['http://www.baro119.co.kr/sub/page/screening/6/4'],\n",
       " '바로병원/척추측만증클리닉': ['http://www.baro119.co.kr/sub/page/special/5/2'],\n",
       " '바로병원/하지정맥클리닉': ['http://www.baro119.co.kr/sub/page/special/5/3'],\n",
       " '바로병원/무수혈 수술': ['http://www.baro119.co.kr/sub/page/special/5/4'],\n",
       " '바로병원/내과센터': ['http://www.baro119.co.kr/sub/page/screening/6/1'],\n",
       " '바로병원/종합검진센터': ['http://www.baro119.co.kr/sub/page/screening/6/2'],\n",
       " '바로병원/체외진단다지표검사': ['http://www.baro119.co.kr/sub/page/screening/6/3'],\n",
       " '바로병원/병원소식': ['http://www.baro119.co.kr/bbs/board.php?bo_table=notice'],\n",
       " '바로병원/전문의 건강백서': ['http://www.baro119.co.kr/bbs/board.php?bo_table=board2'],\n",
       " '바로병원/언론속의 바로병원': ['http://www.baro119.co.kr/bbs/board.php?bo_table=board3_1'],\n",
       " '바로병원/세계속의 바로병원': ['http://www.baro119.co.kr/bbs/board.php?bo_table=board4'],\n",
       " '바로병원/스타들의 방문': ['http://www.baro119.co.kr/bbs/board.php?bo_table=star_gallery'],\n",
       " '바로병원/완쾌후기': ['http://www.baro119.co.kr/bbs/board.php?bo_table=board6_1'],\n",
       " '바로병원/고객의소리': ['http://www.baro119.co.kr/bbs/write.php?bo_table=board7'],\n",
       " '바로병원/이벤트': ['http://www.baro119.co.kr/bbs/write.php?bo_table=board8'],\n",
       " '바로병원/홈': ['http://www.baro119.co.kr/'],\n",
       " '바로병원/로그인': ['http://www.baro119.co.kr/bbs/login.php'],\n",
       " '바로병원/회원가입': ['http://www.baro119.co.kr/bbs/register.php'],\n",
       " '바로병원/보건복지부 인증 의료기관': ['http://www.baro119.co.kr/bbs/board.php?bo_table=notice&wr_id=499'],\n",
       " '바로병원/보건복지부 지정 관절전문병원': ['http://www.baro119.co.kr/bbs/board.php?bo_table=notice&wr_id=839'],\n",
       " '바로병원/English': ['http://www.baro119.co.kr/english/main/main.php'],\n",
       " '바로병원/Chinese': ['http://www.baro119.co.kr/china/main/main.php'],\n",
       " '바로병원/열린마당': ['http://www.baro119.co.kr/bbs/board.php?bo_table=board1'],\n",
       " '바로병원/건강보험 심사평가원 평가결과\\n수술별 진료량 평가 1등급 +\\xa0수술별 항생제 처방률 1등급': ['http://www.baro119.co.kr/bbs/board.php?bo_table=notice&wr_id=809'],\n",
       " '바로병원/[SBS 살맛나는 오늘] 관절센터 서명재원…             \\n\\xa0바로병원에서 어깨주사치료받고 극찬하신 홍수환 선수가 또 …': ['http://baro119.co.kr/bbs/board.php?bo_table=notice&wr_id=1069'],\n",
       " '바로병원/사단법인 인권희망 강강술래 - 바로병원 의…': ['http://baro119.co.kr/bbs/board.php?bo_table=notice&wr_id=1068'],\n",
       " \"바로병원/하나태권도연합회 '바로병원 구급함' 전달\": ['http://baro119.co.kr/bbs/board.php?bo_table=notice&wr_id=1067'],\n",
       " '바로병원/[NIB 남인천방송] 관절센터 양영모원장 …': ['http://baro119.co.kr/bbs/board.php?bo_table=notice&wr_id=1066'],\n",
       " '바로병원/2020 바로병원 설연휴기간 진료안내': ['http://baro119.co.kr/bbs/board.php?bo_table=notice&wr_id=1064'],\n",
       " '바로병원/인공관절수술 성공도 맞춤형인공관절 선택이 중요             \\n(바로병원 척추센터 정진원 병원장)\\u200b\\xa0\\xa02009년도부터 수술한 인공관절 수술환자를 대상으로 재수술 내원기록을 분석한 결과 한국인체형에 맞는 맞춤형 인공관절 임플란트(마모가 적은 미세표면처리)를 사용선택이 무릎인공관절 재수술 시기를 늦추는 성과를 보였다.\\xa0\\xa0대부분 정형외과…': ['http://baro119.co.kr/bbs/board.php?bo_table=board2&wr_id=16'],\n",
       " '바로병원/외국인환자 유치의료기관 선정': ['http://www.baro119.co.kr/bbs/board.php?bo_table=notice&wr_id=95'],\n",
       " '바로병원/국제 척추수술교육지정병원': ['http://www.baro119.co.kr/bbs/board.php?bo_table=notice&wr_id=22'],\n",
       " '바로병원/국제 인공관절교육지정병원': ['http://www.baro119.co.kr/bbs/board.php?bo_table=notice&wr_id=23'],\n",
       " '바로병원/대한민국보건산업 대상수상': ['http://www.baro119.co.kr/bbs/board.php?bo_table=notice&wr_id=737'],\n",
       " '바로병원/032-722-8585': ['tel:032-722-8585'],\n",
       " '바로병원/개인정보 취급방침': ['http://www.baro119.co.kr/bbs/content.php?co_id=privacy'],\n",
       " '바로병원/환자권리장전': ['http://www.baro119.co.kr/bbs/content.php?co_id=provision'],\n",
       " '바로병원/이메일 무단수집거부': ['http://www.baro119.co.kr/bbs/content.php?co_id=email']}"
      ]
     },
     "execution_count": 36,
     "metadata": {},
     "output_type": "execute_result"
    }
   ],
   "source": [
    "HSPT_URL_VALID_2"
   ]
  },
  {
   "cell_type": "code",
   "execution_count": 29,
   "metadata": {},
   "outputs": [],
   "source": [
    "visited = set(HSPT_CHILDREN_URL[\"url\"])"
   ]
  },
  {
   "cell_type": "code",
   "execution_count": 30,
   "metadata": {},
   "outputs": [
    {
     "data": {
      "text/plain": [
       "41"
      ]
     },
     "execution_count": 30,
     "metadata": {},
     "output_type": "execute_result"
    }
   ],
   "source": [
    "len(visited)"
   ]
  },
  {
   "cell_type": "code",
   "execution_count": 22,
   "metadata": {
    "scrolled": false
   },
   "outputs": [
    {
     "ename": "KeyboardInterrupt",
     "evalue": "",
     "output_type": "error",
     "traceback": [
      "\u001b[0;31m---------------------------------------------------------------------------\u001b[0m",
      "\u001b[0;31mKeyboardInterrupt\u001b[0m                         Traceback (most recent call last)",
      "\u001b[0;32m<ipython-input-22-07a496dd4d04>\u001b[0m in \u001b[0;36m<module>\u001b[0;34m\u001b[0m\n\u001b[0;32m----> 1\u001b[0;31m \u001b[0mmain_sub_url\u001b[0m \u001b[0;34m=\u001b[0m \u001b[0mget_sub_pages\u001b[0m\u001b[0;34m(\u001b[0m\u001b[0mHSPT_URL_VALID_2\u001b[0m\u001b[0;34m,\u001b[0m \u001b[0mvisited\u001b[0m\u001b[0;34m)\u001b[0m\u001b[0;34m\u001b[0m\u001b[0;34m\u001b[0m\u001b[0m\n\u001b[0m\u001b[1;32m      2\u001b[0m \u001b[0mHSPT_CHILDREN_URL_list\u001b[0m \u001b[0;34m=\u001b[0m \u001b[0mget_html_table\u001b[0m\u001b[0;34m(\u001b[0m\u001b[0mmain_sub_url\u001b[0m\u001b[0;34m,\u001b[0m \u001b[0mdepth\u001b[0m\u001b[0;34m=\u001b[0m\u001b[0;36m2\u001b[0m\u001b[0;34m)\u001b[0m\u001b[0;34m\u001b[0m\u001b[0;34m\u001b[0m\u001b[0m\n\u001b[1;32m      3\u001b[0m \u001b[0mHSPT_CHILDREN_URL\u001b[0m \u001b[0;34m=\u001b[0m \u001b[0mconcat_from_list\u001b[0m\u001b[0;34m(\u001b[0m\u001b[0mHSPT_CHILDREN_URL_list\u001b[0m\u001b[0;34m)\u001b[0m\u001b[0;34m\u001b[0m\u001b[0;34m\u001b[0m\u001b[0m\n\u001b[1;32m      4\u001b[0m \u001b[0mHSPT_CHILDREN_URL_2\u001b[0m \u001b[0;34m=\u001b[0m \u001b[0mdrop_duplicate_by_column\u001b[0m\u001b[0;34m(\u001b[0m\u001b[0mHSPT_CHILDREN_URL\u001b[0m\u001b[0;34m,\u001b[0m \u001b[0;34m\"url\"\u001b[0m\u001b[0;34m)\u001b[0m\u001b[0;34m\u001b[0m\u001b[0;34m\u001b[0m\u001b[0m\n\u001b[1;32m      5\u001b[0m \u001b[0mprint\u001b[0m\u001b[0;34m(\u001b[0m\u001b[0mHSPT_CHILDREN_URL_2\u001b[0m\u001b[0;34m.\u001b[0m\u001b[0mhead\u001b[0m\u001b[0;34m(\u001b[0m\u001b[0;34m)\u001b[0m\u001b[0;34m)\u001b[0m\u001b[0;34m\u001b[0m\u001b[0;34m\u001b[0m\u001b[0m\n",
      "\u001b[0;32m~/crawler_bot/crawl_utils/url_extractor.py\u001b[0m in \u001b[0;36mget_sub_pages\u001b[0;34m(main_pages, visited)\u001b[0m\n\u001b[1;32m    127\u001b[0m     \u001b[0;32mfor\u001b[0m \u001b[0mhspt\u001b[0m\u001b[0;34m,\u001b[0m \u001b[0murl\u001b[0m \u001b[0;32min\u001b[0m \u001b[0mmain_pages\u001b[0m\u001b[0;34m.\u001b[0m\u001b[0mitems\u001b[0m\u001b[0;34m(\u001b[0m\u001b[0;34m)\u001b[0m\u001b[0;34m:\u001b[0m\u001b[0;34m\u001b[0m\u001b[0;34m\u001b[0m\u001b[0m\n\u001b[1;32m    128\u001b[0m         \u001b[0;32mfor\u001b[0m \u001b[0mu\u001b[0m \u001b[0;32min\u001b[0m \u001b[0murl\u001b[0m\u001b[0;34m:\u001b[0m\u001b[0;34m\u001b[0m\u001b[0;34m\u001b[0m\u001b[0m\n\u001b[0;32m--> 129\u001b[0;31m             \u001b[0mmain_sub_pages\u001b[0m\u001b[0;34m.\u001b[0m\u001b[0mappend\u001b[0m\u001b[0;34m(\u001b[0m\u001b[0;34m(\u001b[0m\u001b[0mhspt\u001b[0m\u001b[0;34m,\u001b[0m \u001b[0msub_pages\u001b[0m\u001b[0;34m(\u001b[0m\u001b[0mu\u001b[0m\u001b[0;34m,\u001b[0m \u001b[0mvisited\u001b[0m\u001b[0;34m)\u001b[0m\u001b[0;34m)\u001b[0m\u001b[0;34m)\u001b[0m\u001b[0;34m\u001b[0m\u001b[0;34m\u001b[0m\u001b[0m\n\u001b[0m\u001b[1;32m    130\u001b[0m     \u001b[0;32mreturn\u001b[0m \u001b[0mmain_sub_pages\u001b[0m\u001b[0;34m\u001b[0m\u001b[0;34m\u001b[0m\u001b[0m\n\u001b[1;32m    131\u001b[0m \u001b[0;34m\u001b[0m\u001b[0m\n",
      "\u001b[0;32m~/crawler_bot/crawl_utils/url_extractor.py\u001b[0m in \u001b[0;36msub_pages\u001b[0;34m(url, visited)\u001b[0m\n\u001b[1;32m    105\u001b[0m     \u001b[0msub_pages\u001b[0m \u001b[0;34m=\u001b[0m \u001b[0;34m[\u001b[0m\u001b[0;34m]\u001b[0m\u001b[0;34m\u001b[0m\u001b[0;34m\u001b[0m\u001b[0m\n\u001b[1;32m    106\u001b[0m     \u001b[0;32mif\u001b[0m \u001b[0murl\u001b[0m\u001b[0;34m.\u001b[0m\u001b[0mstartswith\u001b[0m\u001b[0;34m(\u001b[0m\u001b[0;34m\"http\"\u001b[0m\u001b[0;34m)\u001b[0m\u001b[0;34m:\u001b[0m\u001b[0;34m\u001b[0m\u001b[0;34m\u001b[0m\u001b[0m\n\u001b[0;32m--> 107\u001b[0;31m         \u001b[0;32mfor\u001b[0m \u001b[0m_\u001b[0m \u001b[0;32min\u001b[0m \u001b[0mparsing\u001b[0m\u001b[0;34m(\u001b[0m\u001b[0murl\u001b[0m\u001b[0;34m)\u001b[0m\u001b[0;34m.\u001b[0m\u001b[0mselect\u001b[0m\u001b[0;34m(\u001b[0m\u001b[0;34m'a'\u001b[0m\u001b[0;34m)\u001b[0m\u001b[0;34m:\u001b[0m\u001b[0;34m\u001b[0m\u001b[0;34m\u001b[0m\u001b[0m\n\u001b[0m\u001b[1;32m    108\u001b[0m             \u001b[0;32mif\u001b[0m \u001b[0m_\u001b[0m\u001b[0;34m.\u001b[0m\u001b[0mhas_attr\u001b[0m\u001b[0;34m(\u001b[0m\u001b[0;34m\"href\"\u001b[0m\u001b[0;34m)\u001b[0m \u001b[0;32mand\u001b[0m \u001b[0m_\u001b[0m\u001b[0;34m.\u001b[0m\u001b[0mtext\u001b[0m\u001b[0;34m.\u001b[0m\u001b[0mstrip\u001b[0m\u001b[0;34m(\u001b[0m\u001b[0;34m)\u001b[0m \u001b[0;32mand\u001b[0m \u001b[0;34m\"#\"\u001b[0m \u001b[0;32mnot\u001b[0m \u001b[0;32min\u001b[0m \u001b[0m_\u001b[0m\u001b[0;34m[\u001b[0m\u001b[0;34m\"href\"\u001b[0m\u001b[0;34m]\u001b[0m \u001b[0;32mand\u001b[0m \u001b[0;34m\"javascript\"\u001b[0m \u001b[0;32mnot\u001b[0m \u001b[0;32min\u001b[0m \u001b[0m_\u001b[0m\u001b[0;34m[\u001b[0m\u001b[0;34m\"href\"\u001b[0m\u001b[0;34m]\u001b[0m\u001b[0;34m:\u001b[0m\u001b[0;34m\u001b[0m\u001b[0;34m\u001b[0m\u001b[0m\n\u001b[1;32m    109\u001b[0m                 \u001b[0;32mif\u001b[0m \u001b[0m_\u001b[0m\u001b[0;34m[\u001b[0m\u001b[0;34m\"href\"\u001b[0m\u001b[0;34m]\u001b[0m \u001b[0;32mnot\u001b[0m \u001b[0;32min\u001b[0m \u001b[0mvisited\u001b[0m \u001b[0;32mand\u001b[0m \u001b[0;32mnot\u001b[0m \u001b[0mis_portal\u001b[0m\u001b[0;34m(\u001b[0m\u001b[0m_\u001b[0m\u001b[0;34m[\u001b[0m\u001b[0;34m\"href\"\u001b[0m\u001b[0;34m]\u001b[0m\u001b[0;34m)\u001b[0m\u001b[0;34m:\u001b[0m\u001b[0;34m\u001b[0m\u001b[0;34m\u001b[0m\u001b[0m\n",
      "\u001b[0;32m~/crawler_bot/crawl_utils/html_request.py\u001b[0m in \u001b[0;36mparsing\u001b[0;34m(url)\u001b[0m\n\u001b[1;32m     54\u001b[0m     \u001b[0mget\u001b[0m \u001b[0mdom\u001b[0m \u001b[0mgiven\u001b[0m \u001b[0murl\u001b[0m\u001b[0;34m\u001b[0m\u001b[0;34m\u001b[0m\u001b[0m\n\u001b[1;32m     55\u001b[0m     '''\n\u001b[0;32m---> 56\u001b[0;31m     \u001b[0mdom_text\u001b[0m \u001b[0;34m=\u001b[0m \u001b[0mget_html_text\u001b[0m\u001b[0;34m(\u001b[0m\u001b[0murl\u001b[0m\u001b[0;34m)\u001b[0m\u001b[0;34m\u001b[0m\u001b[0;34m\u001b[0m\u001b[0m\n\u001b[0m\u001b[1;32m     57\u001b[0m     \u001b[0mdom\u001b[0m \u001b[0;34m=\u001b[0m \u001b[0mBeautifulSoup\u001b[0m\u001b[0;34m(\u001b[0m\u001b[0mdom_text\u001b[0m\u001b[0;34m,\u001b[0m \u001b[0;34m'lxml'\u001b[0m\u001b[0;34m)\u001b[0m\u001b[0;34m\u001b[0m\u001b[0;34m\u001b[0m\u001b[0m\n\u001b[1;32m     58\u001b[0m     \u001b[0;32mreturn\u001b[0m \u001b[0mdom\u001b[0m\u001b[0;34m\u001b[0m\u001b[0;34m\u001b[0m\u001b[0m\n",
      "\u001b[0;32m~/crawler_bot/crawl_utils/html_request.py\u001b[0m in \u001b[0;36mget_html_text\u001b[0;34m(url)\u001b[0m\n\u001b[1;32m     45\u001b[0m     '''\n\u001b[1;32m     46\u001b[0m     \u001b[0murl\u001b[0m \u001b[0;34m=\u001b[0m \u001b[0mdownload\u001b[0m\u001b[0;34m(\u001b[0m\u001b[0murl\u001b[0m\u001b[0;34m)\u001b[0m\u001b[0;34m\u001b[0m\u001b[0;34m\u001b[0m\u001b[0m\n\u001b[0;32m---> 47\u001b[0;31m     \u001b[0;32mreturn\u001b[0m \u001b[0murl\u001b[0m\u001b[0;34m.\u001b[0m\u001b[0mtext\u001b[0m\u001b[0;34m\u001b[0m\u001b[0;34m\u001b[0m\u001b[0m\n\u001b[0m\u001b[1;32m     48\u001b[0m \u001b[0;34m\u001b[0m\u001b[0m\n\u001b[1;32m     49\u001b[0m \u001b[0;32mdef\u001b[0m \u001b[0mparsing\u001b[0m\u001b[0;34m(\u001b[0m\u001b[0murl\u001b[0m\u001b[0;34m)\u001b[0m\u001b[0;34m:\u001b[0m\u001b[0;34m\u001b[0m\u001b[0;34m\u001b[0m\u001b[0m\n",
      "\u001b[0;32m~/anaconda3/envs/long37v/lib/python3.8/site-packages/requests/models.py\u001b[0m in \u001b[0;36mtext\u001b[0;34m(self)\u001b[0m\n\u001b[1;32m    855\u001b[0m         \u001b[0;31m# Fallback to auto-detected encoding.\u001b[0m\u001b[0;34m\u001b[0m\u001b[0;34m\u001b[0m\u001b[0;34m\u001b[0m\u001b[0m\n\u001b[1;32m    856\u001b[0m         \u001b[0;32mif\u001b[0m \u001b[0mself\u001b[0m\u001b[0;34m.\u001b[0m\u001b[0mencoding\u001b[0m \u001b[0;32mis\u001b[0m \u001b[0;32mNone\u001b[0m\u001b[0;34m:\u001b[0m\u001b[0;34m\u001b[0m\u001b[0;34m\u001b[0m\u001b[0m\n\u001b[0;32m--> 857\u001b[0;31m             \u001b[0mencoding\u001b[0m \u001b[0;34m=\u001b[0m \u001b[0mself\u001b[0m\u001b[0;34m.\u001b[0m\u001b[0mapparent_encoding\u001b[0m\u001b[0;34m\u001b[0m\u001b[0;34m\u001b[0m\u001b[0m\n\u001b[0m\u001b[1;32m    858\u001b[0m \u001b[0;34m\u001b[0m\u001b[0m\n\u001b[1;32m    859\u001b[0m         \u001b[0;31m# Decode unicode from given encoding.\u001b[0m\u001b[0;34m\u001b[0m\u001b[0;34m\u001b[0m\u001b[0;34m\u001b[0m\u001b[0m\n",
      "\u001b[0;32m~/anaconda3/envs/long37v/lib/python3.8/site-packages/requests/models.py\u001b[0m in \u001b[0;36mapparent_encoding\u001b[0;34m(self)\u001b[0m\n\u001b[1;32m    725\u001b[0m     \u001b[0;32mdef\u001b[0m \u001b[0mapparent_encoding\u001b[0m\u001b[0;34m(\u001b[0m\u001b[0mself\u001b[0m\u001b[0;34m)\u001b[0m\u001b[0;34m:\u001b[0m\u001b[0;34m\u001b[0m\u001b[0;34m\u001b[0m\u001b[0m\n\u001b[1;32m    726\u001b[0m         \u001b[0;34m\"\"\"The apparent encoding, provided by the chardet library.\"\"\"\u001b[0m\u001b[0;34m\u001b[0m\u001b[0;34m\u001b[0m\u001b[0m\n\u001b[0;32m--> 727\u001b[0;31m         \u001b[0;32mreturn\u001b[0m \u001b[0mchardet\u001b[0m\u001b[0;34m.\u001b[0m\u001b[0mdetect\u001b[0m\u001b[0;34m(\u001b[0m\u001b[0mself\u001b[0m\u001b[0;34m.\u001b[0m\u001b[0mcontent\u001b[0m\u001b[0;34m)\u001b[0m\u001b[0;34m[\u001b[0m\u001b[0;34m'encoding'\u001b[0m\u001b[0;34m]\u001b[0m\u001b[0;34m\u001b[0m\u001b[0;34m\u001b[0m\u001b[0m\n\u001b[0m\u001b[1;32m    728\u001b[0m \u001b[0;34m\u001b[0m\u001b[0m\n\u001b[1;32m    729\u001b[0m     \u001b[0;32mdef\u001b[0m \u001b[0miter_content\u001b[0m\u001b[0;34m(\u001b[0m\u001b[0mself\u001b[0m\u001b[0;34m,\u001b[0m \u001b[0mchunk_size\u001b[0m\u001b[0;34m=\u001b[0m\u001b[0;36m1\u001b[0m\u001b[0;34m,\u001b[0m \u001b[0mdecode_unicode\u001b[0m\u001b[0;34m=\u001b[0m\u001b[0;32mFalse\u001b[0m\u001b[0;34m)\u001b[0m\u001b[0;34m:\u001b[0m\u001b[0;34m\u001b[0m\u001b[0;34m\u001b[0m\u001b[0m\n",
      "\u001b[0;32m~/anaconda3/envs/long37v/lib/python3.8/site-packages/chardet/__init__.py\u001b[0m in \u001b[0;36mdetect\u001b[0;34m(byte_str)\u001b[0m\n\u001b[1;32m     36\u001b[0m             \u001b[0mbyte_str\u001b[0m \u001b[0;34m=\u001b[0m \u001b[0mbytearray\u001b[0m\u001b[0;34m(\u001b[0m\u001b[0mbyte_str\u001b[0m\u001b[0;34m)\u001b[0m\u001b[0;34m\u001b[0m\u001b[0;34m\u001b[0m\u001b[0m\n\u001b[1;32m     37\u001b[0m     \u001b[0mdetector\u001b[0m \u001b[0;34m=\u001b[0m \u001b[0mUniversalDetector\u001b[0m\u001b[0;34m(\u001b[0m\u001b[0;34m)\u001b[0m\u001b[0;34m\u001b[0m\u001b[0;34m\u001b[0m\u001b[0m\n\u001b[0;32m---> 38\u001b[0;31m     \u001b[0mdetector\u001b[0m\u001b[0;34m.\u001b[0m\u001b[0mfeed\u001b[0m\u001b[0;34m(\u001b[0m\u001b[0mbyte_str\u001b[0m\u001b[0;34m)\u001b[0m\u001b[0;34m\u001b[0m\u001b[0;34m\u001b[0m\u001b[0m\n\u001b[0m\u001b[1;32m     39\u001b[0m     \u001b[0;32mreturn\u001b[0m \u001b[0mdetector\u001b[0m\u001b[0;34m.\u001b[0m\u001b[0mclose\u001b[0m\u001b[0;34m(\u001b[0m\u001b[0;34m)\u001b[0m\u001b[0;34m\u001b[0m\u001b[0;34m\u001b[0m\u001b[0m\n",
      "\u001b[0;32m~/anaconda3/envs/long37v/lib/python3.8/site-packages/chardet/universaldetector.py\u001b[0m in \u001b[0;36mfeed\u001b[0;34m(self, byte_str)\u001b[0m\n\u001b[1;32m    209\u001b[0m                 \u001b[0mself\u001b[0m\u001b[0;34m.\u001b[0m\u001b[0m_charset_probers\u001b[0m\u001b[0;34m.\u001b[0m\u001b[0mappend\u001b[0m\u001b[0;34m(\u001b[0m\u001b[0mLatin1Prober\u001b[0m\u001b[0;34m(\u001b[0m\u001b[0;34m)\u001b[0m\u001b[0;34m)\u001b[0m\u001b[0;34m\u001b[0m\u001b[0;34m\u001b[0m\u001b[0m\n\u001b[1;32m    210\u001b[0m             \u001b[0;32mfor\u001b[0m \u001b[0mprober\u001b[0m \u001b[0;32min\u001b[0m \u001b[0mself\u001b[0m\u001b[0;34m.\u001b[0m\u001b[0m_charset_probers\u001b[0m\u001b[0;34m:\u001b[0m\u001b[0;34m\u001b[0m\u001b[0;34m\u001b[0m\u001b[0m\n\u001b[0;32m--> 211\u001b[0;31m                 \u001b[0;32mif\u001b[0m \u001b[0mprober\u001b[0m\u001b[0;34m.\u001b[0m\u001b[0mfeed\u001b[0m\u001b[0;34m(\u001b[0m\u001b[0mbyte_str\u001b[0m\u001b[0;34m)\u001b[0m \u001b[0;34m==\u001b[0m \u001b[0mProbingState\u001b[0m\u001b[0;34m.\u001b[0m\u001b[0mFOUND_IT\u001b[0m\u001b[0;34m:\u001b[0m\u001b[0;34m\u001b[0m\u001b[0;34m\u001b[0m\u001b[0m\n\u001b[0m\u001b[1;32m    212\u001b[0m                     self.result = {'encoding': prober.charset_name,\n\u001b[1;32m    213\u001b[0m                                    \u001b[0;34m'confidence'\u001b[0m\u001b[0;34m:\u001b[0m \u001b[0mprober\u001b[0m\u001b[0;34m.\u001b[0m\u001b[0mget_confidence\u001b[0m\u001b[0;34m(\u001b[0m\u001b[0;34m)\u001b[0m\u001b[0;34m,\u001b[0m\u001b[0;34m\u001b[0m\u001b[0;34m\u001b[0m\u001b[0m\n",
      "\u001b[0;32m~/anaconda3/envs/long37v/lib/python3.8/site-packages/chardet/charsetgroupprober.py\u001b[0m in \u001b[0;36mfeed\u001b[0;34m(self, byte_str)\u001b[0m\n\u001b[1;32m     69\u001b[0m             \u001b[0;32mif\u001b[0m \u001b[0;32mnot\u001b[0m \u001b[0mprober\u001b[0m\u001b[0;34m.\u001b[0m\u001b[0mactive\u001b[0m\u001b[0;34m:\u001b[0m\u001b[0;34m\u001b[0m\u001b[0;34m\u001b[0m\u001b[0m\n\u001b[1;32m     70\u001b[0m                 \u001b[0;32mcontinue\u001b[0m\u001b[0;34m\u001b[0m\u001b[0;34m\u001b[0m\u001b[0m\n\u001b[0;32m---> 71\u001b[0;31m             \u001b[0mstate\u001b[0m \u001b[0;34m=\u001b[0m \u001b[0mprober\u001b[0m\u001b[0;34m.\u001b[0m\u001b[0mfeed\u001b[0m\u001b[0;34m(\u001b[0m\u001b[0mbyte_str\u001b[0m\u001b[0;34m)\u001b[0m\u001b[0;34m\u001b[0m\u001b[0;34m\u001b[0m\u001b[0m\n\u001b[0m\u001b[1;32m     72\u001b[0m             \u001b[0;32mif\u001b[0m \u001b[0;32mnot\u001b[0m \u001b[0mstate\u001b[0m\u001b[0;34m:\u001b[0m\u001b[0;34m\u001b[0m\u001b[0;34m\u001b[0m\u001b[0m\n\u001b[1;32m     73\u001b[0m                 \u001b[0;32mcontinue\u001b[0m\u001b[0;34m\u001b[0m\u001b[0;34m\u001b[0m\u001b[0m\n",
      "\u001b[0;32m~/anaconda3/envs/long37v/lib/python3.8/site-packages/chardet/sbcharsetprober.py\u001b[0m in \u001b[0;36mfeed\u001b[0;34m(self, byte_str)\u001b[0m\n\u001b[1;32m     77\u001b[0m     \u001b[0;32mdef\u001b[0m \u001b[0mfeed\u001b[0m\u001b[0;34m(\u001b[0m\u001b[0mself\u001b[0m\u001b[0;34m,\u001b[0m \u001b[0mbyte_str\u001b[0m\u001b[0;34m)\u001b[0m\u001b[0;34m:\u001b[0m\u001b[0;34m\u001b[0m\u001b[0;34m\u001b[0m\u001b[0m\n\u001b[1;32m     78\u001b[0m         \u001b[0;32mif\u001b[0m \u001b[0;32mnot\u001b[0m \u001b[0mself\u001b[0m\u001b[0;34m.\u001b[0m\u001b[0m_model\u001b[0m\u001b[0;34m[\u001b[0m\u001b[0;34m'keep_english_letter'\u001b[0m\u001b[0;34m]\u001b[0m\u001b[0;34m:\u001b[0m\u001b[0;34m\u001b[0m\u001b[0;34m\u001b[0m\u001b[0m\n\u001b[0;32m---> 79\u001b[0;31m             \u001b[0mbyte_str\u001b[0m \u001b[0;34m=\u001b[0m \u001b[0mself\u001b[0m\u001b[0;34m.\u001b[0m\u001b[0mfilter_international_words\u001b[0m\u001b[0;34m(\u001b[0m\u001b[0mbyte_str\u001b[0m\u001b[0;34m)\u001b[0m\u001b[0;34m\u001b[0m\u001b[0;34m\u001b[0m\u001b[0m\n\u001b[0m\u001b[1;32m     80\u001b[0m         \u001b[0;32mif\u001b[0m \u001b[0;32mnot\u001b[0m \u001b[0mbyte_str\u001b[0m\u001b[0;34m:\u001b[0m\u001b[0;34m\u001b[0m\u001b[0;34m\u001b[0m\u001b[0m\n\u001b[1;32m     81\u001b[0m             \u001b[0;32mreturn\u001b[0m \u001b[0mself\u001b[0m\u001b[0;34m.\u001b[0m\u001b[0mstate\u001b[0m\u001b[0;34m\u001b[0m\u001b[0;34m\u001b[0m\u001b[0m\n",
      "\u001b[0;32m~/anaconda3/envs/long37v/lib/python3.8/site-packages/chardet/charsetprober.py\u001b[0m in \u001b[0;36mfilter_international_words\u001b[0;34m(buf)\u001b[0m\n\u001b[1;32m     84\u001b[0m         \u001b[0;31m# international character. The word may include one marker character at\u001b[0m\u001b[0;34m\u001b[0m\u001b[0;34m\u001b[0m\u001b[0;34m\u001b[0m\u001b[0m\n\u001b[1;32m     85\u001b[0m         \u001b[0;31m# the end.\u001b[0m\u001b[0;34m\u001b[0m\u001b[0;34m\u001b[0m\u001b[0;34m\u001b[0m\u001b[0m\n\u001b[0;32m---> 86\u001b[0;31m         words = re.findall(b'[a-zA-Z]*[\\x80-\\xFF]+[a-zA-Z]*[^a-zA-Z\\x80-\\xFF]?',\n\u001b[0m\u001b[1;32m     87\u001b[0m                            buf)\n\u001b[1;32m     88\u001b[0m \u001b[0;34m\u001b[0m\u001b[0m\n",
      "\u001b[0;32m~/anaconda3/envs/long37v/lib/python3.8/re.py\u001b[0m in \u001b[0;36mfindall\u001b[0;34m(pattern, string, flags)\u001b[0m\n\u001b[1;32m    237\u001b[0m \u001b[0;34m\u001b[0m\u001b[0m\n\u001b[1;32m    238\u001b[0m     Empty matches are included in the result.\"\"\"\n\u001b[0;32m--> 239\u001b[0;31m     \u001b[0;32mreturn\u001b[0m \u001b[0m_compile\u001b[0m\u001b[0;34m(\u001b[0m\u001b[0mpattern\u001b[0m\u001b[0;34m,\u001b[0m \u001b[0mflags\u001b[0m\u001b[0;34m)\u001b[0m\u001b[0;34m.\u001b[0m\u001b[0mfindall\u001b[0m\u001b[0;34m(\u001b[0m\u001b[0mstring\u001b[0m\u001b[0;34m)\u001b[0m\u001b[0;34m\u001b[0m\u001b[0;34m\u001b[0m\u001b[0m\n\u001b[0m\u001b[1;32m    240\u001b[0m \u001b[0;34m\u001b[0m\u001b[0m\n\u001b[1;32m    241\u001b[0m \u001b[0;32mdef\u001b[0m \u001b[0mfinditer\u001b[0m\u001b[0;34m(\u001b[0m\u001b[0mpattern\u001b[0m\u001b[0;34m,\u001b[0m \u001b[0mstring\u001b[0m\u001b[0;34m,\u001b[0m \u001b[0mflags\u001b[0m\u001b[0;34m=\u001b[0m\u001b[0;36m0\u001b[0m\u001b[0;34m)\u001b[0m\u001b[0;34m:\u001b[0m\u001b[0;34m\u001b[0m\u001b[0;34m\u001b[0m\u001b[0m\n",
      "\u001b[0;31mKeyboardInterrupt\u001b[0m: "
     ]
    }
   ],
   "source": [
    "main_sub_url = get_sub_pages(HSPT_URL_VALID_2, visited)\n",
    "HSPT_CHILDREN_URL_list = get_html_table(main_sub_url, depth=2)\n",
    "HSPT_CHILDREN_URL = concat_from_list(HSPT_CHILDREN_URL_list)\n",
    "HSPT_CHILDREN_URL_2 = drop_duplicate_by_column(HSPT_CHILDREN_URL, \"url\")\n",
    "print(HSPT_CHILDREN_URL_2.head())"
   ]
  },
  {
   "cell_type": "code",
   "execution_count": null,
   "metadata": {
    "scrolled": true
   },
   "outputs": [],
   "source": [
    "HSPT_CHILDREN_URL_2[HSPT_CHILDREN_URL_2[\"text\"].apply(lambda e : '비급여' in e)]"
   ]
  },
  {
   "cell_type": "code",
   "execution_count": null,
   "metadata": {},
   "outputs": [],
   "source": [
    "HSPT_CHILDREN_URL_2[HSPT_CHILDREN_URL_2[\"hspt\"].apply(lambda e : '비급여' in e)]"
   ]
  },
  {
   "cell_type": "code",
   "execution_count": null,
   "metadata": {},
   "outputs": [],
   "source": [
    "break"
   ]
  },
  {
   "cell_type": "code",
   "execution_count": null,
   "metadata": {},
   "outputs": [],
   "source": []
  },
  {
   "cell_type": "code",
   "execution_count": null,
   "metadata": {},
   "outputs": [],
   "source": []
  }
 ],
 "metadata": {
  "kernelspec": {
   "display_name": "Python 3",
   "language": "python",
   "name": "python3"
  },
  "language_info": {
   "codemirror_mode": {
    "name": "ipython",
    "version": 3
   },
   "file_extension": ".py",
   "mimetype": "text/x-python",
   "name": "python",
   "nbconvert_exporter": "python",
   "pygments_lexer": "ipython3",
   "version": "3.8.1"
  }
 },
 "nbformat": 4,
 "nbformat_minor": 4
}
