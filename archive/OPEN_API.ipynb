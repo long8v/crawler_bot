{
 "cells": [
  {
   "cell_type": "code",
   "execution_count": 129,
   "metadata": {},
   "outputs": [],
   "source": [
    "import requests"
   ]
  },
  {
   "cell_type": "code",
   "execution_count": 130,
   "metadata": {},
   "outputs": [],
   "source": [
    "from urllib import parse\n",
    "from urllib.request import urlopen\n",
    "from bs4 import BeautifulSoup\n",
    "import pandas as pd\n",
    "import json\n",
    "import pickle"
   ]
  },
  {
   "cell_type": "code",
   "execution_count": 131,
   "metadata": {},
   "outputs": [],
   "source": [
    "url = 'http://apis.data.go.kr/B551182/nonPaymentDamtInfoService/getNonPaymentItemCodeList?'"
   ]
  },
  {
   "cell_type": "code",
   "execution_count": 132,
   "metadata": {},
   "outputs": [],
   "source": [
    "key = '68YnHqg40s2XsMubUmZSmB73fF5XDDRZA6vymf9cn4xyWgaJzLObD1aBDCreldeWxneRshJS4xfFl3GxgvoO4g%3D%3D'"
   ]
  },
  {
   "cell_type": "code",
   "execution_count": 133,
   "metadata": {},
   "outputs": [],
   "source": [
    "params = parse.urlencode({'ServiceKey':requests.utils.unquote(key)}, encoding='utf-8')"
   ]
  },
  {
   "cell_type": "code",
   "execution_count": 134,
   "metadata": {},
   "outputs": [
    {
     "data": {
      "text/plain": [
       "'ServiceKey=68YnHqg40s2XsMubUmZSmB73fF5XDDRZA6vymf9cn4xyWgaJzLObD1aBDCreldeWxneRshJS4xfFl3GxgvoO4g%3D%3D'"
      ]
     },
     "execution_count": 134,
     "metadata": {},
     "output_type": "execute_result"
    }
   ],
   "source": [
    "params"
   ]
  },
  {
   "cell_type": "code",
   "execution_count": 135,
   "metadata": {
    "scrolled": false
   },
   "outputs": [
    {
     "data": {
      "text/plain": [
       "'<?xml version=\"1.0\" encoding=\"UTF-8\" standalone=\"yes\"?><response><header><resultCode>00</resultCode><resultMsg>NORMAL SERVICE.</resultMsg></header><body><items><item><divCd1>A</divCd1><divCd1Dsc>건강보험에서 정한 비용 외에 추가로 비용부담이 있는 병실입니다. (상급병실을 운영하는 병원은 일정규모의 보험적용 병실을 갖추어야 함) &lt;br&gt;※ 다만, 대형병원(상급종합병원)의 1인실 병실료는 건강보험 제외 대상입니다.  &lt;br&gt;▶ 특실, 출산 관련 병실, 정신과병실은 특수성을 감안하여 정보제공에서 제외하였습니다.</divCd1Dsc><divCd1Nm>상급병실료차액</divCd1Nm><divCd2>A1100</divCd2><divCd2Dsc>1개의 입원실에 1인 입원</divCd2Dsc><divCd2Nm>1인실</divCd2Nm></item><item><divCd1>A</divCd1><divCd1Dsc>건강보험에서 정한 비용 외에 추가로 비용부담이 있는 병실입니다. (상급병실을 운영하는 병원은 일정규모의 보험적용 병실을 갖추어야 함) &lt;br&gt;※ 다만, 대형병원(상급종합병원)의 1인실 병실료는 건강보험 제외 대상입니다.  &lt;br&gt;▶ 특실, 출산 관련 병실, 정신과병실은 특수성을 감안하여 정보제공에서 제외하였습니다.</divCd1Dsc><divCd1Nm>상급병실료차액</divCd1Nm><divCd2>A1200</divCd2><divCd2Dsc>1개의 입원실에 2인 입원</divCd2Dsc><divCd2Nm>2인실</divCd2Nm></item><item><divCd1>A</divCd1><divCd1Dsc>건강보험에서 정한 비용 외에 추가로 비용부담이 있는 병실입니다. (상급병실을 운영하는 병원은 일정규모의 보험적용 병실을 갖추어야 함) &lt;br&gt;※ 다만, 대형병원(상급종합병원)의 1인실 병실료는 건강보험 제외 대상입니다.  &lt;br&gt;▶ 특실, 출산 관련 병실, 정신과병실은 특수성을 감안하여 정보제공에서 제외하였습니다.</divCd1Dsc><divCd1Nm>상급병실료차액</divCd1Nm><divCd2>A1300</divCd2><divCd2Dsc>1개의 입원실에 3인 입원</divCd2Dsc><divCd2Nm>3인실</divCd2Nm></item><item><divCd1>B</divCd1><divCd1Dsc>초음파를 생성하는 탐촉자를 검사부위에 밀착시켜 초음파를 보낸 다음 되돌아오는 초음파를 실시간 영상화하는 검사입니다.&lt;br&gt;&lt;br&gt;※ 아래비용은 진단 목적으로 실시하는 검사로 추적검사는 공개비용에서 제외하였습니다.</divCd1Dsc><divCd1Nm>초음파검사료</divCd1Nm><divCd2>B1100</divCd2><divCd2Dsc>물혹, 염증, 양성종양, 악성종양 등의 진단을 위해 실시하는 검사로 추적검사는 공개비용에서 제외하였습니다.</divCd2Dsc><divCd2Nm>갑상선(부갑상선포함)</divCd2Nm></item><item><divCd1>B</divCd1><divCd1Dsc>초음파를 생성하는 탐촉자를 검사부위에 밀착시켜 초음파를 보낸 다음 되돌아오는 초음파를 실시간 영상화하는 검사입니다.&lt;br&gt;&lt;br&gt;※ 아래비용은 진단 목적으로 실시하는 검사로 추적검사는 공개비용에서 제외하였습니다.</divCd1Dsc><divCd1Nm>초음파검사료</divCd1Nm><divCd2>B1200</divCd2><divCd2Dsc>물혹, 염증, 양성고형종양, 악성종양 등의 진단을 위해 실시하는 검사로 추적검사는 공개비용에서 제외하였습니다</divCd2Dsc><divCd2Nm>유방</divCd2Nm></item><item><divCd1>B</divCd1><divCd1Dsc>초음파를 생성하는 탐촉자를 검사부위에 밀착시켜 초음파를 보낸 다음 되돌아오는 초음파를 실시간 영상화하는 검사입니다.&lt;br&gt;&lt;br&gt;※ 아래비용은 진단 목적으로 실시하는 검사로 추적검사는 공개비용에서 제외하였습니다.</divCd1Dsc><divCd1Nm>초음파검사료</divCd1Nm><divCd2>B1300</divCd2><divCd2Dsc>물혹, 염증, 양성종양, 악성종양 등의 진단을 위해 실시하는 검사로 추적검사는 공개비용에서 제외하였습니다.</divCd2Dsc><divCd2Nm>상복부(간, 담낭, 담도, 비장, 췌장)</divCd2Nm></item><item><divCd1>C</divCd1><divCd1Dsc>양전자단층촬영(PET)은 양전자를 방출하는 방사성 동위원소(F-18 FDG)를 이용하여 인체의 생화학적, 물리학적 영상을 3차원으로 나타낼 수 있는 검사로, 전산화단층영상진단(CT)과 결합된 PET-CT로 검사하기도 합니다. &lt;br&gt;&lt;br&gt;※  아래 비용은 검사에 사용된 의약품과 재료 비용을 포함하므로 병원홈페이지의 고지가격과 상이할 수 있습니다. &lt;br&gt;     아울러, 동 검사료 이외에 영상저장 및 전송시스템료(Full PACS)가 추가로 발생할 수 있습니다.&lt;br&gt;   * &quot;비고&quot;의 조영제는 CT 조영제를 의미.  </divCd1Dsc><divCd1Nm>PET진단료</divCd1Nm></item><item><divCd1>D</divCd1><divCd1Dsc>캡슐내시경검사는 기존의 내시경검사로 접근이 곤란한 소장부위의 질환을 진단하기 위해 실시합니다. 평평하거나 침윤이 있거나, 염증이 있는 경우에는 기존의 방사선적 검사로 진단하는데 제한이 있어 이를 보완하기 위해 시행합니다.&lt;br&gt;&lt;br&gt;※ 아래 비용은 행위료와 재료대를 포함한 비용이므로 병원의 홈페이지 고지가격과 다를 수 있습니다. </divCd1Dsc><divCd1Nm>캡슐내시경검사료</divCd1Nm></item><item><divCd1>E</divCd1><divCd1Dsc>각종 진단서, 증명서 발급수수료를 말합니다. 일부 진단서는 진찰료가 별도로 발생할 수 있습니다.</divCd1Dsc><divCd1Nm>제증명수수료</divCd1Nm><divCd2>E1100</divCd2><divCd2Dsc>환자의 질병명, 진단날짜, 치료내용, 의사성명 등이 기재&lt;br&gt;※  아래비용은 국문 제증명서 기준입니다.</divCd2Dsc><divCd2Nm>일반진단서</divCd2Nm></item><item><divCd1>E</divCd1><divCd1Dsc>각종 진단서, 증명서 발급수수료를 말합니다. 일부 진단서는 진찰료가 별도로 발생할 수 있습니다.</divCd1Dsc><divCd1Nm>제증명수수료</divCd1Nm><divCd2>E1200</divCd2><divCd2Dsc>개인의 사망을 증명하는 진단서로 사망원인, 사망일시, 사망장소 등이 기재. 의사가 환자를 진료한지 48시간 내에 예견된 원인으로 사망한 경우 발급 &lt;br&gt;※ 아래비용은 국문 제증명서 기준입니다.</divCd2Dsc><divCd2Nm>사망진단서</divCd2Nm></item></items><numOfRows>10</numOfRows><pageNo>1</pageNo><totalCount>54</totalCount></body></response>'"
      ]
     },
     "execution_count": 135,
     "metadata": {},
     "output_type": "execute_result"
    }
   ],
   "source": [
    "rqst = requests.request(url = '{}&{}'.format(url, params), method = 'GET')\n",
    "rqst.text"
   ]
  },
  {
   "cell_type": "code",
   "execution_count": 136,
   "metadata": {},
   "outputs": [
    {
     "data": {
      "text/plain": [
       "<body><response><header><resultcode>00</resultcode><resultmsg>NORMAL SERVICE.</resultmsg></header><items><item><divcd1>A</divcd1><divcd1dsc>건강보험에서 정한 비용 외에 추가로 비용부담이 있는 병실입니다. (상급병실을 운영하는 병원은 일정규모의 보험적용 병실을 갖추어야 함) &lt;br&gt;※ 다만, 대형병원(상급종합병원)의 1인실 병실료는 건강보험 제외 대상입니다.  &lt;br&gt;▶ 특실, 출산 관련 병실, 정신과병실은 특수성을 감안하여 정보제공에서 제외하였습니다.</divcd1dsc><divcd1nm>상급병실료차액</divcd1nm><divcd2>A1100</divcd2><divcd2dsc>1개의 입원실에 1인 입원</divcd2dsc><divcd2nm>1인실</divcd2nm></item><item><divcd1>A</divcd1><divcd1dsc>건강보험에서 정한 비용 외에 추가로 비용부담이 있는 병실입니다. (상급병실을 운영하는 병원은 일정규모의 보험적용 병실을 갖추어야 함) &lt;br&gt;※ 다만, 대형병원(상급종합병원)의 1인실 병실료는 건강보험 제외 대상입니다.  &lt;br&gt;▶ 특실, 출산 관련 병실, 정신과병실은 특수성을 감안하여 정보제공에서 제외하였습니다.</divcd1dsc><divcd1nm>상급병실료차액</divcd1nm><divcd2>A1200</divcd2><divcd2dsc>1개의 입원실에 2인 입원</divcd2dsc><divcd2nm>2인실</divcd2nm></item><item><divcd1>A</divcd1><divcd1dsc>건강보험에서 정한 비용 외에 추가로 비용부담이 있는 병실입니다. (상급병실을 운영하는 병원은 일정규모의 보험적용 병실을 갖추어야 함) &lt;br&gt;※ 다만, 대형병원(상급종합병원)의 1인실 병실료는 건강보험 제외 대상입니다.  &lt;br&gt;▶ 특실, 출산 관련 병실, 정신과병실은 특수성을 감안하여 정보제공에서 제외하였습니다.</divcd1dsc><divcd1nm>상급병실료차액</divcd1nm><divcd2>A1300</divcd2><divcd2dsc>1개의 입원실에 3인 입원</divcd2dsc><divcd2nm>3인실</divcd2nm></item><item><divcd1>B</divcd1><divcd1dsc>초음파를 생성하는 탐촉자를 검사부위에 밀착시켜 초음파를 보낸 다음 되돌아오는 초음파를 실시간 영상화하는 검사입니다.&lt;br&gt;&lt;br&gt;※ 아래비용은 진단 목적으로 실시하는 검사로 추적검사는 공개비용에서 제외하였습니다.</divcd1dsc><divcd1nm>초음파검사료</divcd1nm><divcd2>B1100</divcd2><divcd2dsc>물혹, 염증, 양성종양, 악성종양 등의 진단을 위해 실시하는 검사로 추적검사는 공개비용에서 제외하였습니다.</divcd2dsc><divcd2nm>갑상선(부갑상선포함)</divcd2nm></item><item><divcd1>B</divcd1><divcd1dsc>초음파를 생성하는 탐촉자를 검사부위에 밀착시켜 초음파를 보낸 다음 되돌아오는 초음파를 실시간 영상화하는 검사입니다.&lt;br&gt;&lt;br&gt;※ 아래비용은 진단 목적으로 실시하는 검사로 추적검사는 공개비용에서 제외하였습니다.</divcd1dsc><divcd1nm>초음파검사료</divcd1nm><divcd2>B1200</divcd2><divcd2dsc>물혹, 염증, 양성고형종양, 악성종양 등의 진단을 위해 실시하는 검사로 추적검사는 공개비용에서 제외하였습니다</divcd2dsc><divcd2nm>유방</divcd2nm></item><item><divcd1>B</divcd1><divcd1dsc>초음파를 생성하는 탐촉자를 검사부위에 밀착시켜 초음파를 보낸 다음 되돌아오는 초음파를 실시간 영상화하는 검사입니다.&lt;br&gt;&lt;br&gt;※ 아래비용은 진단 목적으로 실시하는 검사로 추적검사는 공개비용에서 제외하였습니다.</divcd1dsc><divcd1nm>초음파검사료</divcd1nm><divcd2>B1300</divcd2><divcd2dsc>물혹, 염증, 양성종양, 악성종양 등의 진단을 위해 실시하는 검사로 추적검사는 공개비용에서 제외하였습니다.</divcd2dsc><divcd2nm>상복부(간, 담낭, 담도, 비장, 췌장)</divcd2nm></item><item><divcd1>C</divcd1><divcd1dsc>양전자단층촬영(PET)은 양전자를 방출하는 방사성 동위원소(F-18 FDG)를 이용하여 인체의 생화학적, 물리학적 영상을 3차원으로 나타낼 수 있는 검사로, 전산화단층영상진단(CT)과 결합된 PET-CT로 검사하기도 합니다. &lt;br&gt;&lt;br&gt;※  아래 비용은 검사에 사용된 의약품과 재료 비용을 포함하므로 병원홈페이지의 고지가격과 상이할 수 있습니다. &lt;br&gt;     아울러, 동 검사료 이외에 영상저장 및 전송시스템료(Full PACS)가 추가로 발생할 수 있습니다.&lt;br&gt;   * \"비고\"의 조영제는 CT 조영제를 의미.  </divcd1dsc><divcd1nm>PET진단료</divcd1nm></item><item><divcd1>D</divcd1><divcd1dsc>캡슐내시경검사는 기존의 내시경검사로 접근이 곤란한 소장부위의 질환을 진단하기 위해 실시합니다. 평평하거나 침윤이 있거나, 염증이 있는 경우에는 기존의 방사선적 검사로 진단하는데 제한이 있어 이를 보완하기 위해 시행합니다.&lt;br&gt;&lt;br&gt;※ 아래 비용은 행위료와 재료대를 포함한 비용이므로 병원의 홈페이지 고지가격과 다를 수 있습니다. </divcd1dsc><divcd1nm>캡슐내시경검사료</divcd1nm></item><item><divcd1>E</divcd1><divcd1dsc>각종 진단서, 증명서 발급수수료를 말합니다. 일부 진단서는 진찰료가 별도로 발생할 수 있습니다.</divcd1dsc><divcd1nm>제증명수수료</divcd1nm><divcd2>E1100</divcd2><divcd2dsc>환자의 질병명, 진단날짜, 치료내용, 의사성명 등이 기재&lt;br&gt;※  아래비용은 국문 제증명서 기준입니다.</divcd2dsc><divcd2nm>일반진단서</divcd2nm></item><item><divcd1>E</divcd1><divcd1dsc>각종 진단서, 증명서 발급수수료를 말합니다. 일부 진단서는 진찰료가 별도로 발생할 수 있습니다.</divcd1dsc><divcd1nm>제증명수수료</divcd1nm><divcd2>E1200</divcd2><divcd2dsc>개인의 사망을 증명하는 진단서로 사망원인, 사망일시, 사망장소 등이 기재. 의사가 환자를 진료한지 48시간 내에 예견된 원인으로 사망한 경우 발급 &lt;br&gt;※ 아래비용은 국문 제증명서 기준입니다.</divcd2dsc><divcd2nm>사망진단서</divcd2nm></item></items><numofrows>10</numofrows><pageno>1</pageno><totalcount>54</totalcount></response></body>"
      ]
     },
     "execution_count": 136,
     "metadata": {},
     "output_type": "execute_result"
    }
   ],
   "source": [
    "BeautifulSoup(rqst.text, 'lxml').body"
   ]
  }
 ],
 "metadata": {
  "kernelspec": {
   "display_name": "Python 3",
   "language": "python",
   "name": "python3"
  },
  "language_info": {
   "codemirror_mode": {
    "name": "ipython",
    "version": 3
   },
   "file_extension": ".py",
   "mimetype": "text/x-python",
   "name": "python",
   "nbconvert_exporter": "python",
   "pygments_lexer": "ipython3",
   "version": "3.8.1"
  }
 },
 "nbformat": 4,
 "nbformat_minor": 4
}
